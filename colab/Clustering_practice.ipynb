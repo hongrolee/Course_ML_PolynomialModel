{
  "cells": [
    {
      "cell_type": "markdown",
      "metadata": {
        "id": "view-in-github",
        "colab_type": "text"
      },
      "source": [
        "<a href=\"https://colab.research.google.com/github/hongrolee/Machine-Learning/blob/main/colab/Clustering_practice.ipynb\" target=\"_parent\"><img src=\"https://colab.research.google.com/assets/colab-badge.svg\" alt=\"Open In Colab\"/></a>"
      ]
    },
    {
      "cell_type": "markdown",
      "metadata": {
        "id": "9xBZ675i-RAs"
      },
      "source": [
        "# Clustering Algorithm"
      ]
    },
    {
      "cell_type": "markdown",
      "metadata": {
        "id": "gPJ0mIpixFyO"
      },
      "source": [
        "## 1.Preparing fruit data"
      ]
    },
    {
      "cell_type": "markdown",
      "source": [
        "### 1) 데이터 다운로드"
      ],
      "metadata": {
        "id": "1SJ8NlodS2So"
      }
    },
    {
      "cell_type": "markdown",
      "source": [
        "### 2) 데이터 Load"
      ],
      "metadata": {
        "id": "DMfBVmAdS-qI"
      }
    },
    {
      "cell_type": "markdown",
      "source": [
        "### 3) 데이터 확인\n",
        "\n",
        "\n",
        "*   데이터 형태 확인 : shape\n",
        "*   한 줄만 확인 : print(fruits[0, 0,] :)\n",
        "*   3개의 과일 모두 확인 : plt.imshow(fruits[0], cmap='gray') and gray_r\n",
        "*   2개 그래프로 비교 확인 : fig, axs = plt.subplots(1, 2)"
      ],
      "metadata": {
        "id": "vC4hk3lhTDIo"
      }
    },
    {
      "cell_type": "markdown",
      "metadata": {
        "id": "4qRSenHBLmW8"
      },
      "source": [
        "## 2.픽셀 값 분석하기"
      ]
    },
    {
      "cell_type": "markdown",
      "source": [
        "### 1) 2차원으로 형 변환\n",
        "\n",
        "*   형태 변환 : apple = fruits[0:100].reshape(-1, 100*100)\n",
        "*   형태 확인 : shape\n",
        "\n"
      ],
      "metadata": {
        "id": "c7ckG19zUija"
      }
    },
    {
      "cell_type": "markdown",
      "source": [
        "### 2) 평균값 확인\n",
        "\n",
        "*   apple.mean(axis=1)\n",
        "\n"
      ],
      "metadata": {
        "id": "nObcW84FVE4f"
      }
    },
    {
      "cell_type": "markdown",
      "source": [
        "### 3) 평균값 히스토그램 출력\n",
        "\n",
        "*   plt.hist(np.mean(apple, axis=1), alpha=0.8)\n",
        "<br> plt.legend(['apple', 'pineapple', 'banana'])\n",
        "<br> plt.show()\n",
        "\n"
      ],
      "metadata": {
        "id": "ZFxQxXr-VXTb"
      }
    },
    {
      "cell_type": "markdown",
      "source": [
        "### 4) 픽셀값 비교 그래프 출력\n",
        "\n",
        "*   fig, axs = plt.subplots(1, 3, figsize=(20, 5))\n",
        "<br> axs[0].bar(range(10000), np.mean(apple, axis=0))\n",
        "<br> plt.show()\n",
        "\n"
      ],
      "metadata": {
        "id": "oJQ3_GJPV80x"
      }
    },
    {
      "cell_type": "markdown",
      "source": [
        "### 5)평균값 비교 그래프 출력\n",
        "\n",
        "*   apple_mean = np.mean(apple, axis=0).reshape(100, 100)\n",
        "<br> fig, axs = plt.subplots(1, 3, figsize=(20, 5))\n",
        "<br> axs[0].imshow(apple_mean, cmap='gray_r')\n",
        "<br> plt.show()\n",
        "\n"
      ],
      "metadata": {
        "id": "BVs5AtGqlPDj"
      }
    },
    {
      "cell_type": "markdown",
      "metadata": {
        "id": "4fksMBxQ-RAz"
      },
      "source": [
        "## 3.사과의 평균값과 가까운 사진 고르기\n",
        "\n"
      ]
    },
    {
      "cell_type": "markdown",
      "source": [
        "### 1) 전체 평균 구하기\n",
        "\n",
        "*   abs_diff = np.abs(fruits - apple_mean)\n",
        "*   abs_mean = np.mean(abs_diff, axis=(1,2))"
      ],
      "metadata": {
        "id": "IOXWqurTmQDL"
      }
    }
  ],
  "metadata": {
    "colab": {
      "provenance": [],
      "toc_visible": true,
      "include_colab_link": true
    },
    "kernelspec": {
      "display_name": "TensorFlow 2.3 on Python 3.6 (CUDA 10.1)",
      "language": "python",
      "name": "python3"
    },
    "language_info": {
      "codemirror_mode": {
        "name": "ipython",
        "version": 3
      },
      "file_extension": ".py",
      "mimetype": "text/x-python",
      "name": "python",
      "nbconvert_exporter": "python",
      "pygments_lexer": "ipython3",
      "version": "3.6.9"
    }
  },
  "nbformat": 4,
  "nbformat_minor": 0
}