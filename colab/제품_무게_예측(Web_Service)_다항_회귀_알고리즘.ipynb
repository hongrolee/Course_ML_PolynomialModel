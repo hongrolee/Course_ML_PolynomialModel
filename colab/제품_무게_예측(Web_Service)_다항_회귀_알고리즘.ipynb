{
  "nbformat": 4,
  "nbformat_minor": 0,
  "metadata": {
    "colab": {
      "provenance": [],
      "authorship_tag": "ABX9TyMDU4CJOeNahA0ZIMHj3F1r",
      "include_colab_link": true
    },
    "kernelspec": {
      "name": "python3",
      "display_name": "Python 3"
    },
    "language_info": {
      "name": "python"
    },
    "gpuClass": "standard"
  },
  "cells": [
    {
      "cell_type": "markdown",
      "metadata": {
        "id": "view-in-github",
        "colab_type": "text"
      },
      "source": [
        "<a href=\"https://colab.research.google.com/github/hongrolee/Machine-Learning/blob/main/%EC%A0%9C%ED%92%88_%EB%AC%B4%EA%B2%8C_%EC%98%88%EC%B8%A1(Web_Service)_%EB%8B%A4%ED%95%AD_%ED%9A%8C%EA%B7%80_%EC%95%8C%EA%B3%A0%EB%A6%AC%EC%A6%98.ipynb\" target=\"_parent\"><img src=\"https://colab.research.google.com/assets/colab-badge.svg\" alt=\"Open In Colab\"/></a>"
      ]
    },
    {
      "cell_type": "markdown",
      "source": [
        "# 제품의 무게 예측해 보기"
      ],
      "metadata": {
        "id": "MMZ89pOberyp"
      }
    },
    {
      "cell_type": "markdown",
      "source": [
        "## 다항 회귀 알고리즘"
      ],
      "metadata": {
        "id": "Gfbp3Ss0e2Ge"
      }
    },
    {
      "cell_type": "markdown",
      "source": [
        "### 제품의 가로, 두께 생성하기"
      ],
      "metadata": {
        "id": "s7EUcU45fdaT"
      }
    },
    {
      "cell_type": "code",
      "source": [
        "import numpy as np\n",
        "import matplotlib.pyplot as plt\n",
        "\n",
        "product_width = np.array(\n",
        "    [8.4, 13.7, 15.0, 16.2, 17.4, 18.0, 18.7, 19.0, 19.6, 20.0, \n",
        "     21.0, 21.0, 21.0, 21.3, 22.0, 22.0, 22.0, 22.0, 22.0, 22.5, \n",
        "     22.5, 22.7, 23.0, 23.5, 24.0, 24.0, 24.6, 25.0, 25.6, 26.5, \n",
        "     27.3, 27.5, 27.5, 27.5, 28.0, 28.7, 30.0, 32.8, 34.5, 35.0, \n",
        "     36.5, 36.0, 37.0, 37.0, 39.0, 39.0, 39.0, 40.0, 40.0, 40.0, \n",
        "     40.0, 42.0, 43.0, 43.0, 43.5, 44.0]\n",
        "     )\n",
        "product_weight = np.array(\n",
        "    [5.9, 32.0, 40.0, 51.5, 70.0, 100.0, 78.0, 80.0, 85.0, 85.0, \n",
        "     110.0, 115.0, 125.0, 130.0, 120.0, 120.0, 130.0, 135.0, 110.0, \n",
        "     130.0, 150.0, 145.0, 150.0, 170.0, 225.0, 145.0, 188.0, 180.0, \n",
        "     197.0, 218.0, 300.0, 260.0, 265.0, 250.0, 250.0, 300.0, 320.0, \n",
        "     514.0, 556.0, 840.0, 685.0, 700.0, 700.0, 690.0, 900.0, 650.0, \n",
        "     820.0, 850.0, 900.0, 1015.0, 820.0, 1100.0, 1000.0, 1100.0, \n",
        "     1000.0, 1000.0]\n",
        "     )\n",
        "\n",
        "plt.scatter(product_width, product_weight)\n",
        "plt.xlabel('Width')\n",
        "plt.ylabel('Weight')\n",
        "plt.show()\n"
      ],
      "metadata": {
        "colab": {
          "base_uri": "https://localhost:8080/",
          "height": 449
        },
        "id": "ijceCxf3fmym",
        "outputId": "8843ebb7-62f8-49b2-c898-190e3fadd4f7"
      },
      "execution_count": null,
      "outputs": [
        {
          "output_type": "display_data",
          "data": {
            "text/plain": [
              "<Figure size 640x480 with 1 Axes>"
            ],
            "image/png": "[encoded data removed]"
          },
          "metadata": {}
        }
      ]
    },
    {
      "cell_type": "markdown",
      "source": [
        "### 사이킷런을 이용하여 훈련 및 테스트 데이터 생성하기"
      ],
      "metadata": {
        "id": "8qHGF4GgEa7i"
      }
    },
    {
      "cell_type": "code",
      "source": [
        "from sklearn.model_selection import train_test_split\n",
        "train_data, test_data, train_answer, test_answer = train_test_split(product_width, product_weight, random_state=42)\n",
        "\n",
        "train_data = train_data.reshape(-1,1)\n",
        "test_data = test_data.reshape(-1,1)\n",
        "\n",
        "train_square = np.column_stack((train_data ** 2, train_data))\n",
        "test_square = np.column_stack((test_data ** 2, test_data))\n",
        "\n",
        "print(train_data.shape, test_data.shape)\n",
        "print(train_square.shape, test_square.shape)\n",
        "print(train_square)"
      ],
      "metadata": {
        "colab": {
          "base_uri": "https://localhost:8080/"
        },
        "id": "DnOw5L14TiA2",
        "outputId": "db3938c1-009b-4180-db93-1bcb88761eaa"
      },
      "execution_count": null,
      "outputs": [
        {
          "output_type": "stream",
          "name": "stdout",
          "text": [
            "(42, 1) (14, 1)\n",
            "(42, 2) (14, 2)\n",
            "[[ 384.16   19.6 ]\n",
            " [ 484.     22.  ]\n",
            " [ 349.69   18.7 ]\n",
            " [ 302.76   17.4 ]\n",
            " [1296.     36.  ]\n",
            " [ 625.     25.  ]\n",
            " [1600.     40.  ]\n",
            " [1521.     39.  ]\n",
            " [1849.     43.  ]\n",
            " [ 484.     22.  ]\n",
            " [ 400.     20.  ]\n",
            " [ 484.     22.  ]\n",
            " [ 576.     24.  ]\n",
            " [ 756.25   27.5 ]\n",
            " [1849.     43.  ]\n",
            " [1600.     40.  ]\n",
            " [ 576.     24.  ]\n",
            " [ 441.     21.  ]\n",
            " [ 756.25   27.5 ]\n",
            " [1600.     40.  ]\n",
            " [1075.84   32.8 ]\n",
            " [ 702.25   26.5 ]\n",
            " [1332.25   36.5 ]\n",
            " [ 187.69   13.7 ]\n",
            " [ 515.29   22.7 ]\n",
            " [ 225.     15.  ]\n",
            " [1369.     37.  ]\n",
            " [1225.     35.  ]\n",
            " [ 823.69   28.7 ]\n",
            " [ 552.25   23.5 ]\n",
            " [1521.     39.  ]\n",
            " [ 441.     21.  ]\n",
            " [ 529.     23.  ]\n",
            " [ 484.     22.  ]\n",
            " [1936.     44.  ]\n",
            " [ 506.25   22.5 ]\n",
            " [ 361.     19.  ]\n",
            " [1369.     37.  ]\n",
            " [ 484.     22.  ]\n",
            " [ 655.36   25.6 ]\n",
            " [1764.     42.  ]\n",
            " [1190.25   34.5 ]]\n"
          ]
        }
      ]
    },
    {
      "cell_type": "markdown",
      "source": [
        "### 선형 회귀 알고리즘을 적용하여 학습하기(모델생성)"
      ],
      "metadata": {
        "id": "IoIff6s7hEW2"
      }
    },
    {
      "cell_type": "code",
      "source": [
        "from sklearn.linear_model import LinearRegression\n",
        "import joblib\n",
        "\n",
        "model = LinearRegression()\n",
        "model.fit(train_square, train_answer)\n",
        "\n",
        "joblib.dump(model,\"polynomial_model.pkl\")"
      ],
      "metadata": {
        "colab": {
          "base_uri": "https://localhost:8080/"
        },
        "id": "IR3-w1HehAZj",
        "outputId": "2f3e5762-8a92-469b-c7af-7d5393fd12d4"
      },
      "execution_count": null,
      "outputs": [
        {
          "output_type": "execute_result",
          "data": {
            "text/plain": [
              "['polynomial_model.pkl']"
            ]
          },
          "metadata": {},
          "execution_count": 7
        }
      ]
    },
    {
      "cell_type": "markdown",
      "source": [
        "### Width 50cm를 넣어 무게 예측해보기"
      ],
      "metadata": {
        "id": "6QmvMqgulVxl"
      }
    },
    {
      "cell_type": "code",
      "source": [
        "print(model.predict([[50**2,50]]))"
      ],
      "metadata": {
        "colab": {
          "base_uri": "https://localhost:8080/"
        },
        "id": "KmZGeEB5rhFn",
        "outputId": "8167efd9-8b53-474d-89b3-ce33b3dd2e61"
      },
      "execution_count": null,
      "outputs": [
        {
          "output_type": "stream",
          "name": "stdout",
          "text": [
            "[1573.98423528]\n"
          ]
        }
      ]
    },
    {
      "cell_type": "markdown",
      "source": [
        "### 계수와 절편 출력하기"
      ],
      "metadata": {
        "id": "vRYzl1PQKWF1"
      }
    },
    {
      "cell_type": "code",
      "source": [
        "print(model.coef_, model.intercept_)"
      ],
      "metadata": {
        "colab": {
          "base_uri": "https://localhost:8080/"
        },
        "id": "dRz-cc6-KbBV",
        "outputId": "c4f64d0a-2c49-4909-cefc-625914cf8497"
      },
      "execution_count": null,
      "outputs": [
        {
          "output_type": "stream",
          "name": "stdout",
          "text": [
            "[  1.01433211 -21.55792498] 116.0502107827827\n"
          ]
        }
      ]
    },
    {
      "cell_type": "markdown",
      "source": [
        "### 50cm 제품의 최근접 이웃들을 산점도에 표시하기"
      ],
      "metadata": {
        "id": "N_TNRMO6nabW"
      }
    },
    {
      "cell_type": "code",
      "source": [
        "import matplotlib.pyplot as plt\n",
        "\n",
        "width = np.arange(15,50)\n",
        "\n",
        "plt.scatter(train_data, train_answer)\n",
        "plt.plot(width, 1.01*width**2 + (-21.55)*width + 116.0502107827827)\n",
        " \n",
        "plt.scatter(50, 1574, marker='^')\n",
        "plt.xlabel('Width')\n",
        "plt.ylabel('Weight')\n",
        "plt.show()"
      ],
      "metadata": {
        "colab": {
          "base_uri": "https://localhost:8080/",
          "height": 449
        },
        "id": "FVkutU8Wrvg3",
        "outputId": "ced3c340-7d2e-46fb-c0b7-0ce071d04b89"
      },
      "execution_count": null,
      "outputs": [
        {
          "output_type": "display_data",
          "data": {
            "text/plain": [
              "<Figure size 640x480 with 1 Axes>"
            ],
            "image/png": "[encoded data removed]"
          },
          "metadata": {}
        }
      ]
    },
    {
      "cell_type": "markdown",
      "source": [],
      "metadata": {
        "id": "KTuM7nSBa3Sq"
      }
    },
    {
      "cell_type": "markdown",
      "source": [
        "### Training Set와 Test Set의 모델 평가해보기"
      ],
      "metadata": {
        "id": "8ZbxfC9PBPgx"
      }
    },
    {
      "cell_type": "code",
      "source": [
        "print('Training Set : ' + str(model.score(train_square, train_answer)))\n",
        "print('Test Set     : ' + str(model.score(test_square, test_answer)))"
      ],
      "metadata": {
        "colab": {
          "base_uri": "https://localhost:8080/"
        },
        "id": "C4FLGvzjBeHl",
        "outputId": "8fdbc1e9-d50e-41e4-d4ae-5b257891cdb4"
      },
      "execution_count": null,
      "outputs": [
        {
          "output_type": "stream",
          "name": "stdout",
          "text": [
            "Training Set : 0.9706807451768623\n",
            "Test Set     : 0.9775935108325122\n"
          ]
        }
      ]
    }
  ]
}
