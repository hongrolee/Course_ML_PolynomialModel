{
  "nbformat": 4,
  "nbformat_minor": 0,
  "metadata": {
    "colab": {
      "provenance": [],
      "authorship_tag": "ABX9TyNuFJx/wlMje8RX9H5AWoxg",
      "include_colab_link": true
    },
    "kernelspec": {
      "name": "python3",
      "display_name": "Python 3"
    },
    "language_info": {
      "name": "python"
    },
    "accelerator": "GPU",
    "gpuClass": "standard"
  },
  "cells": [
    {
      "cell_type": "markdown",
      "metadata": {
        "id": "view-in-github",
        "colab_type": "text"
      },
      "source": [
        "<a href=\"https://colab.research.google.com/github/hongrolee/Machine-Learning/blob/main/%EC%9E%90%EC%9C%A8%EC%A3%BC%ED%96%89%EC%97%90%EC%84%9C%EC%9D%98_%EC%82%AC%EB%9E%8C_%EB%B6%84%EB%A5%982_%ED%9B%88%EB%A0%A8%2C%ED%85%8C%EC%8A%A4%ED%8A%B8_%EB%8D%B0%EC%9D%B4%ED%84%B0_%EA%B5%AC%EB%B6%84.ipynb\" target=\"_parent\"><img src=\"https://colab.research.google.com/assets/colab-badge.svg\" alt=\"Open In Colab\"/></a>"
      ]
    },
    {
      "cell_type": "markdown",
      "source": [
        "# 나의 첫 머신러닝 프로그래밍"
      ],
      "metadata": {
        "id": "MMZ89pOberyp"
      }
    },
    {
      "cell_type": "markdown",
      "source": [
        "## 자율주행에서의 사람 분류2"
      ],
      "metadata": {
        "id": "Gfbp3Ss0e2Ge"
      }
    },
    {
      "cell_type": "markdown",
      "source": [
        "### 인식된 사람 데이터 현실적으로 수정하기"
      ],
      "metadata": {
        "id": "s7EUcU45fdaT"
      }
    },
    {
      "cell_type": "code",
      "source": [
        "import numpy as np\n",
        "import matplotlib.pyplot as plt\n",
        "from sklearn.neighbors import KNeighborsClassifier\n",
        "\n",
        "normal_person_width = np.sort(np.random.uniform(low=20, high=100, size=100))\n",
        "normal_person_height = np.sort(np.random.uniform(low=100, high=190, size=100))\n",
        "\n",
        "error_person_width = np.sort(np.append(np.random.uniform(low= 1, high=19, size=50),\n",
        "                             np.random.uniform(low=101, high=200, size=50)))\n",
        "error_person_height= np.sort(np.append(np.random.uniform(low=  1, high=99, size=50),\n",
        "                             np.random.uniform(low=191, high=250, size=50)))\n",
        "print(normal_person_width)\n",
        "\n",
        "plt.scatter(normal_person_width, normal_person_height)\n",
        "plt.scatter(error_person_width, error_person_height)\n",
        "plt.xlabel('Width')\n",
        "plt.ylabel('Height')\n",
        "plt.show()\n"
      ],
      "metadata": {
        "colab": {
          "base_uri": "https://localhost:8080/",
          "height": 584
        },
        "id": "ijceCxf3fmym",
        "outputId": "edc05932-3813-4b8f-b903-df770c014d76"
      },
      "execution_count": null,
      "outputs": [
        {
          "output_type": "stream",
          "name": "stdout",
          "text": [
            "[21.16357325 21.60569582 22.30261411 22.93465623 23.14497119 23.2694893\n",
            " 24.88623679 26.06906625 26.54072256 26.95362305 27.0962027  28.57376091\n",
            " 29.58097055 29.65086969 30.24366712 30.31037775 30.72121828 30.90971805\n",
            " 31.10617381 31.76587847 32.15221548 33.51480505 33.7855897  34.16083874\n",
            " 34.55040675 34.76168155 35.3831215  36.50669747 36.74794587 36.91584056\n",
            " 37.03713292 39.2116495  39.39764029 40.19495555 40.65955106 41.53945848\n",
            " 42.15021185 42.28722712 45.76633325 46.19978817 46.30012882 47.65338267\n",
            " 47.86043736 48.0470047  49.14158888 49.51309117 49.63776822 50.18273305\n",
            " 51.37952361 51.72342259 52.2786293  54.99799376 55.79298935 56.7308605\n",
            " 56.86230144 57.00277729 57.91693122 58.76183882 59.36930345 59.40944752\n",
            " 59.87537591 60.27338167 60.93419537 61.11915913 62.56907882 62.60938132\n",
            " 64.1525471  64.87503772 67.19341495 67.48739628 69.46038172 69.62476411\n",
            " 69.76693602 70.23203116 70.67206835 71.26997958 73.40461908 74.32818553\n",
            " 75.23158629 76.32638145 77.06796687 79.79767505 79.86077523 80.41098045\n",
            " 82.69224102 83.13369909 83.95283191 84.49610238 88.17452003 88.9890967\n",
            " 89.88628993 90.13228821 91.24218246 91.61654701 91.74307279 92.33269556\n",
            " 93.66979204 94.12701001 95.96164989 98.40260602]\n"
          ]
        },
        {
          "output_type": "display_data",
          "data": {
            "text/plain": [
              "<Figure size 432x288 with 1 Axes>"
            ],
            "image/png": "[encoded data removed]"
          },
          "metadata": {
            "needs_background": "light"
          }
        }
      ]
    },
    {
      "cell_type": "markdown",
      "source": [
        "### 학습을 위한 입력 데이터와 정답 준비하기"
      ],
      "metadata": {
        "id": "cNK4Y-HmgzDb"
      }
    },
    {
      "cell_type": "code",
      "source": [
        "width = np.append(normal_person_width, error_person_width)\n",
        "height = np.append(normal_person_height, error_person_height)\n",
        "answer = [1]*100 + [0]*100\n",
        "person_data = [[l, w] for l, w in zip(width, height)]\n",
        "\n",
        "person_data = np.array(person_data)\n",
        "answer = np.array(answer)\n",
        "print(person_data)"
      ],
      "metadata": {
        "id": "87sqyUOog1p7"
      },
      "execution_count": null,
      "outputs": []
    },
    {
      "cell_type": "markdown",
      "source": [
        "### (방법1) 데이터 인덱스 섞기"
      ],
      "metadata": {
        "id": "jShROes-EIld"
      }
    },
    {
      "cell_type": "code",
      "source": [
        "np.random.seed(42)\n",
        "index = np.arange(200)\n",
        "np.random.shuffle(index)"
      ],
      "metadata": {
        "id": "T0sMgkegEbGH"
      },
      "execution_count": null,
      "outputs": []
    },
    {
      "cell_type": "code",
      "source": [
        "train_data = person_data[index[:150]]\n",
        "train_answer = answer[index[:150]]\n",
        "\n",
        "test_data = person_data[index[150:]]\n",
        "test_answer = answer[index[150:]]"
      ],
      "metadata": {
        "id": "fz522oxHDv2_"
      },
      "execution_count": null,
      "outputs": []
    },
    {
      "cell_type": "markdown",
      "source": [
        "### 훈련 데이터와 테스트 데이터 함께 출력해 보기"
      ],
      "metadata": {
        "id": "S40PpzdyER0q"
      }
    },
    {
      "cell_type": "code",
      "source": [
        "plt.scatter(train_data[:,0], train_data[:,1])\n",
        "plt.scatter(test_data[:,0], test_data[:,1])\n",
        "plt.xlabel('Width')\n",
        "plt.ylabel('Height')\n",
        "plt.show()"
      ],
      "metadata": {
        "id": "HJ3oIEIkFgv-"
      },
      "execution_count": null,
      "outputs": []
    },
    {
      "cell_type": "markdown",
      "source": [
        "### (방법2) 사이킷런을 이용하여 훈련데이터 및 테스트데이터 생성하기"
      ],
      "metadata": {
        "id": "8qHGF4GgEa7i"
      }
    },
    {
      "cell_type": "code",
      "source": [
        "from sklearn.model_selection import train_test_split\n",
        "train_data_s, test_data_s, train_answer_s, test_answer_s = train_test_split(person_data, answer, random_state=42)\n",
        "\n",
        "plt.scatter(train_data_s[:,0], train_data_s[:,1])\n",
        "plt.scatter(test_data_s[:,0], test_data_s[:,1])\n",
        "plt.xlabel('Width')\n",
        "plt.ylabel('Height')\n",
        "plt.show()"
      ],
      "metadata": {
        "colab": {
          "base_uri": "https://localhost:8080/",
          "height": 279
        },
        "id": "DnOw5L14TiA2",
        "outputId": "e882680b-2968-4bb2-c3be-1de1464c9e30"
      },
      "execution_count": null,
      "outputs": [
        {
          "output_type": "display_data",
          "data": {
            "text/plain": [
              "<Figure size 432x288 with 1 Axes>"
            ],
            "image/png": "[encoded data removed]"
          },
          "metadata": {
            "needs_background": "light"
          }
        }
      ]
    },
    {
      "cell_type": "code",
      "source": [
        "train_data_s.shape"
      ],
      "metadata": {
        "colab": {
          "base_uri": "https://localhost:8080/"
        },
        "id": "xqS4lwQlWD8x",
        "outputId": "fbef6f11-df4c-4eec-fa90-ceb9d40d10de"
      },
      "execution_count": null,
      "outputs": [
        {
          "output_type": "execute_result",
          "data": {
            "text/plain": [
              "(150, 2)"
            ]
          },
          "metadata": {},
          "execution_count": 9
        }
      ]
    },
    {
      "cell_type": "markdown",
      "source": [
        "### k-최근접 이웃 알고리즘을 적용하여 학습하기(모델생성)"
      ],
      "metadata": {
        "id": "IoIff6s7hEW2"
      }
    },
    {
      "cell_type": "code",
      "source": [
        "from sklearn.neighbors import KNeighborsClassifier\n",
        "\n",
        "kn = KNeighborsClassifier()\n",
        "kn.fit(train_data, train_answer)\n",
        "kn.score(test_data, test_answer)"
      ],
      "metadata": {
        "colab": {
          "base_uri": "https://localhost:8080/"
        },
        "id": "IR3-w1HehAZj",
        "outputId": "aba9b6b2-c61d-4d66-f56d-06ece6f5ce47"
      },
      "execution_count": null,
      "outputs": [
        {
          "output_type": "execute_result",
          "data": {
            "text/plain": [
              "1.0"
            ]
          },
          "metadata": {},
          "execution_count": 16
        }
      ]
    },
    {
      "cell_type": "code",
      "source": [
        "kn.predict([[20, 180]])\n",
        "print(kn._fit_X)\n",
        "print(kn._y)"
      ],
      "metadata": {
        "colab": {
          "base_uri": "https://localhost:8080/"
        },
        "id": "sBil254_rUMI",
        "outputId": "5ef02985-0170-4516-914d-71770226de8d"
      },
      "execution_count": null,
      "outputs": [
        {
          "output_type": "stream",
          "name": "stdout",
          "text": [
            "[[ 96.31428616 184.25392967]\n",
            " [ 32.93029713 111.43544614]\n",
            " [ 42.461789   130.41956412]\n",
            " [110.037381   205.593538  ]\n",
            " [ 12.57918793  58.19829896]\n",
            " [  6.74156135  35.62851835]\n",
            " [ 75.27501905 159.4177639 ]\n",
            " [139.53096619 222.62968561]\n",
            " [151.01998487 227.19149656]\n",
            " [ 60.21096745 144.24542876]\n",
            " [ 73.08014153 157.15842858]\n",
            " [175.48507841 238.82264652]\n",
            " [133.53778999 215.67633914]\n",
            " [ 83.58490428 166.4107225 ]\n",
            " [179.17219614 240.46139358]\n",
            " [162.20358827 230.63034038]\n",
            " [ 70.58446645 149.89186473]\n",
            " [108.20353763 194.3261543 ]\n",
            " [ 88.24075644 171.56675753]\n",
            " [ 74.20514895 158.49675377]\n",
            " [ 11.3585352   52.71470869]\n",
            " [ 33.94931432 112.60756137]\n",
            " [ 18.30143015  97.64865296]\n",
            " [ 94.9383991  180.10048076]\n",
            " [ 72.79872368 156.32739241]\n",
            " [ 71.61382323 153.17499345]\n",
            " [ 90.96691394 171.84656611]\n",
            " [ 73.77084379 157.36869113]\n",
            " [ 11.54396046  55.27771987]\n",
            " [ 14.23127879  62.68106654]\n",
            " [ 27.49398143 107.06107432]\n",
            " [ 34.92148083 115.2543472 ]\n",
            " [ 70.49109008 149.43039982]\n",
            " [ 79.71931241 163.32920734]\n",
            " [102.0729275  192.5556515 ]\n",
            " [  2.27023745   6.51772102]\n",
            " [ 14.58177173  69.41984797]\n",
            " [ 15.46265675  86.12271456]\n",
            " [132.6849105  215.47435064]\n",
            " [ 80.92956923 164.31363304]\n",
            " [ 85.37777602 166.6691756 ]\n",
            " [195.11010755 249.24929163]\n",
            " [ 49.42265062 136.805765  ]\n",
            " [ 39.16495125 124.37490261]\n",
            " [  9.24855203  49.27726022]\n",
            " [194.77760916 247.28901061]\n",
            " [ 41.21618941 129.06608256]\n",
            " [ 35.61943902 115.58816829]\n",
            " [ 16.79449624  95.29290975]\n",
            " [ 91.7688208  172.91020552]\n",
            " [  6.07662231  28.99978446]\n",
            " [149.94761017 226.76430343]\n",
            " [ 23.26201132 103.66559221]\n",
            " [ 12.32097124  55.72361647]\n",
            " [  7.69632554  42.57375691]\n",
            " [ 78.07645431 163.17701895]\n",
            " [ 16.2077556   89.31348503]\n",
            " [ 97.84084438 187.82668715]\n",
            " [145.39610668 226.05371221]\n",
            " [ 97.08959817 185.93787526]\n",
            " [138.24969897 221.69815435]\n",
            " [ 97.33238552 186.63835732]\n",
            " [ 43.55591137 132.03754108]\n",
            " [ 31.00167553 108.74588444]\n",
            " [ 47.28530808 133.80246574]\n",
            " [  7.98705867  45.65436177]\n",
            " [ 54.25473187 141.90382163]\n",
            " [182.36414587 242.0186202 ]\n",
            " [ 93.18915122 176.99145256]\n",
            " [ 14.97543329  74.11239817]\n",
            " [ 65.46468827 147.0018934 ]\n",
            " [ 12.56354701  58.17013898]\n",
            " [130.0278664  213.21133865]\n",
            " [ 51.44781797 139.50742786]\n",
            " [  7.94984748  45.54502435]\n",
            " [  6.07338595  28.53439258]\n",
            " [ 39.36442172 125.78871269]\n",
            " [ 15.66043269  88.33202514]\n",
            " [  1.32799286   2.11265719]\n",
            " [  4.19391179  22.91239217]\n",
            " [ 21.23652932 102.74502249]\n",
            " [ 82.39004367 165.34822004]\n",
            " [ 60.96744466 145.13646652]\n",
            " [179.36632533 240.68501647]\n",
            " [188.88271409 244.74470389]\n",
            " [ 91.36372441 172.84250399]\n",
            " [115.15617652 212.13160036]\n",
            " [ 47.93676597 134.65879557]\n",
            " [182.81928914 242.09776948]\n",
            " [ 71.63778367 155.05486716]\n",
            " [ 38.979927   122.29578906]\n",
            " [ 16.41681714  89.82272974]\n",
            " [  1.41889484   2.19113852]\n",
            " [ 46.03197585 132.41715773]\n",
            " [ 29.0778817  108.45837459]\n",
            " [190.63281567 247.03819488]\n",
            " [111.01114494 207.13101724]\n",
            " [ 26.7311972  104.07736088]\n",
            " [ 39.51917147 126.42326598]\n",
            " [  8.42711818  46.44244368]\n",
            " [ 21.94527731 103.36133699]\n",
            " [ 45.6624052  132.35420361]\n",
            " [ 16.45142953  94.14032544]\n",
            " [ 17.75363186  95.99164849]\n",
            " [  3.1269669   12.64415579]\n",
            " [ 17.29631156  95.39580887]\n",
            " [ 28.11772343 107.68127185]\n",
            " [ 71.97063192 155.3506504 ]\n",
            " [  4.52424043  28.18335593]\n",
            " [ 17.92414435  96.04812502]\n",
            " [135.74058624 217.58210398]\n",
            " [ 20.40492671 101.29541398]\n",
            " [198.61410532 249.80157339]\n",
            " [109.05352928 197.69989794]\n",
            " [ 75.35161582 162.63767855]\n",
            " [ 10.82110221  52.26358873]\n",
            " [ 72.60903138 156.06014282]\n",
            " [ 59.40141551 142.67564462]\n",
            " [132.61205012 213.47256054]\n",
            " [ 40.63533022 128.52298046]\n",
            " [ 50.9388277  139.04664843]\n",
            " [  2.85622964  12.51757218]\n",
            " [109.32657381 199.87459658]\n",
            " [109.39893369 200.59439942]\n",
            " [ 39.34818327 125.19405073]\n",
            " [ 39.01100352 122.52186083]\n",
            " [176.38955254 239.01390616]\n",
            " [ 17.94636656  96.49069115]\n",
            " [ 87.93787284 169.29941978]\n",
            " [ 49.61269602 137.76400562]\n",
            " [138.05280878 221.68964657]\n",
            " [ 62.37204627 145.28226327]\n",
            " [ 95.23668675 182.19164973]\n",
            " [109.26657095 198.62040549]\n",
            " [ 59.15622082 142.61245937]\n",
            " [ 15.52302531  88.24585082]\n",
            " [ 21.32702631 103.23480464]\n",
            " [  2.28139567   8.23206334]\n",
            " [ 67.27143546 148.65716094]\n",
            " [ 14.51106553  64.62260961]\n",
            " [170.39594401 236.3702575 ]\n",
            " [163.551884   231.39913918]\n",
            " [177.93754468 239.52969733]\n",
            " [ 63.89870315 146.46703135]\n",
            " [ 86.82419965 168.20614994]\n",
            " [ 47.12238328 133.71513532]\n",
            " [ 27.2231816  104.14023778]\n",
            " [  3.93281969  19.43587365]\n",
            " [ 93.97548946 178.03650867]\n",
            " [ 90.18714827 171.62134025]]\n",
            "[1 1 1 0 0 0 1 0 0 1 1 0 0 1 0 0 1 0 1 1 0 1 0 1 1 1 1 1 0 0 1 1 1 1 0 0 0\n",
            " 0 0 1 1 0 1 1 0 0 1 1 0 1 0 0 1 0 0 1 0 1 0 1 0 1 1 1 1 0 1 0 1 0 1 0 0 1\n",
            " 0 0 1 0 0 0 1 1 1 0 0 1 0 1 0 1 1 0 0 1 1 0 0 1 1 0 1 1 0 0 0 0 1 1 0 0 0\n",
            " 1 0 0 1 0 1 1 0 1 1 0 0 0 1 1 0 0 1 1 0 1 1 0 1 0 1 0 1 0 0 0 0 1 1 1 1 0\n",
            " 1 1]\n"
          ]
        }
      ]
    },
    {
      "cell_type": "code",
      "source": [
        "plt.scatter(normal_person_width, normal_person_height)\n",
        "plt.scatter(error_person_width, error_person_height)\n",
        "plt.scatter(20, 180, marker='^')\n",
        "plt.xlabel('Width')\n",
        "plt.ylabel('Height')\n",
        "plt.show()"
      ],
      "metadata": {
        "colab": {
          "base_uri": "https://localhost:8080/",
          "height": 279
        },
        "id": "KmZGeEB5rhFn",
        "outputId": "db84bbe5-9112-4320-8715-6e2c8bb73b97"
      },
      "execution_count": null,
      "outputs": [
        {
          "output_type": "display_data",
          "data": {
            "text/plain": [
              "<Figure size 432x288 with 1 Axes>"
            ],
            "image/png": "[encoded data removed]"
          },
          "metadata": {
            "needs_background": "light"
          }
        }
      ]
    },
    {
      "cell_type": "code",
      "source": [
        "kn = KNeighborsClassifier()\n",
        "kn.fit(train_data, train_answer)\n",
        "for n in range(1, 100):\n",
        "    # 최근접 이웃 개수 설정\n",
        "    kn.n_neighbors = n\n",
        "    # 점수 계산    \n",
        "    score = kn.score(test_data, test_answer)\n",
        "    print(str(n)+\":\"+str(score))\n"
      ],
      "metadata": {
        "colab": {
          "base_uri": "https://localhost:8080/"
        },
        "id": "FVkutU8Wrvg3",
        "outputId": "ef86bac5-b59b-4335-fcd5-53a32b7bfc1e"
      },
      "execution_count": null,
      "outputs": [
        {
          "output_type": "stream",
          "name": "stdout",
          "text": [
            "1:1.0\n",
            "2:1.0\n",
            "3:1.0\n",
            "4:1.0\n",
            "5:1.0\n",
            "6:1.0\n",
            "7:1.0\n",
            "8:1.0\n",
            "9:1.0\n",
            "10:1.0\n",
            "11:1.0\n",
            "12:1.0\n",
            "13:1.0\n",
            "14:1.0\n",
            "15:1.0\n",
            "16:1.0\n",
            "17:1.0\n",
            "18:1.0\n",
            "19:0.98\n",
            "20:0.98\n",
            "21:0.98\n",
            "22:0.96\n",
            "23:0.98\n",
            "24:0.98\n",
            "25:0.96\n",
            "26:0.96\n",
            "27:0.96\n",
            "28:0.96\n",
            "29:0.96\n",
            "30:0.96\n",
            "31:0.96\n",
            "32:0.96\n",
            "33:0.96\n",
            "34:0.96\n",
            "35:0.96\n",
            "36:0.96\n",
            "37:0.96\n",
            "38:0.96\n",
            "39:0.96\n",
            "40:0.96\n",
            "41:0.94\n",
            "42:0.94\n",
            "43:0.94\n",
            "44:0.94\n",
            "45:0.92\n",
            "46:0.92\n",
            "47:0.92\n",
            "48:0.92\n",
            "49:0.92\n",
            "50:0.92\n",
            "51:0.92\n",
            "52:0.92\n",
            "53:0.92\n",
            "54:0.92\n",
            "55:0.92\n",
            "56:0.92\n",
            "57:0.92\n",
            "58:0.92\n",
            "59:0.92\n",
            "60:0.92\n",
            "61:0.92\n",
            "62:0.92\n",
            "63:0.92\n",
            "64:0.92\n",
            "65:0.92\n",
            "66:0.92\n",
            "67:0.92\n",
            "68:0.92\n",
            "69:0.92\n",
            "70:0.92\n",
            "71:0.68\n",
            "72:0.68\n",
            "73:0.68\n",
            "74:0.68\n",
            "75:0.68\n",
            "76:0.68\n",
            "77:0.68\n",
            "78:0.68\n",
            "79:0.48\n",
            "80:0.48\n",
            "81:0.48\n",
            "82:0.48\n",
            "83:0.48\n",
            "84:0.48\n",
            "85:0.48\n",
            "86:0.48\n",
            "87:0.48\n",
            "88:0.48\n",
            "89:0.48\n",
            "90:0.48\n",
            "91:0.48\n",
            "92:0.48\n",
            "93:0.48\n",
            "94:0.48\n",
            "95:0.48\n",
            "96:0.48\n",
            "97:0.48\n",
            "98:0.48\n",
            "99:0.48\n"
          ]
        }
      ]
    }
  ]
}
