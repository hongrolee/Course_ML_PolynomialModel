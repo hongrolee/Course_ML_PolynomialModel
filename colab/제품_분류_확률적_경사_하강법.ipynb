{
  "nbformat": 4,
  "nbformat_minor": 0,
  "metadata": {
    "colab": {
      "provenance": [],
      "authorship_tag": "ABX9TyNJcq5JNXVQ7IQgucKw0o3x",
      "include_colab_link": true
    },
    "kernelspec": {
      "name": "python3",
      "display_name": "Python 3"
    },
    "language_info": {
      "name": "python"
    }
  },
  "cells": [
    {
      "cell_type": "markdown",
      "metadata": {
        "id": "view-in-github",
        "colab_type": "text"
      },
      "source": [
        "<a href=\"https://colab.research.google.com/github/hongrolee/Machine-Learning/blob/main/colab/%EC%A0%9C%ED%92%88_%EB%B6%84%EB%A5%98_%ED%99%95%EB%A5%A0%EC%A0%81_%EA%B2%BD%EC%82%AC_%ED%95%98%EA%B0%95%EB%B2%95.ipynb\" target=\"_parent\"><img src=\"https://colab.research.google.com/assets/colab-badge.svg\" alt=\"Open In Colab\"/></a>"
      ]
    },
    {
      "cell_type": "markdown",
      "source": [
        "## 데이터 읽어오기"
      ],
      "metadata": {
        "id": "EIfujsgNJLSR"
      }
    },
    {
      "cell_type": "code",
      "execution_count": null,
      "metadata": {
        "id": "eVJPfSqMJDND",
        "colab": {
          "base_uri": "https://localhost:8080/",
          "height": 206
        },
        "outputId": "d59986d2-b142-4957-9d0f-40ac51c5aa8f"
      },
      "outputs": [
        {
          "output_type": "execute_result",
          "data": {
            "text/plain": [
              "  Type  Weight  Length  Diagonal   Height   Width\n",
              "0    A   242.0    25.4      30.0  11.5200  4.0200\n",
              "1    A   290.0    26.3      31.2  12.4800  4.3056\n",
              "2    A   340.0    26.5      31.1  12.3778  4.6961\n",
              "3    A   363.0    29.0      33.5  12.7300  4.4555\n",
              "4    A   430.0    29.0      34.0  12.4440  5.1340"
            ],
            "text/html": [
              "\n",
              "  <div id=\"df-894d1b99-5e79-4bb9-ad95-2d934d95c783\">\n",
              "    <div class=\"colab-df-container\">\n",
              "      <div>\n",
              "<style scoped>\n",
              "    .dataframe tbody tr th:only-of-type {\n",
              "        vertical-align: middle;\n",
              "    }\n",
              "\n",
              "    .dataframe tbody tr th {\n",
              "        vertical-align: top;\n",
              "    }\n",
              "\n",
              "    .dataframe thead th {\n",
              "        text-align: right;\n",
              "    }\n",
              "</style>\n",
              "<table border=\"1\" class=\"dataframe\">\n",
              "  <thead>\n",
              "    <tr style=\"text-align: right;\">\n",
              "      <th></th>\n",
              "      <th>Type</th>\n",
              "      <th>Weight</th>\n",
              "      <th>Length</th>\n",
              "      <th>Diagonal</th>\n",
              "      <th>Height</th>\n",
              "      <th>Width</th>\n",
              "    </tr>\n",
              "  </thead>\n",
              "  <tbody>\n",
              "    <tr>\n",
              "      <th>0</th>\n",
              "      <td>A</td>\n",
              "      <td>242.0</td>\n",
              "      <td>25.4</td>\n",
              "      <td>30.0</td>\n",
              "      <td>11.5200</td>\n",
              "      <td>4.0200</td>\n",
              "    </tr>\n",
              "    <tr>\n",
              "      <th>1</th>\n",
              "      <td>A</td>\n",
              "      <td>290.0</td>\n",
              "      <td>26.3</td>\n",
              "      <td>31.2</td>\n",
              "      <td>12.4800</td>\n",
              "      <td>4.3056</td>\n",
              "    </tr>\n",
              "    <tr>\n",
              "      <th>2</th>\n",
              "      <td>A</td>\n",
              "      <td>340.0</td>\n",
              "      <td>26.5</td>\n",
              "      <td>31.1</td>\n",
              "      <td>12.3778</td>\n",
              "      <td>4.6961</td>\n",
              "    </tr>\n",
              "    <tr>\n",
              "      <th>3</th>\n",
              "      <td>A</td>\n",
              "      <td>363.0</td>\n",
              "      <td>29.0</td>\n",
              "      <td>33.5</td>\n",
              "      <td>12.7300</td>\n",
              "      <td>4.4555</td>\n",
              "    </tr>\n",
              "    <tr>\n",
              "      <th>4</th>\n",
              "      <td>A</td>\n",
              "      <td>430.0</td>\n",
              "      <td>29.0</td>\n",
              "      <td>34.0</td>\n",
              "      <td>12.4440</td>\n",
              "      <td>5.1340</td>\n",
              "    </tr>\n",
              "  </tbody>\n",
              "</table>\n",
              "</div>\n",
              "      <button class=\"colab-df-convert\" onclick=\"convertToInteractive('df-894d1b99-5e79-4bb9-ad95-2d934d95c783')\"\n",
              "              title=\"Convert this dataframe to an interactive table.\"\n",
              "              style=\"display:none;\">\n",
              "        \n",
              "  <svg xmlns=\"http://www.w3.org/2000/svg\" height=\"24px\"viewBox=\"0 0 24 24\"\n",
              "       width=\"24px\">\n",
              "    <path d=\"M0 0h24v24H0V0z\" fill=\"none\"/>\n",
              "    <path d=\"M18.56 5.44l.94 2.06.94-2.06 2.06-.94-2.06-.94-.94-2.06-.94 2.06-2.06.94zm-11 1L8.5 8.5l.94-2.06 2.06-.94-2.06-.94L8.5 2.5l-.94 2.06-2.06.94zm10 10l.94 2.06.94-2.06 2.06-.94-2.06-.94-.94-2.06-.94 2.06-2.06.94z\"/><path d=\"M17.41 7.96l-1.37-1.37c-.4-.4-.92-.59-1.43-.59-.52 0-1.04.2-1.43.59L10.3 9.45l-7.72 7.72c-.78.78-.78 2.05 0 2.83L4 21.41c.39.39.9.59 1.41.59.51 0 1.02-.2 1.41-.59l7.78-7.78 2.81-2.81c.8-.78.8-2.07 0-2.86zM5.41 20L4 18.59l7.72-7.72 1.47 1.35L5.41 20z\"/>\n",
              "  </svg>\n",
              "      </button>\n",
              "      \n",
              "  <style>\n",
              "    .colab-df-container {\n",
              "      display:flex;\n",
              "      flex-wrap:wrap;\n",
              "      gap: 12px;\n",
              "    }\n",
              "\n",
              "    .colab-df-convert {\n",
              "      background-color: #E8F0FE;\n",
              "      border: none;\n",
              "      border-radius: 50%;\n",
              "      cursor: pointer;\n",
              "      display: none;\n",
              "      fill: #1967D2;\n",
              "      height: 32px;\n",
              "      padding: 0 0 0 0;\n",
              "      width: 32px;\n",
              "    }\n",
              "\n",
              "    .colab-df-convert:hover {\n",
              "      background-color: #E2EBFA;\n",
              "      box-shadow: 0px 1px 2px rgba(60, 64, 67, 0.3), 0px 1px 3px 1px rgba(60, 64, 67, 0.15);\n",
              "      fill: #174EA6;\n",
              "    }\n",
              "\n",
              "    [theme=dark] .colab-df-convert {\n",
              "      background-color: #3B4455;\n",
              "      fill: #D2E3FC;\n",
              "    }\n",
              "\n",
              "    [theme=dark] .colab-df-convert:hover {\n",
              "      background-color: #434B5C;\n",
              "      box-shadow: 0px 1px 3px 1px rgba(0, 0, 0, 0.15);\n",
              "      filter: drop-shadow(0px 1px 2px rgba(0, 0, 0, 0.3));\n",
              "      fill: #FFFFFF;\n",
              "    }\n",
              "  </style>\n",
              "\n",
              "      <script>\n",
              "        const buttonEl =\n",
              "          document.querySelector('#df-894d1b99-5e79-4bb9-ad95-2d934d95c783 button.colab-df-convert');\n",
              "        buttonEl.style.display =\n",
              "          google.colab.kernel.accessAllowed ? 'block' : 'none';\n",
              "\n",
              "        async function convertToInteractive(key) {\n",
              "          const element = document.querySelector('#df-894d1b99-5e79-4bb9-ad95-2d934d95c783');\n",
              "          const dataTable =\n",
              "            await google.colab.kernel.invokeFunction('convertToInteractive',\n",
              "                                                     [key], {});\n",
              "          if (!dataTable) return;\n",
              "\n",
              "          const docLinkHtml = 'Like what you see? Visit the ' +\n",
              "            '<a target=\"_blank\" href=https://colab.research.google.com/notebooks/data_table.ipynb>data table notebook</a>'\n",
              "            + ' to learn more about interactive tables.';\n",
              "          element.innerHTML = '';\n",
              "          dataTable['output_type'] = 'display_data';\n",
              "          await google.colab.output.renderOutput(dataTable, element);\n",
              "          const docLink = document.createElement('div');\n",
              "          docLink.innerHTML = docLinkHtml;\n",
              "          element.appendChild(docLink);\n",
              "        }\n",
              "      </script>\n",
              "    </div>\n",
              "  </div>\n",
              "  "
            ]
          },
          "metadata": {},
          "execution_count": 55
        }
      ],
      "source": [
        "import pandas as pd\n",
        "import numpy as np\n",
        "url='https://drive.google.com/file/d/170umNUJ5uh7_q8CGBjpcclEkbjcbviXu/view?usp=share_link'\n",
        "url='https://drive.google.com/uc?id=' + url.split('/')[-2]\n",
        "product_all_data = pd.read_csv(url)\n",
        "product_all_data.head()"
      ]
    },
    {
      "cell_type": "markdown",
      "source": [
        "## Type 확인"
      ],
      "metadata": {
        "id": "4E1CKd2IfYKx"
      }
    },
    {
      "cell_type": "code",
      "source": [
        "print(pd.unique(product_all_data['Type']))"
      ],
      "metadata": {
        "colab": {
          "base_uri": "https://localhost:8080/"
        },
        "id": "0RoXPx97fphd",
        "outputId": "720daec4-1a86-48bf-b4d3-1e315989dd4c"
      },
      "execution_count": null,
      "outputs": [
        {
          "output_type": "stream",
          "name": "stdout",
          "text": [
            "['A' 'E' 'G' 'B' 'C' 'D' 'F']\n"
          ]
        }
      ]
    },
    {
      "cell_type": "markdown",
      "source": [
        "## 입력 및 정답 데이터 분리"
      ],
      "metadata": {
        "id": "qXbXoLrJf3jl"
      }
    },
    {
      "cell_type": "code",
      "source": [
        "product_data = product_all_data[['Weight', 'Length', 'Diagonal', 'Height', 'Width']].to_numpy()\n",
        "product_answer = product_all_data['Type'].to_numpy()\n",
        "print(product_data[:10])\n",
        "print(product_answer[:10])"
      ],
      "metadata": {
        "colab": {
          "base_uri": "https://localhost:8080/"
        },
        "id": "0VfKFhmcf4f1",
        "outputId": "b6fe7dcc-3c11-4b73-c5e0-c7312eb32753"
      },
      "execution_count": null,
      "outputs": [
        {
          "output_type": "stream",
          "name": "stdout",
          "text": [
            "[[242.      25.4     30.      11.52     4.02  ]\n",
            " [290.      26.3     31.2     12.48     4.3056]\n",
            " [340.      26.5     31.1     12.3778   4.6961]\n",
            " [363.      29.      33.5     12.73     4.4555]\n",
            " [430.      29.      34.      12.444    5.134 ]\n",
            " [450.      29.7     34.7     13.6024   4.9274]\n",
            " [500.      29.7     34.5     14.1795   5.2785]\n",
            " [390.      30.      35.      12.67     4.69  ]\n",
            " [450.      30.      35.1     14.0049   4.8438]\n",
            " [500.      30.7     36.2     14.2266   4.9594]]\n",
            "['A' 'A' 'A' 'A' 'A' 'A' 'A' 'A' 'A' 'A']\n"
          ]
        }
      ]
    },
    {
      "cell_type": "markdown",
      "source": [
        "## 훈련 및 테스트 세트 분리하기"
      ],
      "metadata": {
        "id": "TSgWZoXPgEJV"
      }
    },
    {
      "cell_type": "code",
      "source": [
        "from sklearn.model_selection import train_test_split\n",
        "\n",
        "train_data, test_data, train_answer, test_answer = train_test_split(\n",
        "    product_data, product_answer, random_state=42)\n",
        "print(test_data)"
      ],
      "metadata": {
        "colab": {
          "base_uri": "https://localhost:8080/"
        },
        "id": "sKXAOZ83gE85",
        "outputId": "e43df887-7626-4fe2-db48-008081f0cb87"
      },
      "execution_count": null,
      "outputs": [
        {
          "output_type": "stream",
          "name": "stdout",
          "text": [
            "[[7.80000e+01 1.87000e+01 1.94000e+01 5.19920e+00 3.12340e+00]\n",
            " [1.34000e+01 1.24000e+01 1.35000e+01 2.43000e+00 1.26900e+00]\n",
            " [2.00000e+02 3.23000e+01 3.48000e+01 5.56800e+00 3.37560e+00]\n",
            " [2.70000e+02 2.60000e+01 2.87000e+01 8.38040e+00 4.24760e+00]\n",
            " [1.50000e+02 2.30000e+01 2.45000e+01 5.21850e+00 3.62600e+00]\n",
            " [1.00000e+03 3.70000e+01 4.26000e+01 1.89570e+01 6.60300e+00]\n",
            " [7.00000e+00 1.06000e+01 1.16000e+01 1.72840e+00 1.14840e+00]\n",
            " [1.80000e+02 2.52000e+01 2.79000e+01 7.08660e+00 3.90600e+00]\n",
            " [1.88000e+02 2.46000e+01 2.62000e+01 6.73340e+00 4.16580e+00]\n",
            " [1.25000e+03 5.60000e+01 5.97000e+01 1.06863e+01 6.98490e+00]\n",
            " [6.50000e+02 3.35000e+01 3.87000e+01 1.44738e+01 5.72760e+00]\n",
            " [1.00000e+03 4.00000e+01 4.35000e+01 1.23540e+01 6.52500e+00]\n",
            " [6.00000e+02 3.20000e+01 3.72000e+01 1.54380e+01 5.58000e+00]\n",
            " [1.50000e+02 2.00000e+01 2.24000e+01 8.89280e+00 3.29280e+00]\n",
            " [7.00000e+02 3.50000e+01 4.05000e+01 1.62405e+01 5.58900e+00]\n",
            " [9.20000e+02 3.85000e+01 4.41000e+01 1.80369e+01 6.30630e+00]\n",
            " [1.00000e+03 4.35000e+01 4.60000e+01 1.26040e+01 8.14200e+00]\n",
            " [2.18000e+02 2.65000e+01 2.80000e+01 7.16800e+00 4.14400e+00]\n",
            " [2.25000e+02 2.40000e+01 2.55000e+01 7.29300e+00 3.72300e+00]\n",
            " [7.00000e+02 3.30000e+01 3.83000e+01 1.48604e+01 5.28540e+00]\n",
            " [1.00000e+01 1.18000e+01 1.31000e+01 2.21390e+00 1.28380e+00]\n",
            " [6.10000e+02 3.35000e+01 3.86000e+01 1.56330e+01 5.13380e+00]\n",
            " [5.00000e+02 3.15000e+01 3.64000e+01 1.37592e+01 4.36800e+00]\n",
            " [5.00000e+02 3.07000e+01 3.62000e+01 1.42266e+01 4.95940e+00]\n",
            " [9.55000e+02 3.85000e+01 4.40000e+01 1.80840e+01 6.29200e+00]\n",
            " [1.10000e+03 4.30000e+01 4.55000e+01 1.25125e+01 7.41650e+00]\n",
            " [1.70000e+02 2.35000e+01 2.50000e+01 6.27500e+00 3.72500e+00]\n",
            " [2.70000e+02 2.65000e+01 2.93000e+01 8.14540e+00 4.24850e+00]\n",
            " [6.70000e+00 9.80000e+00 1.08000e+01 1.73880e+00 1.04760e+00]\n",
            " [9.90000e+00 1.18000e+01 1.31000e+01 2.21390e+00 1.16590e+00]\n",
            " [5.10000e+02 4.25000e+01 4.55000e+01 6.82500e+00 4.45900e+00]\n",
            " [7.00000e+01 1.74000e+01 1.85000e+01 4.58800e+00 2.94150e+00]\n",
            " [5.15000e+01 1.62000e+01 1.72000e+01 4.59240e+00 2.63160e+00]\n",
            " [5.67000e+02 4.60000e+01 4.87000e+01 7.79200e+00 4.87000e+00]\n",
            " [3.40000e+02 2.65000e+01 3.11000e+01 1.23778e+01 4.69610e+00]\n",
            " [1.20000e+02 2.20000e+01 2.35000e+01 6.11000e+00 3.40750e+00]\n",
            " [1.60000e+02 2.25000e+01 2.53000e+01 7.03340e+00 3.82030e+00]\n",
            " [1.20000e+02 2.10000e+01 2.37000e+01 6.11460e+00 3.29430e+00]\n",
            " [1.45000e+02 2.15000e+01 2.41000e+01 9.73640e+00 3.15710e+00]\n",
            " [8.20000e+02 3.90000e+01 4.13000e+01 1.24313e+01 7.35140e+00]]\n"
          ]
        }
      ]
    },
    {
      "cell_type": "markdown",
      "source": [
        "## 데이터의 표준화 처리"
      ],
      "metadata": {
        "id": "hoa2r2wxgNTH"
      }
    },
    {
      "cell_type": "code",
      "source": [
        "from sklearn.preprocessing import StandardScaler\n",
        "\n",
        "ss = StandardScaler()\n",
        "ss.fit(train_data)\n",
        "train_scaled = ss.transform(train_data)\n",
        "test_scaled = ss.transform(test_data)\n",
        "print(test_scaled)"
      ],
      "metadata": {
        "colab": {
          "base_uri": "https://localhost:8080/"
        },
        "id": "0QgP3J3WgOMj",
        "outputId": "ecc0ef7c-ae26-4f8a-c674-ec6cd3a3c3c4"
      },
      "execution_count": null,
      "outputs": [
        {
          "output_type": "stream",
          "name": "stdout",
          "text": [
            "[[-0.88741352 -0.91804565 -1.03098914 -0.90464451 -0.80762518]\n",
            " [-1.06924656 -1.50842035 -1.54345461 -1.58849582 -1.93803151]\n",
            " [-0.54401367  0.35641402  0.30663259 -0.8135697  -0.65388895]\n",
            " [-0.34698097 -0.23396068 -0.22320459 -0.11905019 -0.12233464]\n",
            " [-0.68475132 -0.51509149 -0.58801052 -0.8998784  -0.50124996]\n",
            " [ 1.70778862  0.79685229  0.98412932  2.49283113  1.31347159]\n",
            " [-1.08726098 -1.67709884 -1.70848587 -1.76175528 -2.01154694]\n",
            " [-0.60030873 -0.3089289  -0.29269143 -0.43855288 -0.33056738]\n",
            " [-0.57779071 -0.36515506 -0.44035097 -0.52577528 -0.17219833]\n",
            " [ 2.41147684  2.57734741  2.4694106   0.45038962  1.54627043]\n",
            " [ 0.72262512  0.46886634  0.64538096  1.38570915  0.7798447 ]\n",
            " [ 1.70778862  1.0779831   1.06230202  0.86222655  1.2659243 ]\n",
            " [ 0.58188748  0.32830094  0.51509312  1.62381742  0.6898706 ]\n",
            " [-0.68475132 -0.7962223  -0.77041348  0.0074865  -0.70436223]\n",
            " [ 0.86336276  0.60943175  0.80172635  1.82199404  0.69535682]\n",
            " [ 1.48260839  0.93741769  1.11441715  2.26561331  1.13260901]\n",
            " [ 1.70778862  1.40596904  1.2794484   0.92396381  2.25161618]\n",
            " [-0.49334812 -0.18710555 -0.28400558 -0.41845122 -0.18548719]\n",
            " [-0.47364485 -0.42138122 -0.50115196 -0.38758259 -0.44212064]\n",
            " [ 0.86336276  0.42201121  0.61063753  1.48117965  0.51028814]\n",
            " [-1.07881672 -1.56464651 -1.57819804 -1.64186151 -1.92900972]\n",
            " [ 0.610035    0.46886634  0.6366951   1.67197249  0.41787572]\n",
            " [ 0.30041219  0.2814458   0.44560628  1.20923936 -0.04894113]\n",
            " [ 0.30041219  0.20647759  0.42823457  1.32466334  0.31156486]\n",
            " [ 1.58112475  0.93741769  1.10573129  2.27724461  1.12389201]\n",
            " [ 1.98926391  1.35911391  1.23601913  0.90136798  1.80936543]\n",
            " [-0.62845626 -0.46823636 -0.54458124 -0.63897672 -0.44090148]\n",
            " [-0.34698097 -0.18710555 -0.17108946 -0.17708322 -0.12178601]\n",
            " [-1.0881054  -1.75206705 -1.77797271 -1.75918701 -2.07299266]\n",
            " [-1.0790982  -1.56464651 -1.57819804 -1.64186151 -2.00087927]\n",
            " [ 0.32855972  1.31225877  1.23601913 -0.50315475  0.00653071]\n",
            " [-0.90993155 -1.039869   -1.10916184 -1.05557977 -0.9185079 ]\n",
            " [-0.96200448 -1.15232133 -1.22207796 -1.0544932  -1.10741694]\n",
            " [ 0.48900063  1.64024472  1.5139665  -0.26435502  0.25706835]\n",
            " [-0.14994827 -0.18710555 -0.01474406  0.86810394  0.15106228]\n",
            " [-0.7691939  -0.60880176 -0.67486907 -0.67972332 -0.63444333]\n",
            " [-0.65660379 -0.56194663 -0.51852367 -0.45169057 -0.38280844]\n",
            " [-0.7691939  -0.70251203 -0.65749736 -0.67858735 -0.70344785]\n",
            " [-0.69882508 -0.6556569  -0.62275394  0.21581272 -0.78708232]\n",
            " [ 1.20113311  0.98427283  0.8712132   0.88131571  1.76968173]]\n"
          ]
        }
      ]
    },
    {
      "cell_type": "markdown",
      "source": [
        "## 모델 훈련시키기 - 확률적 경사 하강법"
      ],
      "metadata": {
        "id": "dBfL-f6tgXHo"
      }
    },
    {
      "cell_type": "code",
      "source": [
        "from sklearn.linear_model import SGDClassifier\n",
        "\n",
        "sc = SGDClassifier(loss='log', max_iter=10, random_state=42)\n",
        "sc.fit(train_scaled, train_answer)\n",
        "\n",
        "print(sc.score(train_scaled, train_answer))\n",
        "print(sc.score(test_scaled, test_answer))"
      ],
      "metadata": {
        "colab": {
          "base_uri": "https://localhost:8080/"
        },
        "id": "5nlAwe02ge6T",
        "outputId": "bf1b3795-d9e5-4385-98d5-975f053e66f6"
      },
      "execution_count": null,
      "outputs": [
        {
          "output_type": "stream",
          "name": "stdout",
          "text": [
            "0.773109243697479\n",
            "0.775\n"
          ]
        },
        {
          "output_type": "stream",
          "name": "stderr",
          "text": [
            "/usr/local/lib/python3.9/dist-packages/sklearn/linear_model/_stochastic_gradient.py:163: FutureWarning: The loss 'log' was deprecated in v1.1 and will be removed in version 1.3. Use `loss='log_loss'` which is equivalent.\n",
            "  warnings.warn(\n",
            "/usr/local/lib/python3.9/dist-packages/sklearn/linear_model/_stochastic_gradient.py:702: ConvergenceWarning: Maximum number of iteration reached before convergence. Consider increasing max_iter to improve the fit.\n",
            "  warnings.warn(\n"
          ]
        }
      ]
    },
    {
      "cell_type": "markdown",
      "source": [
        "## 점진적 학습"
      ],
      "metadata": {
        "id": "RqmkzLsXg66_"
      }
    },
    {
      "cell_type": "code",
      "source": [
        "sc.partial_fit(train_scaled, train_answer)\n",
        "\n",
        "print(sc.score(train_scaled, train_answer))\n",
        "print(sc.score(test_scaled, test_answer))"
      ],
      "metadata": {
        "colab": {
          "base_uri": "https://localhost:8080/"
        },
        "id": "M9jMA74Lg-F3",
        "outputId": "a42c3749-9e4e-455b-db5b-aac128baf023"
      },
      "execution_count": null,
      "outputs": [
        {
          "output_type": "stream",
          "name": "stdout",
          "text": [
            "0.8151260504201681\n",
            "0.85\n"
          ]
        }
      ]
    },
    {
      "cell_type": "markdown",
      "source": [
        "## 훈련세트와 테스트세트의 점수를 그래프로 그려보기"
      ],
      "metadata": {
        "id": "NxM3-iKuh3Fr"
      }
    },
    {
      "cell_type": "code",
      "source": [
        "import numpy as np\n",
        "\n",
        "sc = SGDClassifier(loss='log', random_state=42)\n",
        "\n",
        "train_score = []\n",
        "test_score = []\n",
        "\n",
        "classes = np.unique(train_answer)\n",
        "\n",
        "for _ in range(0, 300):\n",
        "    sc.partial_fit(train_scaled, train_answer, classes=classes)\n",
        "    \n",
        "    train_score.append(sc.score(train_scaled, train_answer))\n",
        "    test_score.append(sc.score(test_scaled, test_answer))\n",
        "\n",
        "import matplotlib.pyplot as plt\n",
        "\n",
        "plt.plot(train_score)\n",
        "plt.plot(test_score)\n",
        "plt.show()"
      ],
      "metadata": {
        "colab": {
          "base_uri": "https://localhost:8080/",
          "height": 321
        },
        "id": "_Ix8GEVYiA68",
        "outputId": "5c0896fe-a87f-42bd-dffb-d750842183ef"
      },
      "execution_count": null,
      "outputs": [
        {
          "output_type": "stream",
          "name": "stderr",
          "text": [
            "/usr/local/lib/python3.9/dist-packages/sklearn/linear_model/_stochastic_gradient.py:163: FutureWarning: The loss 'log' was deprecated in v1.1 and will be removed in version 1.3. Use `loss='log_loss'` which is equivalent.\n",
            "  warnings.warn(\n"
          ]
        },
        {
          "output_type": "display_data",
          "data": {
            "text/plain": [
              "<Figure size 432x288 with 1 Axes>"
            ],
            "image/png": "[encoded data removed]"
          },
          "metadata": {
            "needs_background": "light"
          }
        }
      ]
    },
    {
      "cell_type": "markdown",
      "source": [
        "## 반복 횟수를 100으로 두고 다시 훈련하기"
      ],
      "metadata": {
        "id": "zwOXrQE2ixa8"
      }
    },
    {
      "cell_type": "code",
      "source": [
        "from sklearn.linear_model import SGDClassifier\n",
        "\n",
        "sc = SGDClassifier(loss='log', max_iter=100, tol=None, random_state=42)\n",
        "sc.fit(train_scaled, train_answer)\n",
        "\n",
        "print(sc.score(train_scaled, train_answer))\n",
        "print(sc.score(test_scaled, test_answer))"
      ],
      "metadata": {
        "colab": {
          "base_uri": "https://localhost:8080/"
        },
        "id": "zTC0hK8Bi29O",
        "outputId": "4638c7df-ece3-4f12-db69-e7bc0fc37cf6"
      },
      "execution_count": null,
      "outputs": [
        {
          "output_type": "stream",
          "name": "stdout",
          "text": [
            "0.957983193277311\n",
            "0.925\n"
          ]
        },
        {
          "output_type": "stream",
          "name": "stderr",
          "text": [
            "/usr/local/lib/python3.9/dist-packages/sklearn/linear_model/_stochastic_gradient.py:163: FutureWarning: The loss 'log' was deprecated in v1.1 and will be removed in version 1.3. Use `loss='log_loss'` which is equivalent.\n",
            "  warnings.warn(\n"
          ]
        }
      ]
    }
  ]
}