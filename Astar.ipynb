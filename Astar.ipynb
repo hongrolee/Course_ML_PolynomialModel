{
  "nbformat": 4,
  "nbformat_minor": 0,
  "metadata": {
    "colab": {
      "provenance": [],
      "authorship_tag": "ABX9TyMAiJxRBUbKWD9y6Q1euL0K",
      "include_colab_link": true
    },
    "kernelspec": {
      "name": "python3",
      "display_name": "Python 3"
    },
    "language_info": {
      "name": "python"
    }
  },
  "cells": [
    {
      "cell_type": "markdown",
      "metadata": {
        "id": "view-in-github",
        "colab_type": "text"
      },
      "source": [
        "<a href=\"https://colab.research.google.com/github/hongrolee/Machine-Learning/blob/main/Astar.ipynb\" target=\"_parent\"><img src=\"https://colab.research.google.com/assets/colab-badge.svg\" alt=\"Open In Colab\"/></a>"
      ]
    },
    {
      "cell_type": "code",
      "execution_count": null,
      "metadata": {
        "id": "dORTaNtaHsTY"
      },
      "outputs": [],
      "source": [
        "def main():\n",
        "\n",
        "    maze = [[0, 0, 0, 0, 1, 0, 0, 0, 0, 0],\n",
        "            [0, 0, 0, 0, 0, 0, 0, 0, 0, 0],\n",
        "            [0, 0, 0, 0, 1, 0, 0, 0, 0, 0],\n",
        "            [0, 0, 0, 0, 1, 0, 0, 0, 0, 0],\n",
        "            [0, 0, 0, 0, 1, 0, 0, 0, 0, 0],\n",
        "            [0, 0, 0, 0, 0, 0, 0, 0, 0, 0],\n",
        "            [0, 0, 0, 0, 1, 0, 0, 0, 0, 0],\n",
        "            [0, 0, 0, 0, 1, 0, 0, 0, 0, 0],\n",
        "            [0, 0, 0, 0, 1, 0, 0, 0, 0, 0],\n",
        "            [0, 0, 0, 0, 0, 0, 0, 0, 0, 0]]\n",
        "\n",
        "    start = (0, 0)\n",
        "    end = (7, 6)\n",
        "\n",
        "    path = astar(maze, start, end)\n",
        "    for x in maze:\n",
        "        print(x,end=\"\\n\")\n",
        "\n",
        "\n",
        "if __name__ == '__main__':\n",
        "    main()"
      ]
    }
  ]
}