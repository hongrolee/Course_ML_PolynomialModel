{
  "nbformat": 4,
  "nbformat_minor": 0,
  "metadata": {
    "colab": {
      "provenance": [],
      "authorship_tag": "ABX9TyNjBztIFKhQ6ux5LtuMvogr",
      "include_colab_link": true
    },
    "kernelspec": {
      "name": "python3",
      "display_name": "Python 3"
    },
    "language_info": {
      "name": "python"
    }
  },
  "cells": [
    {
      "cell_type": "markdown",
      "metadata": {
        "id": "view-in-github",
        "colab_type": "text"
      },
      "source": [
        "<a href=\"https://colab.research.google.com/github/hongrolee/Machine-Learning/blob/main/%EC%9E%90%EC%9C%A8%EC%A3%BC%ED%96%89%EC%97%90%EC%84%9C%EC%9D%98_%EC%82%AC%EB%9E%8C_%EB%B6%84%EB%A5%98.ipynb\" target=\"_parent\"><img src=\"https://colab.research.google.com/assets/colab-badge.svg\" alt=\"Open In Colab\"/></a>"
      ]
    },
    {
      "cell_type": "markdown",
      "source": [
        "# 나의 첫 머신러닝 프로그래밍"
      ],
      "metadata": {
        "id": "MMZ89pOberyp"
      }
    },
    {
      "cell_type": "markdown",
      "source": [
        "## 자율주행에서의 사람 분류"
      ],
      "metadata": {
        "id": "Gfbp3Ss0e2Ge"
      }
    },
    {
      "cell_type": "markdown",
      "source": [
        "### 인식된 사람 데이터 생성하기(키, 넓이)"
      ],
      "metadata": {
        "id": "s7EUcU45fdaT"
      }
    },
    {
      "cell_type": "code",
      "source": [
        "import numpy as np\n",
        "import matplotlib.pyplot as plt\n",
        "from sklearn.neighbors import KNeighborsClassifier\n",
        "\n",
        "normal_person_width = np.random.uniform(low=20, high=100, size=100)\n",
        "normal_person_height = np.random.uniform(low=100, high=190, size=100))\n",
        "\n",
        "error_person_width = np.append(np.random.uniform(low= 1, high=19, size=50),\n",
        "                             np.random.uniform(low=101, high=200, size=50))\n",
        "error_person_height= np.append(np.random.uniform(low=  1, high=99, size=50),\n",
        "                             np.random.uniform(low=191, high=250, size=50)))\n",
        "print(normal_person_width)\n",
        "\n",
        "plt.scatter(normal_person_width, normal_person_height)\n",
        "plt.scatter(error_person_width, error_person_height)\n",
        "plt.xlabel('Width')\n",
        "plt.ylabel('Height')\n",
        "plt.show()\n"
      ],
      "metadata": {
        "colab": {
          "base_uri": "https://localhost:8080/",
          "height": 584
        },
        "id": "ijceCxf3fmym",
        "outputId": "df3d8414-9a18-4413-b316-e355851b89df"
      },
      "execution_count": null,
      "outputs": [
        {
          "output_type": "stream",
          "name": "stdout",
          "text": [
            "[21.44859276 22.1071626  22.53497533 22.78640164 22.88640826 24.0550907\n",
            " 24.82006782 25.7060857  26.15269077 26.38102924 26.60105636 27.46964965\n",
            " 27.98853702 28.24166211 28.33030882 29.45990726 30.6829256  32.90712188\n",
            " 33.03636203 33.3278196  33.81099656 34.5318489  34.9149512  36.34850823\n",
            " 36.66024584 37.77784643 37.81113931 38.81386315 39.2923623  39.51938176\n",
            " 40.10986339 40.45652058 41.15438503 41.88088027 44.82335374 46.29235678\n",
            " 46.7925808  47.20210478 47.33209367 49.33003911 50.79904944 51.44892082\n",
            " 51.61655256 51.99530985 52.69824077 53.52344676 53.70006063 53.88231375\n",
            " 53.89127553 54.0389407  54.67075118 55.67859662 56.78670774 58.90037666\n",
            " 59.80821832 60.67966486 60.85587551 61.14292058 61.39033766 62.30993109\n",
            " 62.47784179 63.16225277 64.73401659 67.54446046 67.76777913 67.7937577\n",
            " 69.54388145 70.40081544 71.40743072 72.95943496 73.37555145 74.08348566\n",
            " 74.36834058 74.82877317 76.00867444 76.04993381 76.13849452 78.19204157\n",
            " 78.52612729 78.93354841 80.40712456 80.58005768 80.8381667  81.11560247\n",
            " 82.45723478 84.06308714 86.75022982 87.48028612 88.07367058 89.14458562\n",
            " 89.59036723 91.40277008 91.68981252 91.91445415 94.91292007 95.07253306\n",
            " 95.79163378 96.29064664 98.7410613  99.86909584]\n"
          ]
        },
        {
          "output_type": "display_data",
          "data": {
            "text/plain": [
              "<Figure size 432x288 with 1 Axes>"
            ],
            "image/png": "[encoded data removed]"
          },
          "metadata": {
            "needs_background": "light"
          }
        }
      ]
    },
    {
      "cell_type": "markdown",
      "source": [
        "### 학습을 위한 입력 데이터와 정답 준비하기"
      ],
      "metadata": {
        "id": "cNK4Y-HmgzDb"
      }
    },
    {
      "cell_type": "code",
      "source": [
        "width = np.append(normal_person_width, error_person_width)\n",
        "height = np.append(normal_person_height, error_person_height)\n",
        "answer = [1]*100 + [0]*100\n",
        "person_data = [[l, w] for l, w in zip(width, height)]"
      ],
      "metadata": {
        "id": "87sqyUOog1p7"
      },
      "execution_count": null,
      "outputs": []
    },
    {
      "cell_type": "markdown",
      "source": [
        "### k-최근접 이웃 알고리즘을 적용하여 학습하기(모델생성)"
      ],
      "metadata": {
        "id": "IoIff6s7hEW2"
      }
    },
    {
      "cell_type": "code",
      "source": [
        "from sklearn.neighbors import KNeighborsClassifier\n",
        "\n",
        "kn = KNeighborsClassifier()\n",
        "kn.fit(person_data, answer)\n",
        "kn.score(person_data, answer)"
      ],
      "metadata": {
        "colab": {
          "base_uri": "https://localhost:8080/"
        },
        "id": "IR3-w1HehAZj",
        "outputId": "771decdd-fce5-491f-b061-0ef1e0d36792"
      },
      "execution_count": null,
      "outputs": [
        {
          "output_type": "execute_result",
          "data": {
            "text/plain": [
              "1.0"
            ]
          },
          "metadata": {},
          "execution_count": 4
        }
      ]
    },
    {
      "cell_type": "code",
      "source": [
        "kn.predict([[20, 180]])\n",
        "print(kn._fit_X)\n",
        "print(kn._y)"
      ],
      "metadata": {
        "colab": {
          "base_uri": "https://localhost:8080/"
        },
        "id": "sBil254_rUMI",
        "outputId": "605979e4-7d8e-42df-a197-ecad69e1b07b"
      },
      "execution_count": null,
      "outputs": [
        {
          "output_type": "stream",
          "name": "stdout",
          "text": [
            "[[ 97.41148979 162.1406765 ]\n",
            " [ 62.80400561 187.20286433]\n",
            " [ 23.2202247  181.89400538]\n",
            " [ 20.2448157  182.21651628]\n",
            " [ 55.38359145 182.58527984]\n",
            " [ 75.21305155 184.27981926]\n",
            " [ 23.00763807 163.74419864]\n",
            " [ 67.19881665 178.65017854]\n",
            " [ 48.25678338 185.96487566]\n",
            " [ 79.22464138 161.1459018 ]\n",
            " [ 38.06504911 174.97098821]\n",
            " [ 53.79468547 189.20008979]\n",
            " [ 56.15429158 186.3563994 ]\n",
            " [ 39.71419479 181.78127308]\n",
            " [ 79.10760137 158.39777545]\n",
            " [ 25.74781393 152.08341818]\n",
            " [ 60.2181543  154.21049527]\n",
            " [ 38.09056813 184.65987622]\n",
            " [ 62.41277808 178.0339202 ]\n",
            " [ 64.63578384 157.92122425]\n",
            " [ 58.41273473 157.95948415]\n",
            " [ 31.90266142 176.72517267]\n",
            " [ 92.91756738 169.11765968]\n",
            " [ 31.54967698 156.78267919]\n",
            " [ 74.2699843  180.22346563]\n",
            " [ 24.02479393 183.159258  ]\n",
            " [ 52.50258825 166.93604234]\n",
            " [ 38.6796705  155.76857843]\n",
            " [ 36.74069685 163.33406464]\n",
            " [ 50.74975144 189.19982384]\n",
            " [ 71.24956552 164.65148252]\n",
            " [ 92.82236203 189.43240208]\n",
            " [ 81.4867994  179.88927446]\n",
            " [ 90.45560387 182.3970528 ]\n",
            " [ 35.28492994 155.73109791]\n",
            " [ 67.65228415 186.4862412 ]\n",
            " [ 79.61819064 188.6710747 ]\n",
            " [ 82.65991219 171.87550988]\n",
            " [ 71.01713786 159.34356432]\n",
            " [ 86.8386656  188.08794846]\n",
            " [ 20.97391213 163.47433214]\n",
            " [ 34.68088825 176.96896773]\n",
            " [ 90.97528306 182.94144255]\n",
            " [ 58.29318872 179.51548266]\n",
            " [ 56.19053078 172.41035759]\n",
            " [ 95.3572376  153.2279937 ]\n",
            " [ 92.38259073 171.58724487]\n",
            " [ 54.76402316 177.63263027]\n",
            " [ 29.01630963 159.81951306]\n",
            " [ 28.40743069 186.64344368]\n",
            " [ 52.73435649 188.93918769]\n",
            " [ 81.85654133 160.54858891]\n",
            " [ 46.75295867 179.29621177]\n",
            " [ 88.82587392 162.22290564]\n",
            " [ 71.76723714 169.10749011]\n",
            " [ 94.48422345 176.50655038]\n",
            " [ 96.28583992 172.91174286]\n",
            " [ 24.26221198 174.6473943 ]\n",
            " [ 78.26217492 182.14169819]\n",
            " [ 37.81459861 177.93914199]\n",
            " [ 76.93388832 152.22877436]\n",
            " [ 63.72078428 158.05830332]\n",
            " [ 32.05511376 185.31445348]\n",
            " [ 27.67343062 155.66241237]\n",
            " [ 35.39206855 172.95624581]\n",
            " [ 58.92998799 170.45064135]\n",
            " [ 51.00826186 181.74939242]\n",
            " [ 29.14537541 177.57209533]\n",
            " [ 42.02209957 188.66025161]\n",
            " [ 65.40316392 184.36187182]\n",
            " [ 58.12525034 156.97271328]\n",
            " [ 20.40527062 163.11952261]\n",
            " [ 54.49889316 162.12418758]\n",
            " [ 20.11628185 189.89800826]\n",
            " [ 81.39537987 151.31190141]\n",
            " [ 65.27762703 187.76815707]\n",
            " [ 66.19766503 174.08372554]\n",
            " [ 42.77625587 152.95193559]\n",
            " [ 48.07009194 183.302901  ]\n",
            " [ 61.84743244 150.97884905]\n",
            " [ 62.12771709 179.98017886]\n",
            " [ 98.33349832 177.01582512]\n",
            " [ 26.31175052 159.58448112]\n",
            " [ 34.02832874 158.12138867]\n",
            " [ 47.89655574 173.63651791]\n",
            " [ 94.03712066 169.2857788 ]\n",
            " [ 61.32580504 182.91510931]\n",
            " [ 83.20509204 160.58427706]\n",
            " [ 37.92951025 151.55649483]\n",
            " [ 45.10805696 152.49913867]\n",
            " [ 70.25360786 155.29849032]\n",
            " [ 47.78087384 181.86740776]\n",
            " [ 41.24448625 184.17406253]\n",
            " [ 75.40525049 156.51896203]\n",
            " [ 75.60399282 189.51166644]\n",
            " [ 66.11963416 180.98993308]\n",
            " [ 22.89458216 166.35716438]\n",
            " [ 30.78749701 188.07361172]\n",
            " [ 51.86348664 187.97185545]\n",
            " [ 79.0716129  186.37439483]\n",
            " [  4.55903563 110.76878661]\n",
            " [  1.40550381 130.87635759]\n",
            " [  2.2960011   54.61309911]\n",
            " [  2.56579956 115.64236516]\n",
            " [  5.11599387  58.95441015]\n",
            " [  2.02390588 148.18612049]\n",
            " [ 14.57394245  68.79602987]\n",
            " [ 15.15857388 121.34444293]\n",
            " [  9.96346848  58.00026566]\n",
            " [  1.2470564  108.87420869]\n",
            " [ 18.53568286  68.56682403]\n",
            " [ 11.39984363  27.7918231 ]\n",
            " [ 10.4847198   27.82783078]\n",
            " [  3.73306058 127.74223924]\n",
            " [ 10.54492745  64.94247101]\n",
            " [ 15.02248997  35.71198436]\n",
            " [ 15.91609498  41.35410151]\n",
            " [ 10.65389836  63.07080655]\n",
            " [  9.76412467  16.60207057]\n",
            " [  5.30199238   7.81760433]\n",
            " [  3.86473376 121.11338899]\n",
            " [ 15.8951078  102.83377651]\n",
            " [ 11.02184593 121.37278219]\n",
            " [ 17.94251426  68.9292752 ]\n",
            " [  2.42318831  54.1731908 ]\n",
            " [ 17.27464397  87.57671018]\n",
            " [  9.90632224  94.48957699]\n",
            " [  6.00384042  91.90815051]\n",
            " [ 14.88504349  24.47549336]\n",
            " [  7.20544175 101.442495  ]\n",
            " [  8.3995389  141.74748316]\n",
            " [ 13.01264009  21.86939804]\n",
            " [  5.26250831  28.3451296 ]\n",
            " [ 17.58797944  73.24467483]\n",
            " [ 16.34132661  66.71113143]\n",
            " [  2.45027545  49.92971476]\n",
            " [  1.10596305  40.03968277]\n",
            " [  1.74270148  74.16843396]\n",
            " [  9.20203306   4.25447217]\n",
            " [  7.80817247  15.26956167]\n",
            " [ 15.46263755  23.69098534]\n",
            " [ 11.30134716  69.86476599]\n",
            " [  8.67796024 148.79511537]\n",
            " [  1.91266168   5.50740748]\n",
            " [ 12.03218858  46.18267074]\n",
            " [  6.73362818  86.34328143]\n",
            " [  4.88200622  33.46228355]\n",
            " [  8.38414855  80.22385662]\n",
            " [ 15.76948928 101.57719508]\n",
            " [  9.96469746 110.60122714]\n",
            " [152.69788722 192.67182415]\n",
            " [192.52791415 208.63722642]\n",
            " [164.2601421  214.34568855]\n",
            " [120.81123157 215.95973555]\n",
            " [121.74242704 227.32899201]\n",
            " [115.71689799 207.59393737]\n",
            " [181.86624446 217.74663423]\n",
            " [149.65152297 207.55949743]\n",
            " [124.96489994 198.08281508]\n",
            " [115.85283504 199.44546268]\n",
            " [129.50781387 225.01500617]\n",
            " [178.64623808 248.48312959]\n",
            " [139.68896684 238.64112354]\n",
            " [169.14343453 203.35006689]\n",
            " [118.99783534 201.41241263]\n",
            " [169.11555192 215.38895305]\n",
            " [108.70270797 220.04455101]\n",
            " [118.77854811 193.10801286]\n",
            " [120.83695557 197.71226581]\n",
            " [170.47905015 207.0624937 ]\n",
            " [148.04611087 197.50376934]\n",
            " [158.17093188 224.60550515]\n",
            " [109.42546639 204.06771875]\n",
            " [138.75805595 214.05978769]\n",
            " [150.52576203 191.53627021]\n",
            " [187.82142261 212.87938778]\n",
            " [146.24985588 220.65848506]\n",
            " [193.43405128 239.19471465]\n",
            " [182.04904712 226.96391126]\n",
            " [153.99787252 242.82466322]\n",
            " [186.42630754 221.81681768]\n",
            " [126.32101365 209.35395301]\n",
            " [104.75042313 219.35675362]\n",
            " [182.81251399 214.64267585]\n",
            " [101.17149722 212.5515439 ]\n",
            " [163.74393142 193.33707739]\n",
            " [163.43072238 214.26187655]\n",
            " [141.25610331 242.22697071]\n",
            " [176.03285981 242.62563943]\n",
            " [102.15265505 208.85707313]\n",
            " [121.42889841 221.90575148]\n",
            " [160.99492153 238.0086762 ]\n",
            " [187.7088797  246.45408577]\n",
            " [104.7172303  204.05318101]\n",
            " [187.22562935 191.64077104]\n",
            " [166.94045473 216.29772252]\n",
            " [160.77747877 234.66784115]\n",
            " [159.6218605  195.16161756]\n",
            " [161.68425901 200.90817016]\n",
            " [154.01998372 192.30744046]]\n"
          ]
        }
      ]
    },
    {
      "cell_type": "code",
      "source": [
        "plt.scatter(normal_person_width, normal_person_height)\n",
        "plt.scatter(error_person_width, error_person_height)\n",
        "plt.scatter(20, 180, marker='^')\n",
        "plt.xlabel('Width')\n",
        "plt.ylabel('Height')\n",
        "plt.show()"
      ],
      "metadata": {
        "colab": {
          "base_uri": "https://localhost:8080/",
          "height": 279
        },
        "id": "KmZGeEB5rhFn",
        "outputId": "9554b7d5-3b31-4478-b133-49201103e597"
      },
      "execution_count": null,
      "outputs": [
        {
          "output_type": "display_data",
          "data": {
            "text/plain": [
              "<Figure size 432x288 with 1 Axes>"
            ],
            "image/png": "[encoded data removed]"
          },
          "metadata": {
            "needs_background": "light"
          }
        }
      ]
    },
    {
      "cell_type": "code",
      "source": [
        "kn = KNeighborsClassifier()\n",
        "kn.fit(person_data, answer)\n",
        "for n in range(1, 100):\n",
        "    # 최근접 이웃 개수 설정\n",
        "    kn.n_neighbors = n\n",
        "    # 점수 계산    \n",
        "    score = kn.score(person_data, answer)\n",
        "    print(str(n)+\":\"+str(score))\n"
      ],
      "metadata": {
        "colab": {
          "base_uri": "https://localhost:8080/"
        },
        "id": "FVkutU8Wrvg3",
        "outputId": "d4648310-62b3-4997-ed49-1d2a17d79821"
      },
      "execution_count": null,
      "outputs": [
        {
          "output_type": "stream",
          "name": "stdout",
          "text": [
            "1:1.0\n",
            "2:1.0\n",
            "3:1.0\n",
            "4:1.0\n",
            "5:1.0\n",
            "6:1.0\n",
            "7:1.0\n",
            "8:1.0\n",
            "9:0.995\n",
            "10:0.995\n",
            "11:0.99\n",
            "12:0.995\n",
            "13:0.99\n",
            "14:0.995\n",
            "15:0.99\n",
            "16:0.995\n",
            "17:0.99\n",
            "18:0.995\n",
            "19:0.985\n",
            "20:0.985\n",
            "21:0.985\n",
            "22:0.985\n",
            "23:0.985\n",
            "24:0.985\n",
            "25:0.985\n",
            "26:0.985\n",
            "27:0.985\n",
            "28:0.985\n",
            "29:0.985\n",
            "30:0.985\n",
            "31:0.985\n",
            "32:0.985\n",
            "33:0.985\n",
            "34:0.985\n",
            "35:0.985\n",
            "36:0.985\n",
            "37:0.97\n",
            "38:0.97\n",
            "39:0.97\n",
            "40:0.97\n",
            "41:0.965\n",
            "42:0.965\n",
            "43:0.965\n",
            "44:0.965\n",
            "45:0.96\n",
            "46:0.965\n",
            "47:0.96\n",
            "48:0.96\n",
            "49:0.96\n",
            "50:0.965\n",
            "51:0.955\n",
            "52:0.965\n",
            "53:0.955\n",
            "54:0.96\n",
            "55:0.955\n",
            "56:0.955\n",
            "57:0.955\n",
            "58:0.955\n",
            "59:0.945\n",
            "60:0.945\n",
            "61:0.945\n",
            "62:0.945\n",
            "63:0.94\n",
            "64:0.945\n",
            "65:0.945\n",
            "66:0.945\n",
            "67:0.94\n",
            "68:0.94\n",
            "69:0.935\n",
            "70:0.935\n",
            "71:0.935\n",
            "72:0.935\n",
            "73:0.93\n",
            "74:0.93\n",
            "75:0.925\n",
            "76:0.925\n",
            "77:0.92\n",
            "78:0.925\n",
            "79:0.89\n",
            "80:0.89\n",
            "81:0.89\n",
            "82:0.895\n",
            "83:0.89\n",
            "84:0.89\n",
            "85:0.885\n",
            "86:0.885\n",
            "87:0.885\n",
            "88:0.885\n",
            "89:0.885\n",
            "90:0.885\n",
            "91:0.875\n",
            "92:0.88\n",
            "93:0.875\n",
            "94:0.875\n",
            "95:0.865\n",
            "96:0.865\n",
            "97:0.865\n",
            "98:0.865\n",
            "99:0.865\n"
          ]
        }
      ]
    }
  ]
}