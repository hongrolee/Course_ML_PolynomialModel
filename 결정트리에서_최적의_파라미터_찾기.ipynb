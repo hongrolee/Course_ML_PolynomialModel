{
  "cells": [
    {
      "cell_type": "markdown",
      "metadata": {
        "id": "view-in-github",
        "colab_type": "text"
      },
      "source": [
        "<a href=\"https://colab.research.google.com/github/hongrolee/Machine-Learning/blob/main/%EA%B2%B0%EC%A0%95%ED%8A%B8%EB%A6%AC%EC%97%90%EC%84%9C_%EC%B5%9C%EC%A0%81%EC%9D%98_%ED%8C%8C%EB%9D%BC%EB%AF%B8%ED%84%B0_%EC%B0%BE%EA%B8%B0.ipynb\" target=\"_parent\"><img src=\"https://colab.research.google.com/assets/colab-badge.svg\" alt=\"Open In Colab\"/></a>"
      ]
    },
    {
      "cell_type": "markdown",
      "metadata": {
        "id": "HZ8aBsjtuzDs"
      },
      "source": [
        "# 최적의 파라미터 찾기 (교차 검증과 그리드 서치)\n",
        "![그림2.jpg](data:image/jpeg;base64,/9j/4AAQSkZJRgABAQEAlgCWAAD/2wBDAAMCAgMCAgMDAwMEAwMEBQgFBQQEBQoHBwYIDAoMDAsKCwsNDhIQDQ4RDgsLEBYQERMUFRUVDA8XGBYUGBIUFRT/2wBDAQMEBAUEBQkFBQkUDQsNFBQUFBQUFBQUFBQUFBQUFBQUFBQUFBQUFBQUFBQUFBQUFBQUFBQUFBQUFBQUFBQUFBT/wAARCAB7BGADASIAAhEBAxEB/8QAHwAAAQUBAQEBAQEAAAAAAAAAAAECAwQFBgcICQoL/8QAtRAAAgEDAwIEAwUFBAQAAAF9AQIDAAQRBRIhMUEGE1FhByJxFDKBkaEII0KxwRVS0fAkM2JyggkKFhcYGRolJicoKSo0NTY3ODk6Q0RFRkdISUpTVFVWV1hZWmNkZWZnaGlqc3R1dnd4eXqDhIWGh4iJipKTlJWWl5iZmqKjpKWmp6ipqrKztLW2t7i5usLDxMXGx8jJytLT1NXW19jZ2uHi4+Tl5ufo6erx8vP09fb3+Pn6/8QAHwEAAwEBAQEBAQEBAQAAAAAAAAECAwQFBgcICQoL/8QAtREAAgECBAQDBAcFBAQAAQJ3AAECAxEEBSExBhJBUQdhcRMiMoEIFEKRobHBCSMzUvAVYnLRChYkNOEl8RcYGRomJygpKjU2Nzg5OkNERUZHSElKU1RVVldYWVpjZGVmZ2hpanN0dXZ3eHl6goOEhYaHiImKkpOUlZaXmJmaoqOkpaanqKmqsrO0tba3uLm6wsPExcbHyMnK0tPU1dbX2Nna4uPk5ebn6Onq8vP09fb3+Pn6/9oADAMBAAIRAxEAPwDqf2Cv2CvgT8af2T/A3jLxl4G/tjxJqX277Xe/2vfweZ5d/cRJ8kU6oMJGg4UZxk8kmvoD/h1x+zF/0TP/AMr+qf8AyTR/wS4/5MT+GX/cT/8ATpd19VUAfKv/AA64/Zi/6Jn/AOV/VP8A5Jo/4dcfsxf9Ez/8r+qf/JNfVVFAHyr/AMOuP2Yv+iZ/+V/VP/kmj/h1x+zF/wBEz/8AK/qn/wAk19VUUAfKv/Drj9mL/omf/lf1T/5Jo/4dcfsxf9Ez/wDK/qn/AMk19VUUAfKv/Drj9mL/AKJn/wCV/VP/AJJo/wCHXH7MX/RM/wDyv6p/8k19VUUAfKv/AA64/Zi/6Jn/AOV/VP8A5Jo/4dcfsxf9Ez/8r+qf/JNfVVFAHyr/AMOuP2Yv+iZ/+V/VP/kmj/h1x+zF/wBEz/8AK/qn/wAk19VUUAfKv/Drj9mL/omf/lf1T/5Jo/4dcfsxf9Ez/wDK/qn/AMk19VUUAfKv/Drj9mL/AKJn/wCV/VP/AJJo/wCHXH7MX/RM/wDyv6p/8k19VUUAfKv/AA64/Zi/6Jn/AOV/VP8A5Jo/4dcfsxf9Ez/8r+qf/JNfVVFAHyr/AMOuP2Yv+iZ/+V/VP/kmj/h1x+zF/wBEz/8AK/qn/wAk19VUUAfKv/Drj9mL/omf/lf1T/5Jo/4dcfsxf9Ez/wDK/qn/AMk19VUUAfKv/Drj9mL/AKJn/wCV/VP/AJJo/wCHXH7MX/RM/wDyv6p/8k19VUUAfKv/AA64/Zi/6Jn/AOV/VP8A5Jo/4dcfsxf9Ez/8r+qf/JNfVVFAHyr/AMOuP2Yv+iZ/+V/VP/kmj/h1x+zF/wBEz/8AK/qn/wAk19VUUAfKv/Drj9mL/omf/lf1T/5Jo/4dcfsxf9Ez/wDK/qn/AMk19VUUAfKv/Drj9mL/AKJn/wCV/VP/AJJo/wCHXH7MX/RM/wDyv6p/8k19VUUAfKv/AA64/Zi/6Jn/AOV/VP8A5Jo/4dcfsxf9Ez/8r+qf/JNfVVFAHyr/AMOuP2Yv+iZ/+V/VP/kmj/h1x+zF/wBEz/8AK/qn/wAk19VUUAfKv/Drj9mL/omf/lf1T/5Jo/4dcfsxf9Ez/wDK/qn/AMk19VUUAfKv/Drj9mL/AKJn/wCV/VP/AJJo/wCHXH7MX/RM/wDyv6p/8k19VUUAfKv/AA64/Zi/6Jn/AOV/VP8A5Jo/4dcfsxf9Ez/8r+qf/JNfVVFAHyr/AMOuP2Yv+iZ/+V/VP/kmj/h1x+zF/wBEz/8AK/qn/wAk19VUUAfKv/Drj9mL/omf/lf1T/5Jo/4dcfsxf9Ez/wDK/qn/AMk19VUUAfKv/Drj9mL/AKJn/wCV/VP/AJJo/wCHXH7MX/RM/wDyv6p/8k19VUUAfKv/AA64/Zi/6Jn/AOV/VP8A5Jo/4dcfsxf9Ez/8r+qf/JNfVVFAHyr/AMOuP2Yv+iZ/+V/VP/kmj/h1x+zF/wBEz/8AK/qn/wAk19VUUAfKv/Drj9mL/omf/lf1T/5Jo/4dcfsxf9Ez/wDK/qn/AMk19VUUAfKv/Drj9mL/AKJn/wCV/VP/AJJo/wCHXH7MX/RM/wDyv6p/8k19VUUAfKv/AA64/Zi/6Jn/AOV/VP8A5Jo/4dcfsxf9Ez/8r+qf/JNfVVFAHyr/AMOuP2Yv+iZ/+V/VP/kmj/h1x+zF/wBEz/8AK/qn/wAk19VUUAfKv/Drj9mL/omf/lf1T/5Jo/4dcfsxf9Ez/wDK/qn/AMk19VUUAfKv/Drj9mL/AKJn/wCV/VP/AJJo/wCHXH7MX/RM/wDyv6p/8k19VUUAfKv/AA64/Zi/6Jn/AOV/VP8A5Jo/4dcfsxf9Ez/8r+qf/JNfVVFAHyr/AMOuP2Yv+iZ/+V/VP/kmj/h1x+zF/wBEz/8AK/qn/wAk19VUUAfKv/Drj9mL/omf/lf1T/5Jo/4dcfsxf9Ez/wDK/qn/AMk19VUUAfKv/Drj9mL/AKJn/wCV/VP/AJJo/wCHXH7MX/RM/wDyv6p/8k19VUUAfKv/AA64/Zi/6Jn/AOV/VP8A5Jo/4dcfsxf9Ez/8r+qf/JNfVVFAHyr/AMOuP2Yv+iZ/+V/VP/kmj/h1x+zF/wBEz/8AK/qn/wAk19VUUAfKv/Drj9mL/omf/lf1T/5Jo/4dcfsxf9Ez/wDK/qn/AMk19VUUAfKv/Drj9mL/AKJn/wCV/VP/AJJo/wCHXH7MX/RM/wDyv6p/8k19VUUAfKv/AA64/Zi/6Jn/AOV/VP8A5Jo/4dcfsxf9Ez/8r+qf/JNfVVFAHyr/AMOuP2Yv+iZ/+V/VP/kmvn/9vX9gr4E/Bb9k/wAc+MvBvgb+x/Emm/Yfsl7/AGvfz+X5l/bxP8ks7IcpI45U4zkcgGv0qr5V/wCCo/8AyYn8Tf8AuGf+nS0oA+e/+GDfgX/0I3/lXv8A/wCP0f8ADBvwL/6Eb/yr3/8A8fr36iv4F/1lzz/oOq/+DJ/5n7d/Z+D/AOfMf/AV/keA/wDDBvwL/wChG/8AKvf/APx+j/hg34F/9CN/5V7/AP8Aj9e/UUf6y55/0HVf/Bk/8w/s/B/8+Y/+Ar/I8B/4YN+Bf/Qjf+Ve/wD/AI/R/wAMG/Av/oRv/Kvf/wDx+vfqKP8AWXPP+g6r/wCDJ/5h/Z+D/wCfMf8AwFf5HgP/AAwb8C/+hG/8q9//APH6P+GDfgX/ANCN/wCVe/8A/j9e/UUf6y55/wBB1X/wZP8AzD+z8H/z5j/4Cv8AI8B/4YN+Bf8A0I3/AJV7/wD+P0f8MG/Av/oRv/Kvf/8Ax+vfqKP9Zc8/6Dqv/gyf+Yf2fg/+fMf/AAFf5HgP/DBvwL/6Eb/yr3//AMfo/wCGDfgX/wBCN/5V7/8A+P179RR/rLnn/QdV/wDBk/8AMP7Pwf8Az5j/AOAr/I8B/wCGDfgX/wBCN/5V7/8A+P0f8MG/Av8A6Eb/AMq9/wD/AB+vfqKP9Zc8/wCg6r/4Mn/mH9n4P/nzH/wFf5HgP/DBvwL/AOhG/wDKvf8A/wAfo/4YN+Bf/Qjf+Ve//wDj9e/UUf6y55/0HVf/AAZP/MP7Pwf/AD5j/wCAr/I8B/4YN+Bf/Qjf+Ve//wDj9H/DBvwL/wChG/8AKvf/APx+vfqKP9Zc8/6Dqv8A4Mn/AJh/Z+D/AOfMf/AV/keA/wDDBvwL/wChG/8AKvf/APx+j/hg34F/9CN/5V7/AP8Aj9e/UUf6y55/0HVf/Bk/8w/s/B/8+Y/+Ar/I8B/4YN+Bf/Qjf+Ve/wD/AI/R/wAMG/Av/oRv/Kvf/wDx+vfqKP8AWXPP+g6r/wCDJ/5h/Z+D/wCfMf8AwFf5HgP/AAwb8C/+hG/8q9//APH6P+GDfgX/ANCN/wCVe/8A/j9e/UUf6y55/wBB1X/wZP8AzD+z8H/z5j/4Cv8AI8B/4YN+Bf8A0I3/AJV7/wD+P0f8MG/Av/oRv/Kvf/8Ax+vfqKP9Zc8/6Dqv/gyf+Yf2fg/+fMf/AAFf5HxF+1t+yT8KPhj+z54r8S+GvCn9m63Y/ZPs91/aN3Ls33cMbfLJKynKuw5B6+tfcf8Aw64/Zi/6Jn/5X9U/+Sa+e/28v+TUfHP/AG4/+l9vX6XV/TnhjjsXmGT1auMqyqSVVq8pOTtyQ0u29NXofnXEVGlQxcY0oqK5VsrdX2PlX/h1x+zF/wBEz/8AK/qn/wAk0f8ADrj9mL/omf8A5X9U/wDkmvqqiv14+WPlX/h1x+zF/wBEz/8AK/qn/wAk0f8ADrj9mL/omf8A5X9U/wDkmvqqigD5V/4dcfsxf9Ez/wDK/qn/AMk0f8OuP2Yv+iZ/+V/VP/kmvqqigD5V/wCHXH7MX/RM/wDyv6p/8k0f8OuP2Yv+iZ/+V/VP/kmvqqigD5V/4dcfsxf9Ez/8r+qf/JNH/Drj9mL/AKJn/wCV/VP/AJJr6qooA+Vf+HXH7MX/AETP/wAr+qf/ACTR/wAOuP2Yv+iZ/wDlf1T/AOSa+qqKAPlX/h1x+zF/0TP/AMr+qf8AyTR/w64/Zi/6Jn/5X9U/+Sa+qqKAPlX/AIdcfsxf9Ez/APK/qn/yTR/w64/Zi/6Jn/5X9U/+Sa+qqKAPlX/h1x+zF/0TP/yv6p/8k0f8OuP2Yv8Aomf/AJX9U/8AkmvqqigD5V/4dcfsxf8ARM//ACv6p/8AJNH/AA64/Zi/6Jn/AOV/VP8A5Jr6qooA+Vf+HXH7MX/RM/8Ayv6p/wDJNH/Drj9mL/omf/lf1T/5Jr6qooA+Vf8Ah1x+zF/0TP8A8r+qf/JNH/Drj9mL/omf/lf1T/5Jr6qooA+Vf+HXH7MX/RM//K/qn/yTXz/+3r+wV8Cfgt+yf458ZeDfA39j+JNN+w/ZL3+17+fy/Mv7eJ/klnZDlJHHKnGcjkA1+lVfKv8AwVH/AOTE/ib/ANwz/wBOlpQAf8EuP+TE/hl/3E//AE6XdfVVfKv/AAS4/wCTE/hl/wBxP/06XdfVVABRRRQAUUUUAFFFFABRRRQAUUUUAFFFFABRRRQAUUUUAFFFFABRRRQAUUUUAFFFFABRRRQAUUUUAFFFFABRRRQAUUV4B8Uv2uv+FX+OdR8Nf8KW+L/i37H5f/E48LeFftunz741f91N5q7tu7aeOGVh2pXV7Dsz3+ivgf4xftufFLWte8Ay/Dv4LfGzQdKs9Zjn8Twah4CV3vtOBG+GEkyYcjdyDH1+8K9O/wCG+v8Aq3L9oD/whv8A7fTW1/66f5/gxPe39df8vxR9VUVgeAvFv/CeeDdJ8Qf2Lq/h3+0IBP8A2Xr1r9lvrbP8E0WTscemTXBfHH4k/FXwHe6TF8Ovg3/wtK3uY5GvJ/8AhKLTSPsbAqEXbOpMm4FjkdNvvRL3HyvcI+8uZHrlFfFfxQ/bY+O/wZ8Dal4x8Y/ss/2P4c03yzdXv/Cw7Cfy98ixp8kULOcu6jhT1z0r3uL9qL4ZWOg6PP4l8feEvCGs6hpltqT6Pq2v2sNxAJoVlUFZGViMMMHaM9cVMpcsJVN1Hf7m7fcg6pd/0t/mj1mivlz/AIJyfGrxj8ev2d28UeONZ/t7Wv7avLQXYtobf9ymzYu2FEXjcecZOetfUdazi4NJ9k/vVxJ3vbo2vudgorxj9nz9ov8A4Xt4k+KWk/8ACPf2H/wg/iWfw953237R9t8tmHnY8tPLzt+7lsZ61zn7TH7RXiT4M/GD4FeFNFstKutO8d682l6lLfxSvLDEGgG6EpIoVv3rcsGHA49YWrgl9u1v+3tV+Y/5v7t7/wDbt7/kfRVFfLPwT+NXjPxd+258dfAGraz9r8JeGrTT5dJ0/wCywp9maWJGkPmKgkfJY/fY4zxivqC8uksbOe5kDFIY2kYL1wBk4/KldKlGs9pK/wAtd/uHZ+0lSW6dvwT/AFJqK+PPCf8AwUu8PePtHXVvC/wQ+NniXSWkaJb/AEfwnHdW7MpwyiSO5Kkg9Rnitn/hvr/q3L9oD/whv/t9UI+qqK8v+Bvx2/4Xha6vN/wrzx54A/s54k8vxzon9mvdbwxzCN7bwu35umNy+teoUNNbiTvsFFFFIYUUUUAFFFFABRRRQAUUUUAFFFFABRRRQAUUUUAFFFFABRRRQAUUUUAFFFFABRRRQAUUUUAFFFFABRRRQAV8q/8ABUf/AJMT+Jv/AHDP/TpaV9VV8q/8FR/+TE/ib/3DP/TpaUAQ0UUV/nEfvoUUUUAFFFeHftTfFT4lfC3RtBuPhv4Q/wCEuu7u4kjvIv7Mub3yUCgq2IGUrkkjJ9K9DL8DUzLEwwlFpSltzOy2vq3tsZVqqo03Ulsux7jRX5663+2t+0n4a0u41PV/hNa6VptuA015feG9ShhjBIALO0wA5IHJ719Jfse/Gvxd8e/h3qHibxVp+l6eq37WlmulwyxrIiIpZj5kj5+ZscEfdNfTZnwhmOU4N4+vKDpppe7NS1fTT7/Q8uhm2HxFaNCCak+6tse8UV8i/s0/Hbxz8QP2oPib4R1/XPt/h7R/t32Gz+yQR+T5d4kafOiB2whI+YnPU819MfEbWdW8O+AfEWqaDY/2nrdnp89xZWXkvN58yoSibEIZssAMKcnPFeRmWS4jK8ZDBVpRcpKLVm7e+rq7aXfU7sPioYmMpQT91tfNHRUV+fl7+2N+07ptnPd3fwditbWBGllnm8MaoiRoBkszGbAAAySa57wz/wAFDfjh411BrHw94F0HXr1UMrW2maRfXMgQEAsVS4Jxkjn3r6+Hh5nNSDqQlTcVu1UVl6s8iWfYSLSkpK/91n6SUV8rfs3fHz43fEf4j/2R4/8Ahz/wi+gfY5Zvt/8AYd9Z/vVK7U8yaRl5yeMZOK+qa+JzXK6+T4j6tiJRcrJ+7JSWvmj1sLioYuDnTTSTtqrBRXkXjz9pvwv8PPjB4c+HGo2Grza5rv2f7NcWsMTWyedK0S72aQMMMpzhTx69K1/2gvjB/wAKJ+FupeMf7J/tv7HJDH9i+0/Z9/mSKmd+x8Y3Z+7zilHKcdOph6SpPmr25NlzXdlZt2372NPrFL9573wK8vLS/wCR6NRXxX8ZP26fFHhf4R/DLxt4a8PaRanxZ9vM9jqplu/I+zypGux42iznLE5HoO3P2dZzNcWcErABpI1Y46ZIzW+Y5Hjcqo06+KikpucVqm705csk7dn95hQx1DEz5KTvopfJ7E1FfP8A8a/21vA/wH8bN4X1/SvEF5qC28dyZNNt4Hi2vnAy8yHPHpXBf8PPPhb/ANADxf8A+Adr/wDJNd+G4TzzGUY4ihhZShJXTXVfeRVzLB0ZunUqJNH17RXyt4V/4KN/DXxd4n0fQrPRPFUV3ql5DZQvPaWwjV5HCKWIuCQMsM4BOO1fVNeVmWT4/KJRhj6LpuWqv1N8PjKGKv7CalbewUUUV451hRRRQB4D+3l/yaj45/7cf/S+3r9Lq/NH9vL/AJNR8c/9uP8A6X29fpdX9ZeEv/Ijrf8AX2X/AKRTPzHif/fIf4V+cgooor9rPkAorw/9o79rXw3+zRq3g7StY8M+KvFOqeK5Z4dMsfClhFeTyPF5e5djSoxJ81cBQxOD078bp37d39oaha2v/DPHx6tvPlWLzrjwTsij3EDc7efwozknsBRD958Pe3zCXuq79T6ior5++NX7QXiL4cftLfBL4eabZaZPovjeTUE1Ge6ika5iEESunkssiquSTncre2K5v9n/AONXjPxv+2H+0D4I1rWftvhfwsdPGj2H2WGP7L5sZMn7xEDvk/32bHbFFP8AeNKPXm/8lsn+egVP3abfTl/8mvb8tT6loopGbapPpSbsrsBaK8r/AGc/2jfDP7Tngm/8UeFbTU7GwstTm0qWHVooo5vNiVGYgRyONpDjBJz14FeqVTTVr/1fUOrXbT7goor5PvP+CifhtvG3i7wxoXwk+LXjO78L6nNpOo3Xhjw3Ff26TRuyH5kuMgEoSNwUkdqm6vy9f6/zQ7aXPrCivlX/AIb6/wCrcv2gP/CG/wDt9eg/BX9pr/hdHia70b/hVHxP8CfZ7Vrr+0PGvhz+zrSTDqvlpJ5jZkO7IXHRWPaqSb2JbS3PaaKK8Y/aX/aM/wCGdrbwHN/wj3/CQf8ACU+JrXw7t+2/Zvs3nbv33+rfft2/d+XOfvCl1S7tL5t2X4j6N9k38krv8D2eimSsUjdh1AJr86PEH7c3xQ8V/wDBPDxB8X7G50vwr40tfEaaXDNo9iHhWETxIf3dyZgWKuwJP4YqOZXa7W/8mkor8WXGLl+P4Jy/JM/RqiszwzeTah4b0m6uH8yee0hlkfAG5mQEnA4HJrxv9ob9sDw3+zn4u8KeGNS8J+MPF2u+Jo55NOsfCOmx3sz+Vt3rsaVGJw2cKDwD0xWk17Ofs3ve39fcZU5e0h7RbWv8v6Z7vRXyr/w31/1bl+0B/wCEN/8Ab6sad+3d/aGoWtr/AMM8fHq28+VYvOuPBOyKPcQNzt5/CjOSewFCTk7IbaSuz6iooopDCvlX/gqP/wAmJ/E3/uGf+nS0r6qr5V/4Kj/8mJ/E3/uGf+nS0oAP+CXH/Jifwy/7if8A6dLuvqqvlX/glx/yYn8Mv+4n/wCnS7r6qoAKKKKACiiigAooooAKKKKACiiigAooooAKKKKACiiigAooooAKKKKACiiigAooooAKKKKACiiigAooooAKKKKACvjf9vb9ojxr8LfFvwx8DeGfEmn/AA103xldSw6h8QNVtVnh01UKDYof5AxDEkvgDI+ZOWH1t4kvtQ0zw7ql5pOmf21qtvayy2mm/aFt/tcyoSkXmN8qbmAXceBnJr5L8Z/E749/EbQJ9D8U/sVaf4i0ecgyWOp/EHSbiFiOh2tERkHoeo7VnLWS8mm1rqu1/wCvPRmkdE/O6Xk+9ix4b/Ynk8VaTBqU37U3xm12SdQ5vtA8Xpb2kmed0caI4VT2AY15F8VPGvjn9ivx74Kt/C3x4v8A4yQa1rVvpt18OvFEsWoau8cuQZY7hP3q84A+VV3Mv3+RXjXxS+FvhT4a6l4d/wCEv/YPi0i58T6rHo+lpD8WnKXF5KfkiCwMVjz6sFUeor3f4SeDfHfwLvlv/BH7A+k6PqS52ai/xI066u48jBCTzK8igg4IDAGt4SXMp9E9V9za7beWl79jGS91x6tf5q/ffz6WP0Jr5X/ak/aA+K/gX46/Cz4ZfCyz8Gzan4zt7+U3HjCK7aGJrdBJ963kDKCof+FucdBmvTfgd8SPip48vNWj+Ivwc/4VbBbJG1nN/wAJRa6v9sYlt67YFBj2gKcnru9q4T9qL9mPXfip8RPBPxM8OfFWL4Wav4HtL3y9Rn0SHUY1SZAJJG86VI1VYw4O5WGDnIxWUk4zg38PX0s/1saR96FSMfitp63X6Hlnx4+C37Yf7Q3wq1vwB4juvgfZaNq4hE8+lyaxHcL5cySrtZ0dR80ag5U8E/Wr3xD+J/7JHwjvNN8F/Gaz8G33xG0TRbCx1Ca/8HTalISlrGExcfZH3LtxjngEDA6V0Hhn4T/tAeOPD9trHhz9svTNd0i5B8jU9L+H+lXMEu1irFZEmKNhgQcdCCK+ifhj4b8WeEvANtpfjbxkvj7xFD5pn14aVFpv2hWZmQGCJii7VIXI67cnnNRW9yjUW3V920mtH00ZKd2nv0++2/3Hyt/wSDZG/ZHJj+4fEV+VwMcYjxX20zBVJJwBySa+KP8AgkR/yaXJ/wBjJqH/ALTrtv26Pj5d+B/Bdv8ADPwMf7T+Lfj7/iU6Npts/wC+topcpLePj7iIu7DHA3DPRGx1YqTTioK8nGKS7vlVv6+YU4rmnzOyUpXfZczuzwr/AIJ4/G/TrnXP2rdds7G+17y/E0/iSDTdEt/Pvb2GR7jCwRbhvc+WAFyOWHPNYH7QX7QX/C8P2oP2Wov+Fa/ELwB/Z3i4Nv8AHOg/2at1vkthiE+Y28rt+bpjcvrVrxH8IT/wTP8AG/wn+JuiRyah4FbS4/Cnj2S1iJJkd94v9vXmQ8enlqmcvXoP7bGuaf4m/aA/Y21bSb2DUtMvvFZuLa8tZBJFNGz2hV1YcEEHORU00lVoWd1GUYfOOif/AG9GzJk3arpbmjOS9JJtr5O6fyL37N//ACkm/ab/AOvDSv8A0TFX2b4i/wCRf1P/AK9Zf/QDXxl+zf8A8pJv2m/+vDSv/RMVfauoWn2/T7m23+X50TR7sZxkEZx+Nc04ueX0Yx3dP9ZGyko4uo3/ADL8on5if8E7/wDhpr/hmuw/4Vd/wqf/AIRL+07zyv8AhLv7T+3+b5n7zd9n+TbnpjnHWvpn/jN7/q3/AP8AK5XGfCX9hb42/AvwfH4V8DftQ/2F4finkuEs/wDhX9jcbXkOXO+Wd2OT74rs/wDhnf8Aad/6O5/8xrpf/wAcrrqSUmmuy/BJf8MYxTjf1f4ts9v+DX/Czf8AhEZP+Fsf8In/AMJR9qfZ/wAIb9q+xfZ9q7M/aPn8zO/PbG3Heu7ryT4HfDf4qeA7zVpPiL8Y/wDhaUFyka2cP/CL2ukfY2Bbe26BiZNwKjB6bfevW6iXRhHqgoooqSgooooAKKKKACiiigAooooAKKKKACiiigAooooAKKKKACiiigAooooAKKKKACiiigAooooAKKKKACiiigAr5V/4Kj/8mJ/E3/uGf+nS0r6qr5V/4Kj/APJifxN/7hn/AKdLSgCGiiiv84j99CiiigArmvHnxJ8L/DHRn1XxVrlnolkoOHupQGkIGdqJ952/2VBPtXS14V+0R+yL4W/aK1fQ9U1O8udG1CwPlT3ViimS6tuT5RLcAhjlWwcZYYOePVyunga2LhDMqjhS6uKu/u89r2duxhiJVY0pSox5pdE9D5Y+LHxm8Vft0+OLT4b/AA7sLiw8GxTrPd3twpBkVT/r58cJGvVY85Y4zzgL2PiL9i/426Dq0un/AA4+J58P+DLdIo7GwbxBqFsy4jUSO0cUZRWeTe52nGXNcxov7b3hX9nG81nwP4T+EENtZaXfz2kl0uukS3jxyMnmyMbYsWOO5OAcDgCtb/h6t/1S/wD8uD/7lr9+qYLibDqnQyLL4wwsV7qnKlJybs+eV5/E7adldHw/tsDOUpZhXvVv9lSSja/urTbv3/F4/wDwT70nU9B/af8AiNputXn9o6xZ6fd297eea0vnzLexK772AZssCcsMnPNfZ3x/17x54X+Geo6t8OtPtNW8Q2bLJ9guraS4aeHOHESo6kyDIYDnIUgDJFfKH7CfjTwv49/aE8da5pPh3V9F1fU9PuL66a81mK8t/wB5dROyJGtrEy/MwwS7cDGDnI9q/am/ZC/4aW1rQdQ/4Sz/AIRz+y7eSDy/7N+1ebvYNnPmpjGPevk+JXh58V05Zs1RiowcuaPOtI7csHqpPTR6Xuenlt44Cq8L7/vStrZ626tbpangdr8F/wBpb9qLy4viJr03g/wnIQ0lpOqQl1znH2WLBcggY88jHUGu1+In/BO210uy0jVfhJ4iu/DHinS4gvm3d1IPtbj/AJa+anzRSEE/dG08DC8k/LfxU+Afwr+E2rXGk33xmuNa1e2fy7ix0Xwx57Qt3DO12seQeCu7IPBFcHY+HPhTeXUcUvjzxVZRscGefwjAUT3OzUWbH0Br9Op4HFYhQxGW472VBXahDCVFCSe94t3nddfmrHzs60KTlDFUeeb0blVi2vS2x9wfBnxh+1VpPxM0Pwl4z0eG70WaX/Sta1CxWaOG3QEtie2ZV3sBhd+SWIyOtfaVfm18Of8Agnz4W+LXh9da8JfGm31nT93ls8Xh8q8bj+F0a5DI3fDAcEHoa+777xBoPwL+FlnP4k1iK20rQ7CG1e8lXYZjHGEARMklm28ICTzjmvxjjCjl+IxVKGWyjKt8MqcKE6Xvd+WTbu72streZ9TlEsRGMnWT5N03NS+Wn5nxp+1FqVvH/wAFAPhUXkCrbtpKyMeik3khH6MPzrF/bR/bC/4S6x8a/CX/AIRL7J9k1MW39sf2lv3+ROG3eT5Ixu2dN/Ge9eWeMPDPxA/aUvvH3xz0qwmg07S7yN7eJcmURRgAeVj7xhRY2cj1JHcV7p8Xv2l9I/aG/Yp8QsHW18V6e+nrqun4xhvtMY86P1RiCfVScHsT+q08uo4OtlTq0VXlQ5KU7Ta9jUcoyUml8S1tZ6X03Z4csTKtPFOnPkVRScXa6moxkpJX2v8Aejw/45/8ml/s8/7utf8ApUlfrBpf/IMtP+uKf+givyf+Of8AyaX+zz/u61/6VJX6waX/AMgy0/64p/6CK+E49/3DCf8AX7F/+njsyP8Ajr/r1T/9JR+aX7b9zfWf7Yulz6boVv4nv47OxaDRrqza7ivHy+ImhXmQHptHWo/+E2+KX/RpnhD/AMNvdf8AxVe4ftPfsffEX4t/GyLxz4O8Q6PoYgtbeKCa4vbm3uopY93zqYoW29Rghs1x3/DIv7Uv/Raf/Lq1X/41X2OBzjJ55VgqVSvS5oU4pqbmmn293Q5cXhcV9cqzhCVm1ayXbzHfAHWvGviT4weGbDxL+zZ4V8K6M87yS6zB4Ens5LRkjd43WaQlUPmKgBPc8c4r76r4N0v9k39p611SzmufjL51vHMjyx/8JRqjblDAkYMWDketfeVflfGlTCV8RRq4SrCa5WmoOTSs93zdXfp2PdyeNWCnGrGS2+K2u/bt+oUUUV+dH0QUUUUAeA/t5f8AJqPjn/tx/wDS+3r9Lq/NH9vL/k1Hxz/24/8Apfb1+l1f1l4S/wDIjrf9fZf+kUz8x4n/AN8h/hX5yCiiiv2s+QPgb/go1440T4aftFfsr+KfEl7/AGboOk61qF1e3flPL5US/ZMtsRWZvooJr6J+E/7bHwU+N15rVt4O8dW+oPotg+qajJdWV1Yw2tqhAeZ5biKNAq7hnngc9ATXgn7fuvaZ4X/aj/ZL1bWdRtNI0qz12/lub6+nWCCBAbTLO7EKoHqTivovVf2nPgHr2l3em6l8WPhvqOnXkL29zZ3XiPT5YZ4mBV0dGkIZSCQQRgg1NFv6t/29P79Pw/4OvZz/AIkf8K/9KkfM/wAcPir4K+J/7dv7Lj+DvGGgeLUs59XFy2h6nBeiAtbrtD+Uzbc7Wxnrg+lbn7Kn/KQT9qz/AHtK/wDRRrnfjH8N/APgP9uD9lS58BeF/Dfh2x1R9Vnebw5p9vaxXa/ZkMbkwqBIMMSp54Y4610X7Kn/ACkE/as/3tK/9FGrw1k4LyrfnEnE6wk/+vP5yPtHVNWstD0+e/1K8t9PsbdS811dSrFFGo6lmYgAe5r42+OX7XGp/G6XUfhJ+zTGfGXiq/X7JqnjG1z/AGPoMEgIeU3I+V5NudpTI/u7mG2vpn4u/A3wJ8edBtdG8feG7XxJp1rcrdwRXDOhilX+JXRlYZHBGcMOCCK3/Bvgbw78O9Bh0TwtoWneHdIhJMdjpdqlvCpPU7UAGT3PU96z5VO6qbdu/q+3kvvNOZws4b9+3p/XyPgbwP8ACfx9/wAEw9WfVdGtdS+KXwW1a3gk8SQ6fEDqOkXqRhZLyOEH5ojgk88KAGI2Bm+1fhL8ffh58ddHTUvAni7TPEUJQPJBbTAXMAPQSwNiSM8Hh1FegV5Yv7Lfwlj+KFn8RYvAOi23jO0d5YtUtrfym8xvvSsikI8nJ/eMpYdiK25nJ2nqu/VeXnbptZd9DLlUVeG/4Pz8n37vW29/U6/Mb9mP/hfX/C9v2nP+FO/8K5+w/wDCd3f9of8ACcfb/N8zz59nk/ZuNuM53c5xiv05r400n9h/4reAfiF8RPEnw6/aI/4Qq18aa3Prd3p3/CEWl/sd5HdU8yeYk7RIRkBc9cVlHSpzdOVr580X+jLesLeaf4SX6o6H/jN7/q3/AP8AK5Xq3wN/4Xbt1j/hcf8AwgG7MX9mf8IN9uxj5/N8/wC0/wDbPbt/2s9q8p/4Z3/ad/6O5/8AMa6X/wDHK7b4P/CP41+DPGSaj47+P3/CxdBEEkbaJ/whtlpeZDjbJ58Llvl5+XGDmtI9UyJHulfAP/BWX4jWHgqz+BsNzIgli8ZQ60ynkiG1A3tjPTMy195azrNh4d0m81TVL2DTtNs4mnubu6kEcUMajLO7HgAAEkmvzt0v4Q/8PKvHnxL+JWsRyWXw8ttJuPCngF7mNh5kwJL6kFODgSD053besZrLmanFxV+T3n/267pfOSSXz7M1SjytSdlL3f8AwLR/cm38vM+qPjJ+1Unwn8SDRI/hJ8U/HMctml0ureDfDX9oWGH3YTzfNX5xjJGOAR61+bGjt5n/AAR18Utgru8ZqcMMEf6Tb9a+5/2Cfj9d+MvAN98KfHB/s34r/D1TpGp6dcsBLc28XyRXKD+Ndu1WYZ5w3SRc/DWl/wDKHfxX/wBjoP8A0pgpOKjOpyu6aptPunVjYqi2+XmVmnJNeapzufsF4L/5E/Qv+vCD/wBFrXwv+3d/wmH/AA2p+zV/wgP9h/8ACX+Vqn9n/wDCSed9g37Fz53k/vMbd2NvfHavujwX/wAifoX/AF4Qf+i1rwX9pr9k3xF8cfih8P8Ax74T+Jf/AArrxD4OjuUtLj+wY9U3NNtBbbJKqDCgjBVvvZ4xXRX0xcZ9Iybf3SX6nJh9cHKHWUEl+Bkf8Zvf9W//APlcrd8C/wDDXH/CYaR/wmf/AApX/hFftC/2l/YX9r/bvJ/i8nzfk3+m7isL/hnf9p3/AKO5/wDMa6X/APHKF/Z4/ac3DP7XGR6f8K10z/45Ux0kmatXVj6qopkSssaK7+Y4ADNjGT64p9SCd1cK+Vf+Co//ACYn8Tf+4Z/6dLSvqqvlX/gqP/yYn8Tf+4Z/6dLSgYf8EuP+TE/hl/3E/wD06XdfVVfKv/BLj/kxP4Zf9xP/ANOl3X1VQAUUUUAFFFFABRRRQAUUUUAFFFFABRRRQAUUUUAFFFFABRRRQAUUUUAFFFFABRRRQAUUUUAFFFFABRRRQAUUUUAFfBf7bHxO8M/Bv9t39m/xh4w1L+yPDmm2WtG6vfIln8sPB5a/JErOcs6jhT19K+9KKmzU4TX2X+aa/Ubs6c6b+0rfin+h+d/7RX7Xn7MXx91L4aXf/C7f7C/4QzxPa+JNn/CJ6pcfbPJOfJz5SeXn+/8ANj+6a9m/4ejfsxf9FM/8oGqf/I1fVVFUvdTS6u/zsl+SQnq7vtb5Xb/Nsq6XqVtrOm2moWcnnWl3Ck8Mm0ruRlDKcEAjII681yPx0/5Ij8Qv+xd1D/0mkruKKitFVIygtE7/ANdC6M3TlGb1asfmz+wn+3x8CPg1+yx4J8H+MPHX9j+ItOW6F1Z/2Rfz+XvupZF+eKBkOVdTwT19a97P/BUb9mFgQfiZkf8AYA1P/wCRq+q6K2qSdSTlLqYwioR5UeN/sw/FT4MfEzwjqQ+CR0uPw7p95surfR9Fk0uGO4dQxPlvDFliMEsAenJrs4fg/wCC7f4nXHxEi8Naenje4s1sJdbEX79oR0XPTOMDdjcVAUnAArsaKTaumv60s/67aFK9mn1/zv8A156mT4r8K6P458N6j4f1/TrfV9F1GFre7srpN8csbDkEf16g4I5r4h/bE8I6L4B+OX7GPh3w7ptvo+iab4qa3tLG1TbHEgktMAD9STySSTkmvvSipj7tSM10afrbb836XK3i49016XVv8vuPiL9m/wD5STftN/8AXhpX/omKvdvjZ8Lfi/468RWV58Pfjf8A8Kx0qK1EU+m/8IlZ6t5829iZfMmYMvylV2jj5c969L03wL4b0bxJqfiLT/D+lWPiDVFRL/VrayijurtVACiWVVDSAAADcTjFblKKtRpU39hW/F/5g3epUn/M7/gl+h8q/wDDO/7Tv/R3P/mNdL/+OUf8M7/tO/8AR3P/AJjXS/8A45X1VRTEfKv/AAzx+07/ANHcZ/7prpf/AMcr6ksopoLOCO4n+0zpGqyTbAnmMBy20cDJ5x2zU1FO+lhW1uFFFFIYUUUUAFFFFABRRRQAUUUUAFFFFABRRRQAUUUUAFFFFABRRRQAUUUUAFFFFABRRRQAUUUUAFFFFABRRRQAV8q/8FR/+TE/ib/3DP8A06WlfVVfKv8AwVH/AOTE/ib/ANwz/wBOlpQBDRRRX+cR++hRRRQAUUUUAfk34E/aI/4Zu/aU+Jmv/wDCP/8ACRfbb3ULH7P9t+y7M3m/fu8t8/cxjHfrXtH/AA9W/wCqX/8Alwf/AHLX35RX6tjOLMjzKca2OynnqKKjf281flVloopHzkctxdGU/YYnlUm3bkT382z86/8Agn34o/4Tb9p/4jeIfs32L+1tPu777N5nmeV5l7E+zdgbsbsZwM46Cv0J1a3nu9JvYLWb7PdSwOkU39xypCt+Bwat0V8jxDncc8x/12nS9mkoxUb81uVWWtlf7j0svwssDBxlPmbble1tX5H5EfCfWPC37O/xE17TPjP8Mp/EWoKwRPtIEht8FtzLDIRHMsmVIcnouRnNex+LP2qv2ZdS0O6t7L4IC4uHQqsZ0ex0/J/67QyM6fVRkV9++I/COheMLRbXXtF07W7VTuEOpWkdwgPqFcEZrnrH4GfDfS7qO5svh94VtLmM7kmg0W2R1PqCEyDX39fjbLMxqrF47D1VV0vyVpRhp2X2fRfi9TxIZPiMMnDDzjyv+aKb+/r8z5D/AOCZ3gjxDY6l4w8VyWFxpXhPUoUgs45i224kEhYMmfviNdy7/ViOoOPrv4wfBfwt8cvCp0HxVZNcW6v5sFxAwSe2k6bo3wcHHBBBBHUGu4VQqgAYA4AFLXwWccRYnNM2lm9NeynpblburKy13b01fU9jBYCGEw31eT5k7300d99Oi8jH8J+EdH8C+GrDw/oVhFp2kWMQhgtYh8qr3znkkkkknkkknk18z/tnfDjwx8Of2V/GsXhnQ7PRI9Q1G0u7lbSPaJJWuY8k+g9FHA7AV9YUVw5Zm1fL8dTxsm5WnGclzNc7i+bV6636tO251VcPCpRdFJL3XFabXi46fJ/ofkr8c/8Ak0v9nn/d1r/0qSv0p+K/hfxJ40+Dep6L4Q1f+wfEd3awrZ6j9pltvJYOjE+ZGC65UMOB3xXReKvh/wCF/Ha2y+JfDekeIRaljANVsYrryt2N2zzFO3O1c464HpW6qrGoVQFVRgKBgAV9JnHFKzKnhXSpcs6NSrU1tJP2lTnS6XS2d1qeXg8seFm25XXJGHZ6K1z4F/4ZF/al/wCi0/8Al1ar/wDGqP8AhkX9qX/otP8A5dWq/wDxqvvyit/9fM0/59Uv/BURf2Lhv5pf+BM+A/8AhkX9qX/otP8A5dWq/wDxqvpL9lz4Y/EX4X+F9YsviP4s/wCEt1G5vBNbXH9pXN75UWwApunVSvzAnA45r2qivKzPivHZrhnha8Kai7fDBRenmjooZXQw9RVYSldd5NrawUUUV8aeuFFFFAHgP7eX/JqPjn/tx/8AS+3r9Lq/NH9vL/k1Hxz/ANuP/pfb1+l1f1l4S/8AIjrf9fZf+kUz8x4n/wB8h/hX5yCiiiv2s+QOV8c/CfwR8UPsQ8ZeDfD/AItFlv8Asv8AbmlwXvkb9u/Z5qNt3bVzjrtHpXKf8MnfBD/ojfw//wDCXsf/AI1XqtFLbYD4o/aY0600f9uD9kewsLWGysbU6tBb2tvGI4oY1to1VEUDCqAAABwAKi/ZU/5SCftWf72lf+ijX25WHpPgbw3oPiDVde0zw/pena5q2z+0dTtLKOK5vdownnSqoaTA6bicU6V6bTetuf8A8naf4WCr+8i0tL8n/kl/zueY/Gr4V/GHxx4ntb74ffHP/hWWjx2iwzaV/wAIjZ6t50wdyZvNmYMuVZF2DgbM9zXn/wDwzv8AtO/9Hc/+Y10v/wCOV9VUUkrDbufKv/DO/wC07/0dz/5jXS//AI5Qv7PH7Tm4Z/a4yPT/AIVrpn/xyvqqiqTs7iPL/jZ8P/iV450zR4Ph78V/+FY3lq7te3X/AAjltq321SqhV2zMBHggnK9d3tXkv/DO/wC07/0dz/5jXS//AI5X1VRU9Ww6Jdv6+Z8q/wDDO/7Tv/R3P/mNdL/+OUf8M7/tO/8AR3P/AJjXS/8A45X1VRTA4H/hVMXi/wCEEfgb4oXdv8R/tNmLbVr26sEs01Bgc+Z5MZxE2QCNhypUEEEZrrfDvh3S/COg2GiaLYW+l6TYQrb2tnaxhIoY1GFVVHQAVo0U27tvuJKyS7f1+hxz/CXwbD8Qrr4gp4c09fGsth/Z762IR9oaAchc/kN3XAAzgAV+Sul/8od/Ff8A2Og/9KYK/ZusbxZ4N8P+PtFl0fxPoWm+I9IlZXk0/VrOO6t3ZTlSY5AVJBAI44IrLls3bryr0tNT/H9bm0Z2d35/+kuP6/hYy7bT9T1b4Tw2Oi6t/YGsXOirDZar9mW5+xzNABHN5TfLJsYhtjcHGD1rwL/hnf8Aad/6O5/8xrpf/wAcr6nhhjtoY4YY1iijUIkaABVUDAAA6ACn1vUanUlUXU5qUXTpxpvoj5V/4Z3/AGnf+juf/Ma6X/8AHKP+Gd/2nf8Ao7n/AMxrpf8A8cr6qoqDQ8o+Bvw6+KHgOTWT8Rvi9/wtNboRCxX/AIRm10f7EV3+Yf3DHzN+5PvdNnHU16vRRTbuJKwV8q/8FR/+TE/ib/3DP/TpaV9VV8q/8FR/+TE/ib/3DP8A06WlIYf8EuP+TE/hl/3E/wD06XdfVVfKv/BLj/kxP4Zf9xP/ANOl3X1VQAUUUUAFFFFABRRRQAUUUUAFFFFABRRRQAUUUUAFFFFABRRRQAUUUUAFFFFABRRRQAUUUUAFFFFABRRRQAUUUUAFFFFABRRSUAcb42+MXhD4d+JPC/h/XtYFprnie6NnpGnQ281xPdSAZYhIkYqijlpGwi92FbXi/wAZaF8P/Dt5r3iXV7LQtFs133F/qE6wwxjOBlmIGSSAB1JIA5r5M/Y9jP7QPx4+K3x91b/S7W21GXwh4RV+VtbC3I82WMHoZWYEkc5Mg6GuT+LDaR+1F+3Fe+DfGd7bxfCH4QaXHrGrWd9OsVleajKFZDcFiFKKrjhuP3cg6OalXkoR6yXN6Rtza/K1/NpeZTtFzb2i7ervay+enom/I9y8C/8ABQT9n74keMrDwr4f+I1rea5fzC2tbebT7y3WaUnCosksKoSTwBu5JAGa961jWLDw/pd3qeqXtvpum2cTT3F5dyrFFDGoyzu7EBVA5JJrhfBvjD4SfFC3t9J8Ka34L8XQaM0c8Njo13aXq2LIQY3VIywjKkDaQBggYr5q/wCChF9cfEr4lfAv4DJdS2+jeNdcN5rywSFGmsrYoxiyOzZkb/ejQ9qt3bhTj8UnZdtevy1b9CVa0py+GKu/l/nol6np2if8FEv2dPEPiqPw7ZfFHTTqUk3kI1xa3MFsz5xxcyRLDgnod+D2NfQ91eW9lZy3dxPHBawoZZJ5HCoiAZLFjwABzmvKfjR+zj4N+KHwH1f4cf8ACO6ba6UNPkh0qCC2SNNPnCEQywgD5CrY5GMjIPBNfC9j8UvFXxG/4I5+IWSa5uNZ0EDw/fzIxMps4buEMCeuBbOqt/shs1nKS5ZqO8bPXazdrvtZ776O/QuMXKUL7SdvR7/O6vbbVH1/oX/BQT9nvxL42h8J6d8TtMm1maf7NEHguI7aSTOAq3LRiE5PAIfBJGM5r6CmmjtoZJpXWKKNS7yOcKqgZJJ7Cvif9rJPg83/AATlvE0kaI3hltHgHhZbUR7je/L5Pk4583dnfj5seZu/iqH4teLfGPxC8BfCf9mzR7ye08f+LPDtnP401MZMujaUkKLdO+eksrbowD1ywONwNazi05U4/Eml5O9/u5bXlvZWZlCSlGFSWkWm/NWt9972W2uh9Y/Cz4teFPjV4VHiXwZqbazoTXEttHffZZoEleNtrmPzUUuoORvXKkg4JwaZ4O+MPhDx94s8UeGNE1gXPiHwxOtvq2mzW8tvPbMwyjbZUUujDkSJuQ9ia1/BHgvR/h14Q0fwx4fs00/RdJtY7O0to+iRoMDJ7k9STySST1r5P/bEUfAL4+fCP49aZm0t7jUo/B3isIcJc2FxkxSSAdTEyswJ7hB2o932sYLZu3zeifo3pbpe99NTX2cpPdK/yWrXrbr1a210+zKKKKkoKKKKACiiigAooooAKKKKACiiigAooooAKKKKACiiigAooooAKKKKACiiigAooooAKKKKACiiigAooooAKKKKACiiigAr5V/4Kj/8mJ/E3/uGf+nS0r6qr5V/4Kj/APJifxN/7hn/AKdLSgCGiiiv84j99CiiigAooooAKKKKAOG+J/xt8E/BmDT5fGGux6R/aEhitYxBLPJKwHOEiRmwMjnGMkDOSK0vF3xM8LeAPD8Wt+JdbtdB06VQY5NQYwu5K7tqxsA5fH8AG72r4q+Dsh/as/bU1/xhqf8ApXhnweCdMgb5oxskKW3HbLCSb/eX0r6b+Of7Mfhv9oLXvDN54ou70afoiz4sbNhH9oaQxn55OSFAjPC4J3feGOfvsdkuWZTisNg8wqzjJw5qrST5W1eMIq2+ybba1vokeLSxlfEKtOhFNRfLHza3bfbtpfQqaD+2l8FfEmqxadZ+PLRLmVtqm8tbi1jz7ySxqg/E17WrBlBByDyCK/Pj9t79lf4X/CL4U2viHwtZSeH9XW+jtktzeyzreBgdwxK7EFQN2VIHByORjuvCPxf17wH/AME57XxNNdTf24lnLp2n3EjHzFDXTQQsD6pHgj/cFepjeGMvxmCw2PyKpNxq1VS5avLfmezvHS3ff80c9HH4mliZYbGqOkXO8b7Le9/6+89z8dftY/CX4b65Lo2v+NLS21OE7Zbe2gmujEwOCrmFHCMP7rEEeld34H8f+HfiVoMWteGNYtdb0yQ7RPavu2tgEqw6owBGVYAjPSvhL9i/9j/wb8XPhbfeMPHNrdapcaldTQWSrdyQiFEO1pcoRucvv+9kfKOOtZH7Gl3f/BP9r7xH8NDdyXGmXcl3p77uBI9vvkhmx2YorD/toa7sdwlk/scbQy6vOWJwi5p8yjySS+LltquXzb1013OSnm2K/dV6sEqVSXKt+ZX2v0Pt74nftEfDr4N3lvaeL/FFtpN7OvmJarFLcTbezGOJWZVODgkAHBx0rofh/wDEjwz8VPD6a34U1i31rTGcxmaDIKOMEq6sAyNgg4YA4IPeviHwDJ8Ppv2xfjG3xjOj/aFuXXSh4p8v7L5Ichceb8m7yRDtzzjOKn/ZV8ceGfhl42+P/i/TJTbfC7T5Fe18vIjkbzZPJSIHqSCVUejLmubF8IYengZuh7R14QpSu0vZzdRxXLDS91zaau7T0R0RzSo8Ryvl5Odwt9pWT959Laa9l1PsLxz8b/BXw38SaL4f8Qa19k1vWmC2FhDaz3MsxLBB8sSNtBY4BbGcHHQ40PiR8UPDfwj8O/274rvpdN0nzVha6js57hUZvu7hEjFQTxkgDJAzkivmX9kXwHq/xd8eav8AH/xzB/pmou8Ph6yk5W2gGU8xQewXKKe/zt/EDX1Z4w8J6b478Lar4e1i3W60zUrd7aeNu6sMZHoQcEHsQDXyuZ4DLsqx1LBVJSnyWVZxa+L7UYe6/hWl3e8r7HpYXEVcXCdWNlF/BdPbu9dm9lpp6j/C/ijSvGnh+w1zQ76LUtJvohNb3UJO11P15B7EHBBBBAIrVr4a/YJ8Xan8PfiR47+Cet3DTf2XcT3FgWPAaOTZMFz2cFJAPZj3NfctcvEGUf2JmE8LGXNDSUJfzRkrxf3aPzTKwGKeLo801aUW1Jdmt/8AMKKKK+cPRCiiigAooooA8B/by/5NR8c/9uP/AKX29fpdX5o/t5f8mo+Of+3H/wBL7ev0ur+svCX/AJEdb/r7L/0imfmPE/8AvkP8K/OQUUUV+1nyAUUUUAFFFFABVLWtasPDej3uq6reQ6fpljC9xc3dw4SOGNAWZ2Y8AAAkmrtfHn7c2oXnxU+IPwl/Z50+5kt7TxtqD6j4jeBir/2TafvHiyOgkKtz6xgdzUvmbUIbt2X+b8krt+SKVknKWyV3/Xd7LzZ9FeG/jf4H8U/C+L4i2niCG28EyxNOutarFJp8Plhiu8/aFQhSRwxGG4IyCK8k0n/go9+zfrXiKLRbb4paet7JL5KyXNld29tu97iSFYgP9ovj3r1j4gfA/wAF/E7wXpXhHxDokN54X024triHSANlufI/1UbKOsY4+TocAHIyDgftA/CjwH4n/Z98U+HfEOiaXB4XsdHuZIUFrGkeneXCxWWEAYjZMZBXGMUqs1TU6lvdXTrb17+VvmOnB1HGHV9el/663+R6xDMlxEksTrJG6hldDkMDyCD3FeL/ABg/bQ+CvwF15dD8cePrHSdZKhmsIIJ7yeIEAjzEt43MeQQRvxkHIrxH9ir4sav4L/4JoWfjbWWa7m8OaPqs9mbkkmSG2km8hCfQbAg9gK3f+Ca3wrstK/Z/sfiLrEEeqePPHstxrOr61dIHuZlklYJHvPOzaA23pl2redNxqzgnpG343svLZ37WsYwmnTjJrVtr7t3+Kt3ufR3wv+Lfg740+FYvEfgfxDZeJNGkYx/aLNyTG4AJSRCA0bgEHa4BwQcc1xnxo/a9+D/7PeqW2meP/G9noWp3CealikE93OEPRmjgjdkU4OCwAODjpXzb4N0S0/Zt/wCCnlz4V8N28el+Efid4abU30u1UR28V9CZWLog4U/uZTwP+W5/Db/Yxk0OX9pv9px/En2X/hZC+KZFT7dj7UNGC4t/L3c+VtC528Y8vP8ADWa/ecrjpeLf/gMuVrp11v2Wxcvc5lLWzS/8CXMn16aW79T6v+GvxR8KfGLwla+JvBeu2niHQ7klUu7NiQGHVHUgMjjIyrAEZ5FVtQ+MHhHTfijpnw5n1bPjTUbJ9Rg0uG2mlYWyEgyyOiFIlyCAZGXceBk18Xfs8/FDwd8DfGX7Xnj3TpYYPhHper2kliNPx9ln1AQuLiK2x8hZ5WjUbePmTtivbP2M/hPr1jp+vfF/4hw4+JvxCdL66hcH/iVWAH+i2KZ5UKm0sODnAOSuacbTtJaR5U33vJXS/X0XdoUrw5ovfmaXbR6v5LT/ABPsmeyfET4xeEPhPc+HofFusDRBr98umafPPbytBJcsMrG8qoUiLc48xlBwcHg12deeftAfB3S/j18HvE/gfVUUxapaMkEzDm3uF+aGZfQo4VvwI715z+wP8YNS+MX7NmhXOvyPJ4p0Gabw9rDSHLtc2zbNzHuzIY2J9SaUPe5k91Z/J6fg9/8AEhy93la2enz3/Ffk+6PomiiigAooooAKKKKACvlX/gqP/wAmJ/E3/uGf+nS0r6qr5V/4Kj/8mJ/E3/uGf+nS0oAP+CXH/Jifwy/7if8A6dLuvqqvlX/glx/yYn8Mv+4n/wCnS7r6qoAKKKKACiiigAooooAKKKKACiiigAooooAKKKKACiiigAooooAKKKKACiiigAooooAKKKKACiiigAooooAKKKKACiiigArK8VzTW/hfWJbcstwlnM0ZTqGCEjHvmtWmuiyIyMNysMEHuKxrQdSnKC6po0pyUJxk1ezPk/8A4JZwwR/sS+BXiOZJptQknOMEyfbZgc/gBXzj8HfgNpPxo/4KKftC6V47V9T8O6ZfRas+gOxW3v5c4tWnUY8xI0kY7D8pLKTnGD7r/wAE+rg/CnWvix8A9UYw6n4P8QTajpcchwZ9KuiHhkT1APJx0MoFaHx8/Z/+JXhD9oS0+PfwQh03V/EVxYLpXiTwlqlwLaPWLddoVo5SQqyAKg+YgDy1PPzK3VKcXXhiGvdlH7uZJr/wGStps15GKi1SqUL6qV/W0n/6VF38/meXf8FC/gN4Q/Z78A6D8b/hVoWm/D7xn4S1i0xJoFstnBdwSPsaOSKMBGyWGTjJUspyDXQftBat5P8AwUC/ZQ8R3UfkWepafqFvGSeBNJAwCZ+s6D8at+NvhP8AHP8AbV8ReG9H+KvgvTfhB8KdGv4tT1DRItci1a/1qVM7Y/MhARIuSDnBG7PzEDb6/wDti/s0337QXgfQpvCuqQ+HfiB4R1GPWPDmpzA+VHOmMxPgEhG2ryAcFFOCMg5wbpcs56pTvbtFxUX9927b6balVEqqlTjpeDi33d7r7tFfbXyPe7+6isbG4uZ3EcEMbSSO3RVAJJ/Kvir/AIJP6Kmofslas1/Zx3Gl634k1OZIbiMOk9uwjiYMp4IJR1I5Bwaf4s1n9rz43eBp/h3efCzw98M31aBrDV/HDeJIbyEQMNszW1pETKjspIXczYz1U/MPqT4L/CfRvgb8LfDfgXQQx0zRbRbdJJAN8zZLSStj+J3ZmOO7U4R5XUlLZpRX33b/AAS17sUpO0Yx3Tu/krJfi9r7Hzv8RP2Z/wBmP9knRdX+M03w40+11DRM3dojXNxMsl2x/cxwW8kjRK5kKhdqfIeRjbkeS6fefEv4J6T4bu7e1sH/AGlf2gNYeSfUNWQvb+H7KJA4hCckiCJ0+Tkbs5DbAD9AfED4PeL/AI8ftQaBceLtJ/s74PeAwmp6XbyXMMn9v6uw+WZ40cssUA6CQKS2eCGOJ/2wPgj428eX3w9+IXwylsZPiB8PtQmvbHTdTfy7fUYJkVJ7cvkBWZUUAkgcnleoiL5VGUtm7WXSF9fRyaV+vKlbVtFy1bjHdJvXrKz5flG/pzN32R563j744/su/GX4b6R8TviDp3xZ8D+PNRXQlvk0KDSbvS75hmLakPyvGx4JYk4B4XA3bH/BVWONv2LPFsjgebDe6dJCxOCr/a4hke+Caz4fh78av2oPjF8PNf8Ain4E074UeCvAd+Nah0eLW4dWvNU1BRiJvMhGyOJDzg4PJHzZyrf2/ZW+LXi74P8AwD0wme/8Ua/FrGrpGcm30q0y0juB0DHO3PUxEdapxc/Zwb1c1b/CnF6+lpPva1wjJU5SmtlF39bS0+furtd6H154ekmm0DTJLldtw9rE0i+jFBkfnWhSKoVQAMAcAUtVKXNJvuY048kIwfRBRRRUmgUUUUAFFFFABRRRQAUUUUAFFFFABRRRQAUUUUAFFFFABRRRQAUUUUAFFFFABRRRQAUUUUAFFFFABRRRQAUUUUAFfKv/AAVH/wCTE/ib/wBwz/06WlfVVfKv/BUf/kxP4m/9wz/06WlAENFFFf5xH76FFFFABRRRQAVl+KJZofDOryW+TcJZzNHjruCHH61qUjKHUqwDKRgg9DVwlyyUmtiovlkmfCf/AASwjj/sP4iS4BuGubJWbPO3bMR+pNfTf7RHx+0T9nnwK2u6pG17fXDmDT9NjYK9zNjOM/woByzYOBjqSAflH9ltm/Zt/a68ZfDPVy1rp+vHbpssnCylWaS2IP8AtRvIv+/x1rpP28/gB8UPjV498NzeENAbWdE0/TSpY39tCEuHlYuNssik/KsXIGPyr9tzfL8DmnGMa2YVVDC1oxqKTkoqUeRWV21u1be9ttT43A1auDyypSpR5qtNyVrX1cr3t2s7+djz74d/A/4k/tu+Krfx58TNQn0nwWrE2lvGpj82InJjtYz9xDgAytknA++QSPff27PC9rof7JN9pmjWUdnpmlzWKRW8IwsUKyqigewyteO2dp+3Fp9rDa20SQW8KLHFFGuhBUUDAUDsABX1F4H8EeKfiT+zv/wi/wAYVZvEWqW1xbamYzbhlzK/lOvkfu9yr5bDHcDPOaedY2rg8dg8wniqEsPQqR5aVCfNyxvdu1lfRay7tbXFl9ONSNSlOnP2lSLTnONlqrWWum+i8vI43/gnvqVvffswaDDC4eSzu7yCZf7rmd5AP++ZFP4184fDtv8AhKv+CmOpXlkN8Fpqt+0jr8wAitpIic+m7A/EUaR+zP8AtOfAXUNa0f4cX4u9C1Bvnu7G8tI1kHID7Lhg0Um3GSnIxwxwDX0B+xr+yXe/An+0/E3iu6hvfGGqxeSUgcyJaRFg7KXP33ZgpYjgbQATyT2YytlmUPNc0o4yFV4uMowhF3kvaO8uZfZ5fPt0ehy06eJxFHD4CdFx5JJyb2sr7PrdM9Y+Jv7OPw3+MWoQX/i7wtbarfwrsW6WWW3lK9lZ4nUsB2DE4ycda+RPGHh7RPjl8WLX4O+A7KHw/wDCLwTI1/4hurAEJPMnEhL9XbgxqzEkne3IUV9Z/tHXXxBHwxv7D4aaNJqnibUP9FW4W7gt/sUbA75gZXXLY4XHIJB7c5f7Nv7PWn/BH4SJ4cuES51fU0M2tXK8+dM64KA/3EB2j8T1Y18Vk+bTyvLXjK2Jc5p8tGnzX5H9qryXtGydoXWsnfZHvYvDRxOIjRjCylrOVteX+VPu+uuiPm7wn8T/ANoL45aHrXiL4ST6J4O8B6AzWOnaNJbwtLOkSBljXfFJ8+woPvRryAOhNfRf7I/x2vP2gPhQut6pbQ2utWN2+n3otwRHJIqowdQc7cq65GeoPbFfPPhn4QftI/s72viTwV8OtN0fxH4S1O4kmttWuZ4Ultd6hN4V5UKvtVMgq65XjPOfob9mb4Mw/sy/BuXTtZ1K3lvDJLqurXqEiCNtihgpIB2KkY5IGcE4GcV7fE/9kSwNRYX2LbnD2Ps9anLZ83tet9vi15rnn4COLWIgpqSa5ue/wf3eTp93Q+adJzZ/8FSrtbQbUkeTzQnQ50zc2fx5+tfoDXwR+xbp9z8ZP2mviH8XpoJE0qOWeKyaQf8ALSZgEUH1SBcH03r619714fHUlTxuGwb+OjQpQl/iSbf5o7so9/6xXj8M6kmvNaK4UUUV+cHvhRRRQAUUUUAeA/t5f8mo+Of+3H/0vt6/S6vzR/by/wCTUfHP/bj/AOl9vX6XV/WXhL/yI63/AF9l/wCkUz8x4n/3yH+FfnIKKKK/az5AKKKKACiiigAr441IC6/4Ku6QLtmAtvhnI9krLxuN44bH4F+fbFfY9fGf7Xz/APCl/wBqD4GfHCbMfh2Oabwh4guf4LeC5DeRI/oqu8jE/wCyPUUR/jU/Vr5yjKK/FpBLWlNeSf8A4DJSf4Jn1p4w8YaL8P8AwxqXiLxHqdvo+iabC093fXT7Y4kHcnuegAHJJAGSa+Gdb8RfEb/gpU8mh+Fre8+HP7On2jZqHiK7XZqXiREb5o7eM/ciLDGTxx8xJBir0L/gpJ8JfiV8bvhf4T8NfD3w3J4rsv7divtc0+PVLew8+2iUlYy8zqCGZu27BVTjirGlfHP9pHQ9MtNO079jyGxsLSJYLe2t/iPpaRxRqAFRVEeAAAAAPSojaTk5rZ6Lpsnd997JbXTvfYqTcUuR7rV/O1l2fVvs1budj+018PNN8GfsO/ETwh4W05bLSdK8IXVtZ2cWTsijgJ69ScKSSeSck8mrf7COqQax+x78Jri2cPGuhQwEj+/HmNx+DIR+Fdh8KvEHjD4oeA9THxO+GqfD29uJZbJ9Ck1qDVluLVo1BkMsICgNuddh5+XPevl34X+A/wBov9i2PVvAngX4f6d8afhm13NeaBM3iGDSb3S1kYsYJvP4cBiT8g5JY7hu2rpzNTqc+8lF331XNo/Xm/BpkcqcIcn2bq22j5dvTl/G6LvxZU6z/wAFWPgtbWo8yTSvCN9d3eORHG4ukUn0yxA/4EK93+M37HPwc/aC1y31nx74GtNb1eCMRLfR3FxaTMg6K7wSIXA7Bs47Yriv2Yv2fPGWjfEvxd8aPi3cafL8SvE8EdjDpelOXtdFsE2kWyOfvMSq7iMjK8E7ia9F/aZuPiQfhPqOnfCjSRqHjHVmXT4L2S6hgj0uOTiS8YyOpby1yQqBm3FTtIBqJJxpQja8lf75SbWu2iaTey16Fp89WUr2Tsvkkltvum0t3ppc+U59A8HfEj4l3OgeH9FttJ/Zv+Aom1LUbSxj/wBH1jXIo2kMXP8ArRAAxYsSWcnduDg1o+Dta/au+O3wrl+Mvh34kaB4Ksb6OXUtD+H7eH4LuKe0Qt5aXF4/7xHkC9V45B+TOF+lvht+zb4a+G37PI+EtkZH0q40yexv70cTXcs6MtxcMf77F2PtwOgFfNHgTQ/2svgt8K3+C2ifDvw74otLGOTTNF+I0mvw29vb2jkhHmsmzM7xqxHyjjaBh8ZYqcyU4Qd5JaPo5O/M3fT+VLm2irdAhytxlJWjfVdVHTlWn/bzlbXmfY+nf2XPjaP2ivgP4S8ftZLp1zqtu4urSMkpFcRSNFKFJ52742IzzgjNeF/8E8iYfFX7S9pCoXTYfiZqRtwpyuS2Gxz6KlepfDnwvof7Dv7JNvY6pqQvNO8HaTPeX14fk+0zlnmkCA9N8rlUHXlR1rkv+CcPgDVvCP7OEGv+IYmh8QeONUuvFd4jghh9pYeXnPrGiN/wOt5crr1ZQ2Ubf+BSi1b5RkYLm9jTUt3K/wAlGS181zRv5vQ+pKKKKyNQooooAKKKKACvlX/gqP8A8mJ/E3/uGf8Ap0tK+qq+Vf8AgqP/AMmJ/E3/ALhn/p0tKAD/AIJcf8mJ/DL/ALif/p0u6+qq+Vf+CXH/ACYn8Mv+4n/6dLuvqqgAooooAKKKKACiiigAooooAKKKKACiiigAooooAKKKKACiiigAooooAKKKKACiiigAooooAKKKKACiiigAooooAKKKKACiiigDzLxh+z/4e8WfGDwr8To73VNC8XeH4ZLQXWkyxouoWjnLWt0rxv5kWckY2spOQwOCPTaKKFouVbf5/wBX9Q3d+oUUUUAFFFFABRRRQAV5l4L/AGf/AA94N+Lni74lNe6nrvi3xGkds95q0kTiwtU+7a2qpGnlxZwSDuZioJYnmvTaKFo+ZbhurdAooooAKKKKACiiigAooooAKKKKACiiigAooooAKKKKACiiigAooooAKKKKACiiigAooooAKKKKACiiigAooooAKKKKACiiigAr5V/4Kj/8mJ/E3/uGf+nS0r6qr5V/4Kj/APJifxN/7hn/AKdLSgCGiiiv84j99CiiigAooooAKKKKAPKPjZ+zX4S+O11ot/rMuo6TrOjyiS01fRZkgukAO4JvZGBUNhhxkEcEZOfULG3e0s4IHuJbt4o1Rrifb5khAxubaAMnqcADngCp6K7auNxFehTw1WbcKd+VPpfe3r2Mo0acajqpe8933tsFFFFcRqFFFFABRRRQAVx3xZ+Gdp8X/BF74W1DVtU0jTr0qLmTSJY45pYwcmMs6ONpOMgAE4xnBIPY0VvQr1MNVjWpO0ou6fZrZkyipRcXszkvhb8L9B+Dvgmw8LeHLdodOtATvlIaWZzy0kjADc5PU4HYAAACutoopVq1TEVZVq0nKUndt7tvqTTpwpQVOCslsFFFFYmgUUUUAFFFFAHgP7eX/JqPjn/tx/8AS+3r9Lq/NH9vL/k1Hxz/ANuP/pfb1+l1f1l4S/8AIjrf9fZf+kUz8x4n/wB8h/hX5yCiiiv2s+QCiiigAooooAK5f4nfDfQPi/4C1vwd4oshf6Fq9ube5hzhgDyrqf4XVgGVuxUHtXUUVMoqS5XsVGTi01ucz8NfA6/DXwLovhePWtV8Qw6Vbraw6hrckcl3JGvCCR440Viq4XO3JAGSTknpqKK0lJybk92RGKirLYKKKKkYUUUUAFFFFAHmnxx+Amg/tBaTouj+KdQ1VfD+n6jFqNxo1jNHHbao0ZDJFdbo2Z4gRnYrLk8nOBj0iONIY0jjRY40AVVUYAA6AD0p9FC0Vl3v89v0B6tN+gUUUUAFFFFABRRRQAV8q/8ABUf/AJMT+Jv/AHDP/TpaV9VV8q/8FR/+TE/ib/3DP/TpaUAH/BLj/kxP4Zf9xP8A9Ol3X1VX8y3hb9oT4p+B9BtdE8N/Evxh4f0W13eRp2l69dW1vDuYu2yNJAq5ZmY4HJYnqa1v+Gsfjf8A9Fk+IH/hUX3/AMdoA/pTor+az/hrH43/APRZPiB/4VF9/wDHaP8AhrH43/8ARZPiB/4VF9/8doA/pTor+az/AIax+N//AEWT4gf+FRff/HaP+Gsfjf8A9Fk+IH/hUX3/AMdoA/pTor+az/hrH43/APRZPiB/4VF9/wDHaP8AhrH43/8ARZPiB/4VF9/8doA/pTor+az/AIax+N//AEWT4gf+FRff/HaP+Gsfjf8A9Fk+IH/hUX3/AMdoA/pTor+az/hrH43/APRZPiB/4VF9/wDHaP8AhrH43/8ARZPiB/4VF9/8doA/pTor+az/AIax+N//AEWT4gf+FRff/HaP+Gsfjf8A9Fk+IH/hUX3/AMdoA/pTor+az/hrH43/APRZPiB/4VF9/wDHaP8AhrH43/8ARZPiB/4VF9/8doA/pTor+az/AIax+N//AEWT4gf+FRff/HaP+Gsfjf8A9Fk+IH/hUX3/AMdoA/pTor+az/hrH43/APRZPiB/4VF9/wDHaP8AhrH43/8ARZPiB/4VF9/8doA/pTor+az/AIax+N//AEWT4gf+FRff/HaP+Gsfjf8A9Fk+IH/hUX3/AMdoA/pTor+az/hrH43/APRZPiB/4VF9/wDHaP8AhrH43/8ARZPiB/4VF9/8doA/pTor+az/AIax+N//AEWT4gf+FRff/HaP+Gsfjf8A9Fk+IH/hUX3/AMdoA/pTor+az/hrH43/APRZPiB/4VF9/wDHaP8AhrH43/8ARZPiB/4VF9/8doA/pTor+az/AIax+N//AEWT4gf+FRff/HaP+Gsfjf8A9Fk+IH/hUX3/AMdoA/pTor+az/hrH43/APRZPiB/4VF9/wDHaP8AhrH43/8ARZPiB/4VF9/8doA/pTor+az/AIax+N//AEWT4gf+FRff/HaP+Gsfjf8A9Fk+IH/hUX3/AMdoA/pTor+az/hrH43/APRZPiB/4VF9/wDHaP8AhrH43/8ARZPiB/4VF9/8doA/pTor+az/AIax+N//AEWT4gf+FRff/HaP+Gsfjf8A9Fk+IH/hUX3/AMdoA/pTor+az/hrH43/APRZPiB/4VF9/wDHaP8AhrH43/8ARZPiB/4VF9/8doA/pTor+az/AIax+N//AEWT4gf+FRff/HaP+Gsfjf8A9Fk+IH/hUX3/AMdoA/pTor+az/hrH43/APRZPiB/4VF9/wDHaP8AhrH43/8ARZPiB/4VF9/8doA/pTor+az/AIax+N//AEWT4gf+FRff/HaP+Gsfjf8A9Fk+IH/hUX3/AMdoA/pTor+az/hrH43/APRZPiB/4VF9/wDHaP8AhrH43/8ARZPiB/4VF9/8doA/pTor+az/AIax+N//AEWT4gf+FRff/HaP+Gsfjf8A9Fk+IH/hUX3/AMdoA/pTor+az/hrH43/APRZPiB/4VF9/wDHaP8AhrH43/8ARZPiB/4VF9/8doA/pTor+az/AIax+N//AEWT4gf+FRff/HaP+Gsfjf8A9Fk+IH/hUX3/AMdoA/pTor+az/hrH43/APRZPiB/4VF9/wDHaP8AhrH43/8ARZPiB/4VF9/8doA/pTor+az/AIax+N//AEWT4gf+FRff/HaP+Gsfjf8A9Fk+IH/hUX3/AMdoA/pTor+az/hrH43/APRZPiB/4VF9/wDHaP8AhrH43/8ARZPiB/4VF9/8doA/pTor+az/AIax+N//AEWT4gf+FRff/HaP+Gsfjf8A9Fk+IH/hUX3/AMdoA/pTor+az/hrH43/APRZPiB/4VF9/wDHaP8AhrH43/8ARZPiB/4VF9/8doA/pTor+az/AIax+N//AEWT4gf+FRff/HaP+Gsfjf8A9Fk+IH/hUX3/AMdoA/pTor+az/hrH43/APRZPiB/4VF9/wDHaP8AhrH43/8ARZPiB/4VF9/8doA/pTor+az/AIax+N//AEWT4gf+FRff/HaP+Gsfjf8A9Fk+IH/hUX3/AMdoA/pTor+az/hrH43/APRZPiB/4VF9/wDHaP8AhrH43/8ARZPiB/4VF9/8doA/pTor+az/AIax+N//AEWT4gf+FRff/HaP+Gsfjf8A9Fk+IH/hUX3/AMdoA/pTor+az/hrH43/APRZPiB/4VF9/wDHaP8AhrH43/8ARZPiB/4VF9/8doA/pTor+az/AIax+N//AEWT4gf+FRff/HaP+Gsfjf8A9Fk+IH/hUX3/AMdoA/pTor+az/hrH43/APRZPiB/4VF9/wDHaP8AhrH43/8ARZPiB/4VF9/8doA/pTor+az/AIax+N//AEWT4gf+FRff/HaP+Gsfjf8A9Fk+IH/hUX3/AMdoA/pTor+az/hrH43/APRZPiB/4VF9/wDHaP8AhrH43/8ARZPiB/4VF9/8doA/pTr5V/4Kj/8AJifxN/7hn/p0tK/Fb/hrH43/APRZPiB/4VF9/wDHayfFP7QnxT8caDdaJ4k+JfjDxBot1t8/TtU166ubebawdd8byFWwyqwyOCoPUUAftzRX4jf8NB/FL/opXi//AMH11/8AHKP+Gg/il/0Urxf/AOD66/8Ajlfy/wD8Qix3/QVD7mfo/wDrTR/59P70ftzRX4jf8NB/FL/opXi//wAH11/8co/4aD+KX/RSvF//AIPrr/45R/xCLHf9BUPuYf600f8An0/vR+3NFfiN/wANB/FL/opXi/8A8H11/wDHKP8AhoP4pf8ARSvF/wD4Prr/AOOUf8Qix3/QVD7mH+tNH/n0/vR+3NFfiN/w0H8Uv+ileL//AAfXX/xyj/hoP4pf9FK8X/8Ag+uv/jlH/EIsd/0FQ+5h/rTR/wCfT+9H7c0V+I3/AA0H8Uv+ileL/wDwfXX/AMco/wCGg/il/wBFK8X/APg+uv8A45R/xCLHf9BUPuYf600f+fT+9H7c0V+I3/DQfxS/6KV4v/8AB9df/HKP+Gg/il/0Urxf/wCD66/+OUf8Qix3/QVD7mH+tNH/AJ9P70ftzRX4jf8ADQfxS/6KV4v/APB9df8Axyj/AIaD+KX/AEUrxf8A+D66/wDjlH/EIsd/0FQ+5h/rTR/59P70ftzRX4jf8NB/FL/opXi//wAH11/8co/4aD+KX/RSvF//AIPrr/45R/xCLHf9BUPuYf600f8An0/vR+3NFfiN/wANB/FL/opXi/8A8H11/wDHKP8AhoP4pf8ARSvF/wD4Prr/AOOUf8Qix3/QVD7mH+tNH/n0/vR+3NFfiN/w0H8Uv+ileL//AAfXX/xyj/hoP4pf9FK8X/8Ag+uv/jlH/EIsd/0FQ+5h/rTR/wCfT+9H7c0V+I3/AA0H8Uv+ileL/wDwfXX/AMco/wCGg/il/wBFK8X/APg+uv8A45R/xCLHf9BUPuYf600f+fT+9H7c0V+I3/DQfxS/6KV4v/8AB9df/HKP+Gg/il/0Urxf/wCD66/+OUf8Qix3/QVD7mH+tNH/AJ9P70ftzRX4jf8ADQfxS/6KV4v/APB9df8Axyj/AIaD+KX/AEUrxf8A+D66/wDjlH/EIsd/0FQ+5h/rTR/59P70fp3+3l/yaj45/wC3H/0vt6/S6v5hte+MXj7xVpM+l61448Saxpk+3zrK/wBWuJ4ZNrBl3I7lThlBGRwQDXTf8NY/G/8A6LJ8QP8AwqL7/wCO1+ycG8OVeGMvng61RTcpuV0mt4xVtf8ACfJZtmEcxrqrCNrK34t/qf0p0V/NZ/w1j8b/APosnxA/8Ki+/wDjtH/DWPxv/wCiyfED/wAKi+/+O194eKf0p0V/NZ/w1j8b/wDosnxA/wDCovv/AI7R/wANY/G//osnxA/8Ki+/+O0Af0p0V/NZ/wANY/G//osnxA/8Ki+/+O0f8NY/G/8A6LJ8QP8AwqL7/wCO0Af0p0V/NZ/w1j8b/wDosnxA/wDCovv/AI7R/wANY/G//osnxA/8Ki+/+O0Af0p0V/NZ/wANY/G//osnxA/8Ki+/+O0f8NY/G/8A6LJ8QP8AwqL7/wCO0Af0p0V/NZ/w1j8b/wDosnxA/wDCovv/AI7R/wANY/G//osnxA/8Ki+/+O0Af0p0V/NZ/wANY/G//osnxA/8Ki+/+O0f8NY/G/8A6LJ8QP8AwqL7/wCO0Af0p0V/NZ/w1j8b/wDosnxA/wDCovv/AI7R/wANY/G//osnxA/8Ki+/+O0Af0p0V/NZ/wANY/G//osnxA/8Ki+/+O0f8NY/G/8A6LJ8QP8AwqL7/wCO0Af0p0V/NZ/w1j8b/wDosnxA/wDCovv/AI7R/wANY/G//osnxA/8Ki+/+O0Af0p0V/NZ/wANY/G//osnxA/8Ki+/+O0f8NY/G/8A6LJ8QP8AwqL7/wCO0Af0p0V/NZ/w1j8b/wDosnxA/wDCovv/AI7R/wANY/G//osnxA/8Ki+/+O0Af0p18q/8FR/+TE/ib/3DP/TpaV+K3/DWPxv/AOiyfED/AMKi+/8AjtZPin9oT4p+ONButE8SfEvxh4g0W62+fp2qa9dXNvNtYOu+N5CrYZVYZHBUHqKAP//Z)"
      ]
    },
    {
      "cell_type": "markdown",
      "metadata": {
        "id": "dVNF7yZjyvoO"
      },
      "source": [
        "## 검증 세트 준비\n"
      ]
    },
    {
      "cell_type": "markdown",
      "metadata": {
        "id": "tjJi6sU9uzDu"
      },
      "source": [
        "### 데이터 읽어오기\n",
        "- 와인데이터 : https://bit.ly/wine-date\n"
      ]
    },
    {
      "cell_type": "code",
      "execution_count": 22,
      "metadata": {
        "id": "banlvMA6RfnM",
        "colab": {
          "base_uri": "https://localhost:8080/",
          "height": 423
        },
        "outputId": "344d4d20-a5a5-4ef6-fdb8-f8706765afb2"
      },
      "outputs": [
        {
          "output_type": "execute_result",
          "data": {
            "text/plain": [
              "      alcohol  sugar    pH  class\n",
              "0         9.4    1.9  3.51    0.0\n",
              "1         9.8    2.6  3.20    0.0\n",
              "2         9.8    2.3  3.26    0.0\n",
              "3         9.8    1.9  3.16    0.0\n",
              "4         9.4    1.9  3.51    0.0\n",
              "...       ...    ...   ...    ...\n",
              "6492     11.2    1.6  3.27    1.0\n",
              "6493      9.6    8.0  3.15    1.0\n",
              "6494      9.4    1.2  2.99    1.0\n",
              "6495     12.8    1.1  3.34    1.0\n",
              "6496     11.8    0.8  3.26    1.0\n",
              "\n",
              "[6497 rows x 4 columns]"
            ],
            "text/html": [
              "\n",
              "  <div id=\"df-087ec899-5ccc-4752-a6b9-9b7ff84a3795\">\n",
              "    <div class=\"colab-df-container\">\n",
              "      <div>\n",
              "<style scoped>\n",
              "    .dataframe tbody tr th:only-of-type {\n",
              "        vertical-align: middle;\n",
              "    }\n",
              "\n",
              "    .dataframe tbody tr th {\n",
              "        vertical-align: top;\n",
              "    }\n",
              "\n",
              "    .dataframe thead th {\n",
              "        text-align: right;\n",
              "    }\n",
              "</style>\n",
              "<table border=\"1\" class=\"dataframe\">\n",
              "  <thead>\n",
              "    <tr style=\"text-align: right;\">\n",
              "      <th></th>\n",
              "      <th>alcohol</th>\n",
              "      <th>sugar</th>\n",
              "      <th>pH</th>\n",
              "      <th>class</th>\n",
              "    </tr>\n",
              "  </thead>\n",
              "  <tbody>\n",
              "    <tr>\n",
              "      <th>0</th>\n",
              "      <td>9.4</td>\n",
              "      <td>1.9</td>\n",
              "      <td>3.51</td>\n",
              "      <td>0.0</td>\n",
              "    </tr>\n",
              "    <tr>\n",
              "      <th>1</th>\n",
              "      <td>9.8</td>\n",
              "      <td>2.6</td>\n",
              "      <td>3.20</td>\n",
              "      <td>0.0</td>\n",
              "    </tr>\n",
              "    <tr>\n",
              "      <th>2</th>\n",
              "      <td>9.8</td>\n",
              "      <td>2.3</td>\n",
              "      <td>3.26</td>\n",
              "      <td>0.0</td>\n",
              "    </tr>\n",
              "    <tr>\n",
              "      <th>3</th>\n",
              "      <td>9.8</td>\n",
              "      <td>1.9</td>\n",
              "      <td>3.16</td>\n",
              "      <td>0.0</td>\n",
              "    </tr>\n",
              "    <tr>\n",
              "      <th>4</th>\n",
              "      <td>9.4</td>\n",
              "      <td>1.9</td>\n",
              "      <td>3.51</td>\n",
              "      <td>0.0</td>\n",
              "    </tr>\n",
              "    <tr>\n",
              "      <th>...</th>\n",
              "      <td>...</td>\n",
              "      <td>...</td>\n",
              "      <td>...</td>\n",
              "      <td>...</td>\n",
              "    </tr>\n",
              "    <tr>\n",
              "      <th>6492</th>\n",
              "      <td>11.2</td>\n",
              "      <td>1.6</td>\n",
              "      <td>3.27</td>\n",
              "      <td>1.0</td>\n",
              "    </tr>\n",
              "    <tr>\n",
              "      <th>6493</th>\n",
              "      <td>9.6</td>\n",
              "      <td>8.0</td>\n",
              "      <td>3.15</td>\n",
              "      <td>1.0</td>\n",
              "    </tr>\n",
              "    <tr>\n",
              "      <th>6494</th>\n",
              "      <td>9.4</td>\n",
              "      <td>1.2</td>\n",
              "      <td>2.99</td>\n",
              "      <td>1.0</td>\n",
              "    </tr>\n",
              "    <tr>\n",
              "      <th>6495</th>\n",
              "      <td>12.8</td>\n",
              "      <td>1.1</td>\n",
              "      <td>3.34</td>\n",
              "      <td>1.0</td>\n",
              "    </tr>\n",
              "    <tr>\n",
              "      <th>6496</th>\n",
              "      <td>11.8</td>\n",
              "      <td>0.8</td>\n",
              "      <td>3.26</td>\n",
              "      <td>1.0</td>\n",
              "    </tr>\n",
              "  </tbody>\n",
              "</table>\n",
              "<p>6497 rows × 4 columns</p>\n",
              "</div>\n",
              "      <button class=\"colab-df-convert\" onclick=\"convertToInteractive('df-087ec899-5ccc-4752-a6b9-9b7ff84a3795')\"\n",
              "              title=\"Convert this dataframe to an interactive table.\"\n",
              "              style=\"display:none;\">\n",
              "        \n",
              "  <svg xmlns=\"http://www.w3.org/2000/svg\" height=\"24px\"viewBox=\"0 0 24 24\"\n",
              "       width=\"24px\">\n",
              "    <path d=\"M0 0h24v24H0V0z\" fill=\"none\"/>\n",
              "    <path d=\"M18.56 5.44l.94 2.06.94-2.06 2.06-.94-2.06-.94-.94-2.06-.94 2.06-2.06.94zm-11 1L8.5 8.5l.94-2.06 2.06-.94-2.06-.94L8.5 2.5l-.94 2.06-2.06.94zm10 10l.94 2.06.94-2.06 2.06-.94-2.06-.94-.94-2.06-.94 2.06-2.06.94z\"/><path d=\"M17.41 7.96l-1.37-1.37c-.4-.4-.92-.59-1.43-.59-.52 0-1.04.2-1.43.59L10.3 9.45l-7.72 7.72c-.78.78-.78 2.05 0 2.83L4 21.41c.39.39.9.59 1.41.59.51 0 1.02-.2 1.41-.59l7.78-7.78 2.81-2.81c.8-.78.8-2.07 0-2.86zM5.41 20L4 18.59l7.72-7.72 1.47 1.35L5.41 20z\"/>\n",
              "  </svg>\n",
              "      </button>\n",
              "      \n",
              "  <style>\n",
              "    .colab-df-container {\n",
              "      display:flex;\n",
              "      flex-wrap:wrap;\n",
              "      gap: 12px;\n",
              "    }\n",
              "\n",
              "    .colab-df-convert {\n",
              "      background-color: #E8F0FE;\n",
              "      border: none;\n",
              "      border-radius: 50%;\n",
              "      cursor: pointer;\n",
              "      display: none;\n",
              "      fill: #1967D2;\n",
              "      height: 32px;\n",
              "      padding: 0 0 0 0;\n",
              "      width: 32px;\n",
              "    }\n",
              "\n",
              "    .colab-df-convert:hover {\n",
              "      background-color: #E2EBFA;\n",
              "      box-shadow: 0px 1px 2px rgba(60, 64, 67, 0.3), 0px 1px 3px 1px rgba(60, 64, 67, 0.15);\n",
              "      fill: #174EA6;\n",
              "    }\n",
              "\n",
              "    [theme=dark] .colab-df-convert {\n",
              "      background-color: #3B4455;\n",
              "      fill: #D2E3FC;\n",
              "    }\n",
              "\n",
              "    [theme=dark] .colab-df-convert:hover {\n",
              "      background-color: #434B5C;\n",
              "      box-shadow: 0px 1px 3px 1px rgba(0, 0, 0, 0.15);\n",
              "      filter: drop-shadow(0px 1px 2px rgba(0, 0, 0, 0.3));\n",
              "      fill: #FFFFFF;\n",
              "    }\n",
              "  </style>\n",
              "\n",
              "      <script>\n",
              "        const buttonEl =\n",
              "          document.querySelector('#df-087ec899-5ccc-4752-a6b9-9b7ff84a3795 button.colab-df-convert');\n",
              "        buttonEl.style.display =\n",
              "          google.colab.kernel.accessAllowed ? 'block' : 'none';\n",
              "\n",
              "        async function convertToInteractive(key) {\n",
              "          const element = document.querySelector('#df-087ec899-5ccc-4752-a6b9-9b7ff84a3795');\n",
              "          const dataTable =\n",
              "            await google.colab.kernel.invokeFunction('convertToInteractive',\n",
              "                                                     [key], {});\n",
              "          if (!dataTable) return;\n",
              "\n",
              "          const docLinkHtml = 'Like what you see? Visit the ' +\n",
              "            '<a target=\"_blank\" href=https://colab.research.google.com/notebooks/data_table.ipynb>data table notebook</a>'\n",
              "            + ' to learn more about interactive tables.';\n",
              "          element.innerHTML = '';\n",
              "          dataTable['output_type'] = 'display_data';\n",
              "          await google.colab.output.renderOutput(dataTable, element);\n",
              "          const docLink = document.createElement('div');\n",
              "          docLink.innerHTML = docLinkHtml;\n",
              "          element.appendChild(docLink);\n",
              "        }\n",
              "      </script>\n",
              "    </div>\n",
              "  </div>\n",
              "  "
            ]
          },
          "metadata": {},
          "execution_count": 22
        }
      ],
      "source": [
        "import pandas as pd\n",
        "\n",
        "wine = pd.read_csv('https://bit.ly/wine-date')"
      ]
    },
    {
      "cell_type": "markdown",
      "metadata": {
        "id": "uPhTR7IDuzDv"
      },
      "source": [
        "### Data와 Target 분리"
      ]
    },
    {
      "cell_type": "code",
      "execution_count": 14,
      "metadata": {
        "id": "abR6QA7qRoKl"
      },
      "outputs": [],
      "source": [
        "data = wine[['alcohol', 'sugar', 'pH']].to_numpy()\n",
        "target = wine['class'].to_numpy()"
      ]
    },
    {
      "cell_type": "markdown",
      "metadata": {
        "id": "5Yg-_HFCuzDw"
      },
      "source": [
        "### Train Data와 Test Data 분리\n",
        "- train_test_split"
      ]
    },
    {
      "cell_type": "code",
      "execution_count": 15,
      "metadata": {
        "id": "auLnVXyMRoeb"
      },
      "outputs": [],
      "source": [
        "from sklearn.model_selection import train_test_split\n",
        "\n",
        "train_input, test_input, train_target, test_target = train_test_split(\n",
        "    data, target, test_size=0.2, random_state=42)"
      ]
    },
    {
      "cell_type": "markdown",
      "metadata": {
        "id": "uPvb4tRFuzDw"
      },
      "source": [
        "### 검증 세트 준비"
      ]
    },
    {
      "cell_type": "code",
      "execution_count": 16,
      "metadata": {
        "id": "E-yV4cCXRqNK"
      },
      "outputs": [],
      "source": [
        "sub_input, val_input, sub_target, val_target = train_test_split(\n",
        "    train_input, train_target, test_size=0.2, random_state=42)"
      ]
    },
    {
      "cell_type": "markdown",
      "metadata": {
        "id": "87gx6dbouzDw"
      },
      "source": [
        "### 검증 세트 확인"
      ]
    },
    {
      "cell_type": "code",
      "execution_count": 17,
      "metadata": {
        "colab": {
          "base_uri": "https://localhost:8080/"
        },
        "id": "k29hKbw4R7Ki",
        "outputId": "4a213298-2391-455e-9cfc-5fb27758b9e6"
      },
      "outputs": [
        {
          "output_type": "stream",
          "name": "stdout",
          "text": [
            "(4157, 3) (1040, 3)\n"
          ]
        }
      ],
      "source": [
        "print(sub_input.shape, val_input.shape)"
      ]
    },
    {
      "cell_type": "markdown",
      "metadata": {
        "id": "tXY0ZQdLuzDx"
      },
      "source": [
        "### 모델 생성 후 평가"
      ]
    },
    {
      "cell_type": "code",
      "execution_count": 18,
      "metadata": {
        "colab": {
          "base_uri": "https://localhost:8080/"
        },
        "id": "4VQz-UZ2SeLq",
        "outputId": "20b30476-1dcc-45b4-86d3-951d40968e4d"
      },
      "outputs": [
        {
          "output_type": "stream",
          "name": "stdout",
          "text": [
            "0.9971133028626413\n",
            "0.864423076923077\n"
          ]
        }
      ],
      "source": [
        "from sklearn.tree import DecisionTreeClassifier\n",
        "\n",
        "dt = DecisionTreeClassifier(random_state=42)\n",
        "dt.fit(sub_input, sub_target)\n",
        "\n",
        "print(dt.score(sub_input, sub_target))\n",
        "print(dt.score(val_input, val_target))"
      ]
    },
    {
      "cell_type": "markdown",
      "metadata": {
        "id": "Z4gRXnK6y2Pt"
      },
      "source": [
        "## 교차 검증\n",
        "- 검증세트를 떼어내어 평가과정을 반복한 후, 평균을 내어 최종 검증점수 획득\n",
        "![그림3.jpg](data:image/jpeg;base64,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)"
      ]
    },
    {
      "cell_type": "markdown",
      "source": [
        "### cross_validate 활용"
      ],
      "metadata": {
        "id": "hsdfj9zc2WV5"
      }
    },
    {
      "cell_type": "code",
      "execution_count": null,
      "metadata": {
        "colab": {
          "base_uri": "https://localhost:8080/",
          "height": 54
        },
        "id": "_J3LId-vSmNH",
        "outputId": "7dc8c4d5-0e0f-48a5-86bd-9d703e0bfaf2"
      },
      "outputs": [
        {
          "name": "stdout",
          "output_type": "stream",
          "text": [
            "{'fit_time': array([0.0074594 , 0.00722861, 0.00759482, 0.00742745, 0.0070498 ]), 'score_time': array([0.00114989, 0.00075364, 0.00071621, 0.00071669, 0.0007081 ]), 'test_score': array([0.86923077, 0.84615385, 0.87680462, 0.84889317, 0.83541867])}\n"
          ]
        }
      ],
      "source": [
        "from sklearn.model_selection import cross_validate\n",
        "\n",
        "scores = cross_validate(dt, train_input, train_target)\n",
        "print(scores)"
      ]
    },
    {
      "cell_type": "markdown",
      "metadata": {
        "id": "tg3gZa8RuzDy"
      },
      "source": [
        "### test_score 평균값 도출"
      ]
    },
    {
      "cell_type": "code",
      "execution_count": null,
      "metadata": {
        "colab": {
          "base_uri": "https://localhost:8080/",
          "height": 34
        },
        "id": "Yp3aagOoTHsO",
        "outputId": "29c0fe86-99df-4d00-96ec-e6c0f6815b0c"
      },
      "outputs": [
        {
          "name": "stdout",
          "output_type": "stream",
          "text": [
            "0.855300214703487\n"
          ]
        }
      ],
      "source": [
        "import numpy as np\n",
        "\n",
        "print(np.mean(scores['test_score']))"
      ]
    },
    {
      "cell_type": "markdown",
      "metadata": {
        "id": "maTZWXjRuzDy"
      },
      "source": [
        "### K-폴드 교차 검증기를 사용하는 경우"
      ]
    },
    {
      "cell_type": "code",
      "execution_count": null,
      "metadata": {
        "colab": {
          "base_uri": "https://localhost:8080/",
          "height": 34
        },
        "id": "0tQyaG0576Vn",
        "outputId": "af8b2ceb-e7d9-45f3-fef4-04d851137ea5"
      },
      "outputs": [
        {
          "name": "stdout",
          "output_type": "stream",
          "text": [
            "0.855300214703487\n"
          ]
        }
      ],
      "source": [
        "from sklearn.model_selection import StratifiedKFold\n",
        "\n",
        "scores = cross_validate(dt, train_input, train_target, cv=StratifiedKFold())\n",
        "print(np.mean(scores['test_score']))"
      ]
    },
    {
      "cell_type": "markdown",
      "metadata": {
        "id": "ua-PdUWYuzDz"
      },
      "source": [
        "### 10-폴드 교차 검증의 경우"
      ]
    },
    {
      "cell_type": "code",
      "execution_count": null,
      "metadata": {
        "colab": {
          "base_uri": "https://localhost:8080/",
          "height": 34
        },
        "id": "1BmP_OTT_agM",
        "outputId": "01168ae1-3c6e-4a0a-8527-3b241d889e04"
      },
      "outputs": [
        {
          "name": "stdout",
          "output_type": "stream",
          "text": [
            "0.8574181117533719\n"
          ]
        }
      ],
      "source": [
        "splitter = StratifiedKFold(n_splits=10, shuffle=True, random_state=42)\n",
        "scores = cross_validate(dt, train_input, train_target, cv=splitter)\n",
        "print(np.mean(scores['test_score']))"
      ]
    },
    {
      "cell_type": "markdown",
      "metadata": {
        "id": "Q21W8RsqDsDV"
      },
      "source": [
        "## 하이퍼파라미터 튜닝\n",
        "- 결정트리의 매개변수 값을 바꿔가며 가장 좋은 성능의 모델을 찾는 과정"
      ]
    },
    {
      "cell_type": "markdown",
      "metadata": {
        "id": "RuzRj125uzDz"
      },
      "source": [
        "### 파라미터 생성\n",
        " - min_impurity_decrease : 노드의 정보이득x(노드의 샘플 수)/(전체 샘플 수)"
      ]
    },
    {
      "cell_type": "code",
      "execution_count": null,
      "metadata": {
        "id": "S8pqss8onjR5"
      },
      "outputs": [],
      "source": [
        "from sklearn.model_selection import GridSearchCV\n",
        "\n",
        "params = {'min_impurity_decrease': [0.0001, 0.0002, 0.0003, 0.0004, 0.0005]}"
      ]
    },
    {
      "cell_type": "markdown",
      "metadata": {
        "id": "l8YA7PXfuzD0"
      },
      "source": [
        "### GridSearchCV 사용하여 학습\n",
        "- 매개변수 : Decision Tree, parameter, n_jobs"
      ]
    },
    {
      "cell_type": "code",
      "execution_count": null,
      "metadata": {
        "id": "79MymJqxTu0P"
      },
      "outputs": [],
      "source": [
        "gs = GridSearchCV(DecisionTreeClassifier(random_state=42), params, n_jobs=-1)"
      ]
    },
    {
      "cell_type": "code",
      "execution_count": null,
      "metadata": {
        "colab": {
          "base_uri": "https://localhost:8080/",
          "height": 319
        },
        "id": "tKAlTabkU-Lz",
        "outputId": "fd799fa9-44f0-4d6d-de1f-fd194fad9d23"
      },
      "outputs": [
        {
          "data": {
            "text/plain": [
              "GridSearchCV(cv=None, error_score=nan,\n",
              "             estimator=DecisionTreeClassifier(ccp_alpha=0.0, class_weight=None,\n",
              "                                              criterion='gini', max_depth=None,\n",
              "                                              max_features=None,\n",
              "                                              max_leaf_nodes=None,\n",
              "                                              min_impurity_decrease=0.0,\n",
              "                                              min_impurity_split=None,\n",
              "                                              min_samples_leaf=1,\n",
              "                                              min_samples_split=2,\n",
              "                                              min_weight_fraction_leaf=0.0,\n",
              "                                              presort='deprecated',\n",
              "                                              random_state=42,\n",
              "                                              splitter='best'),\n",
              "             iid='deprecated', n_jobs=-1,\n",
              "             param_grid={'min_impurity_decrease': [0.0001, 0.0002, 0.0003,\n",
              "                                                   0.0004, 0.0005]},\n",
              "             pre_dispatch='2*n_jobs', refit=True, return_train_score=False,\n",
              "             scoring=None, verbose=0)"
            ]
          },
          "execution_count": 13,
          "metadata": {
            "tags": []
          },
          "output_type": "execute_result"
        }
      ],
      "source": [
        "gs.fit(train_input, train_target)"
      ]
    },
    {
      "cell_type": "markdown",
      "metadata": {
        "id": "Ut_mYmxluzD0"
      },
      "source": [
        "### 모델 평가\n",
        "- best_estimator_ 파라미터에 의해 모델 추출\n",
        "- score(train_input, train_target)"
      ]
    },
    {
      "cell_type": "code",
      "execution_count": null,
      "metadata": {
        "colab": {
          "base_uri": "https://localhost:8080/",
          "height": 34
        },
        "id": "q6iX3vH-VeEb",
        "outputId": "b7190213-d2c6-4d85-fc32-726b85ac74d5"
      },
      "outputs": [
        {
          "name": "stdout",
          "output_type": "stream",
          "text": [
            "0.9615162593804117\n"
          ]
        }
      ],
      "source": [
        "dt = gs.best_estimator_\n",
        "print(dt.score(train_input, train_target))"
      ]
    },
    {
      "cell_type": "markdown",
      "metadata": {
        "id": "VMCaZg-suzD1"
      },
      "source": [
        "### 최고 파라미터 확인\n",
        "- best_params_"
      ]
    },
    {
      "cell_type": "code",
      "execution_count": null,
      "metadata": {
        "colab": {
          "base_uri": "https://localhost:8080/",
          "height": 34
        },
        "id": "lIzod3BwVHq-",
        "outputId": "f36512fd-b642-43fc-ad8c-5b83604c0874"
      },
      "outputs": [
        {
          "name": "stdout",
          "output_type": "stream",
          "text": [
            "{'min_impurity_decrease': 0.0001}\n"
          ]
        }
      ],
      "source": [
        "print(gs.best_params_)"
      ]
    },
    {
      "cell_type": "code",
      "execution_count": null,
      "metadata": {
        "colab": {
          "base_uri": "https://localhost:8080/",
          "height": 34
        },
        "id": "0xfQswiui4Tr",
        "outputId": "871142d1-f6e6-4380-953a-1273966d9214"
      },
      "outputs": [
        {
          "name": "stdout",
          "output_type": "stream",
          "text": [
            "[0.86819297 0.86453617 0.86492226 0.86780891 0.86761605]\n"
          ]
        }
      ],
      "source": [
        "print(gs.cv_results_['mean_test_score'])"
      ]
    },
    {
      "cell_type": "code",
      "execution_count": null,
      "metadata": {
        "colab": {
          "base_uri": "https://localhost:8080/",
          "height": 34
        },
        "id": "Rwg2aSyEVO17",
        "outputId": "8a4b8fd0-a3b3-47a3-c6a8-1ac726e741fd"
      },
      "outputs": [
        {
          "name": "stdout",
          "output_type": "stream",
          "text": [
            "{'min_impurity_decrease': 0.0001}\n"
          ]
        }
      ],
      "source": [
        "best_index = np.argmax(gs.cv_results_['mean_test_score'])\n",
        "print(gs.cv_results_['params'][best_index])"
      ]
    },
    {
      "cell_type": "code",
      "execution_count": null,
      "metadata": {
        "id": "8jHxZ7XmVU11"
      },
      "outputs": [],
      "source": [
        "params = {'min_impurity_decrease': np.arange(0.0001, 0.001, 0.0001),\n",
        "          'max_depth': range(5, 20, 1),\n",
        "          'min_samples_split': range(2, 100, 10)\n",
        "          }"
      ]
    },
    {
      "cell_type": "code",
      "execution_count": null,
      "metadata": {
        "colab": {
          "base_uri": "https://localhost:8080/",
          "height": 373
        },
        "id": "KnP3GA6MVsVH",
        "outputId": "a4eeaaa1-be8a-4f83-c605-be4fa5333d95"
      },
      "outputs": [
        {
          "data": {
            "text/plain": [
              "GridSearchCV(cv=None, error_score=nan,\n",
              "             estimator=DecisionTreeClassifier(ccp_alpha=0.0, class_weight=None,\n",
              "                                              criterion='gini', max_depth=None,\n",
              "                                              max_features=None,\n",
              "                                              max_leaf_nodes=None,\n",
              "                                              min_impurity_decrease=0.0,\n",
              "                                              min_impurity_split=None,\n",
              "                                              min_samples_leaf=1,\n",
              "                                              min_samples_split=2,\n",
              "                                              min_weight_fraction_leaf=0.0,\n",
              "                                              presort='deprecated',\n",
              "                                              random_state=42,\n",
              "                                              splitter='best'),\n",
              "             iid='deprecated', n_jobs=-1,\n",
              "             param_grid={'max_depth': range(5, 20),\n",
              "                         'min_impurity_decrease': array([0.0001, 0.0002, 0.0003, 0.0004, 0.0005, 0.0006, 0.0007, 0.0008,\n",
              "       0.0009]),\n",
              "                         'min_samples_split': range(2, 100, 10)},\n",
              "             pre_dispatch='2*n_jobs', refit=True, return_train_score=False,\n",
              "             scoring=None, verbose=0)"
            ]
          },
          "execution_count": 19,
          "metadata": {
            "tags": []
          },
          "output_type": "execute_result"
        }
      ],
      "source": [
        "gs = GridSearchCV(DecisionTreeClassifier(random_state=42), params, n_jobs=-1)\n",
        "gs.fit(train_input, train_target)"
      ]
    },
    {
      "cell_type": "code",
      "execution_count": null,
      "metadata": {
        "colab": {
          "base_uri": "https://localhost:8080/",
          "height": 34
        },
        "id": "qi9-O_VGV0Ho",
        "outputId": "e3d3da00-bd1e-4b8f-e681-e42e49868aaa"
      },
      "outputs": [
        {
          "name": "stdout",
          "output_type": "stream",
          "text": [
            "{'max_depth': 14, 'min_impurity_decrease': 0.0004, 'min_samples_split': 12}\n"
          ]
        }
      ],
      "source": [
        "print(gs.best_params_)"
      ]
    },
    {
      "cell_type": "code",
      "execution_count": null,
      "metadata": {
        "colab": {
          "base_uri": "https://localhost:8080/",
          "height": 34
        },
        "id": "ZnJjLATAV2Sq",
        "outputId": "e0c66e0a-b0ff-492f-c2c3-264f1e85c946"
      },
      "outputs": [
        {
          "name": "stdout",
          "output_type": "stream",
          "text": [
            "0.8683865773302731\n"
          ]
        }
      ],
      "source": [
        "print(np.max(gs.cv_results_['mean_test_score']))"
      ]
    },
    {
      "cell_type": "markdown",
      "metadata": {
        "id": "d0k9DQTNlaD6"
      },
      "source": [
        "## 랜덤 서치\n",
        "- 연속된 매개변수 값을 자동으로 탐색하는 과정\n",
        "- 지정된 획수만큼 샘플링하여 교차검증 수행\n",
        "- 시스템 자원이 허락하는 만큼 탐색량 조절 가능"
      ]
    },
    {
      "cell_type": "markdown",
      "metadata": {
        "id": "L2eGvj7NuzEF"
      },
      "source": [
        "#### randint 와 uniform 테스트"
      ]
    },
    {
      "cell_type": "code",
      "execution_count": null,
      "metadata": {
        "id": "_T9KTEk1GBcY"
      },
      "outputs": [],
      "source": [
        "from scipy.stats import uniform, randint"
      ]
    },
    {
      "cell_type": "code",
      "execution_count": null,
      "metadata": {
        "id": "fd0UJpCGGDhz"
      },
      "outputs": [],
      "source": [
        "rgen = randint(0, 10)\n",
        "rgen.rvs(10)\n"
      ]
    },
    {
      "cell_type": "code",
      "execution_count": null,
      "metadata": {
        "colab": {
          "base_uri": "https://localhost:8080/",
          "height": 50
        },
        "id": "ch3zTUohIJR6",
        "outputId": "c09ba926-927d-4ae1-9e35-433c11ad5014"
      },
      "outputs": [
        {
          "data": {
            "text/plain": [
              "(array([0, 1, 2, 3, 4, 5, 6, 7, 8, 9]),\n",
              " array([106,  91, 107,  92, 114, 109,  99,  89, 104,  89]))"
            ]
          },
          "execution_count": 24,
          "metadata": {
            "tags": []
          },
          "output_type": "execute_result"
        }
      ],
      "source": [
        "np.unique(rgen.rvs(1000), return_counts=True)"
      ]
    },
    {
      "cell_type": "code",
      "execution_count": null,
      "metadata": {
        "colab": {
          "base_uri": "https://localhost:8080/",
          "height": 50
        },
        "id": "bGhshTn0IjkI",
        "outputId": "36e8962b-f517-4521-d272-d829ced45377"
      },
      "outputs": [
        {
          "data": {
            "text/plain": [
              "array([0.0055196 , 0.26980899, 0.39549827, 0.65309536, 0.82688711,\n",
              "       0.41958107, 0.89543513, 0.9064824 , 0.59886065, 0.6123146 ])"
            ]
          },
          "execution_count": 25,
          "metadata": {
            "tags": []
          },
          "output_type": "execute_result"
        }
      ],
      "source": [
        "ugen = uniform(0, 1)\n",
        "ugen.rvs(10)"
      ]
    },
    {
      "cell_type": "markdown",
      "metadata": {
        "id": "J7GVwqjjuzEG"
      },
      "source": [
        "#### 파라미터 생성"
      ]
    },
    {
      "cell_type": "code",
      "execution_count": null,
      "metadata": {
        "id": "irDX9e6WYTIH"
      },
      "outputs": [],
      "source": [
        "params = {'min_impurity_decrease': uniform(0.0001, 0.001),\n",
        "          'max_depth': randint(20, 50),\n",
        "          'min_samples_split': randint(2, 25),\n",
        "          'min_samples_leaf': randint(1, 25),\n",
        "          }"
      ]
    },
    {
      "cell_type": "markdown",
      "metadata": {
        "id": "pGV0efI4uzEG"
      },
      "source": [
        "#### RandomizedSearchCV 적용하여 학습"
      ]
    },
    {
      "cell_type": "code",
      "execution_count": null,
      "metadata": {
        "colab": {
          "base_uri": "https://localhost:8080/",
          "height": 373
        },
        "id": "Wc4OIingWQCK",
        "outputId": "2356814b-81f8-4edc-e3d1-fb5ea47c0a80"
      },
      "outputs": [
        {
          "data": {
            "text/plain": [
              "RandomizedSearchCV(cv=None, error_score=nan,\n",
              "                   estimator=DecisionTreeClassifier(ccp_alpha=0.0,\n",
              "                                                    class_weight=None,\n",
              "                                                    criterion='gini',\n",
              "                                                    max_depth=None,\n",
              "                                                    max_features=None,\n",
              "                                                    max_leaf_nodes=None,\n",
              "                                                    min_impurity_decrease=0.0,\n",
              "                                                    min_impurity_split=None,\n",
              "                                                    min_samples_leaf=1,\n",
              "                                                    min_samples_split=2,\n",
              "                                                    min_weight_fraction_leaf=0.0,\n",
              "                                                    presort='deprecated',\n",
              "                                                    random_state=42,\n",
              "                                                    splitter='best'),...\n",
              "                                        'min_impurity_decrease': <scipy.stats._distn_infrastructure.rv_frozen object at 0x7fbd311da908>,\n",
              "                                        'min_samples_leaf': <scipy.stats._distn_infrastructure.rv_frozen object at 0x7fbd311da4e0>,\n",
              "                                        'min_samples_split': <scipy.stats._distn_infrastructure.rv_frozen object at 0x7fbd311daba8>},\n",
              "                   pre_dispatch='2*n_jobs', random_state=42, refit=True,\n",
              "                   return_train_score=False, scoring=None, verbose=0)"
            ]
          },
          "execution_count": 27,
          "metadata": {
            "tags": []
          },
          "output_type": "execute_result"
        }
      ],
      "source": [
        "from sklearn.model_selection import RandomizedSearchCV\n",
        "\n",
        "gs = RandomizedSearchCV(DecisionTreeClassifier(random_state=42), params, \n",
        "                        n_iter=100, n_jobs=-1, random_state=42)\n",
        "gs.fit(train_input, train_target)"
      ]
    },
    {
      "cell_type": "code",
      "execution_count": null,
      "metadata": {
        "colab": {
          "base_uri": "https://localhost:8080/",
          "height": 54
        },
        "id": "p7IbsGH3ZSv-",
        "outputId": "f922b219-eef0-4c97-bc93-d46b4c6a536e"
      },
      "outputs": [
        {
          "name": "stdout",
          "output_type": "stream",
          "text": [
            "{'max_depth': 39, 'min_impurity_decrease': 0.00034102546602601173, 'min_samples_leaf': 7, 'min_samples_split': 13}\n"
          ]
        }
      ],
      "source": [
        "print(gs.best_params_)"
      ]
    },
    {
      "cell_type": "code",
      "execution_count": null,
      "metadata": {
        "colab": {
          "base_uri": "https://localhost:8080/",
          "height": 34
        },
        "id": "dYI3HwMQbtnr",
        "outputId": "2b0f60b9-6fe3-455e-d44a-05c9e892992b"
      },
      "outputs": [
        {
          "name": "stdout",
          "output_type": "stream",
          "text": [
            "0.8695428296438884\n"
          ]
        }
      ],
      "source": [
        "print(np.max(gs.cv_results_['mean_test_score']))"
      ]
    },
    {
      "cell_type": "markdown",
      "metadata": {
        "id": "0Nd7Uu3_uzEH"
      },
      "source": [
        "### 모델 평가"
      ]
    },
    {
      "cell_type": "code",
      "execution_count": null,
      "metadata": {
        "colab": {
          "base_uri": "https://localhost:8080/",
          "height": 34
        },
        "id": "3QV7yRpidByf",
        "outputId": "0db866cd-995e-4d20-9933-7b2c4f249592"
      },
      "outputs": [
        {
          "name": "stdout",
          "output_type": "stream",
          "text": [
            "0.86\n"
          ]
        }
      ],
      "source": [
        "dt = gs.best_estimator_\n",
        "\n",
        "print(dt.score(test_input, test_target))"
      ]
    }
  ],
  "metadata": {
    "colab": {
      "provenance": [],
      "gpuType": "T4",
      "toc_visible": true,
      "include_colab_link": true
    },
    "kernelspec": {
      "display_name": "TensorFlow 2.3 on Python 3.6 (CUDA 10.1)",
      "language": "python",
      "name": "python3"
    },
    "language_info": {
      "codemirror_mode": {
        "name": "ipython",
        "version": 3
      },
      "file_extension": ".py",
      "mimetype": "text/x-python",
      "name": "python",
      "nbconvert_exporter": "python",
      "pygments_lexer": "ipython3",
      "version": "3.11.3"
    },
    "accelerator": "GPU",
    "gpuClass": "standard"
  },
  "nbformat": 4,
  "nbformat_minor": 0
}